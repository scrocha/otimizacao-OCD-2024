{
 "cells": [
  {
   "cell_type": "markdown",
   "id": "7ef99c99",
   "metadata": {},
   "source": [
    "<div hidden>\n",
    "$\\DeclareMathOperator{tr}{tr}$\n",
    "$\\DeclareMathOperator{sign}{sign}$\n",
    "$\\DeclareMathOperator{\\argmin}{argmin}$\n",
    "</div>\n",
    "\n",
    "# Decomposição aditiva de matrizes\n",
    "\n",
    "Considere novamente problemas de estimação cujo parâmetro tem a estrutura de matriz. Modelamos anteriormente o caso em que o parâmetro tem posto pequeno. Existem aplicações em que vale a pena modelar o parâmetro da forma\n",
    "\n",
    "$$\n",
    "B^* = \\Gamma^* + S^*,  \n",
    "$$\n",
    "\n",
    "onde $\\Gamma^*$ é uma matriz de posto $r$ e $S^*$ é uma matriz com no máximo $s$ entradas não-nulas. são matrizes $\\mathbb{R}^{d_1\\times d_2}$. Neste projeto iremos implementar métodos iterativos para achar a solução do seguinte estimador de mínimos quadrados regularizado:\n",
    "\n",
    "\\begin{equation*}\n",
    "\\begin{aligned}\n",
    "& \\underset{[\\Gamma,S]\\in(\\mathbb{R}^{d_1\\times d_2})^2}{\\text{minimize}}\n",
    "& & f(\\Gamma,S) + \\lambda\\Vert \\Gamma\\Vert_N + \\tau\\Vert S\\Vert_1, \\\\\n",
    "& \\text{sujeito à}\n",
    "& & \\Vert\\Gamma\\Vert_\\infty\\le a, \n",
    "\\end{aligned}\n",
    "\\end{equation*}\n",
    "onde \n",
    "\n",
    "$$\n",
    "f(\\Gamma, S) := \\frac{1}{2n}\\sum_{i=1}^n\\left\\{\n",
    "y_i-tr\\left(\n",
    "X_i^\\top(\\Gamma + S)\n",
    "\\right)\n",
    "\\right\\}^2, \n",
    "$$\n",
    "\n",
    "$(y_1,X_1), \\ldots, (y_n,X_n)$ é uma amostra de labels/features em $\\mathbb{R}\\times\\mathbb{R}^{d_1\\times d_2}$. Àcima, $\\lambda,\\tau,a>0$ são hyper-parâmetros,  \n",
    "\n",
    "$$\n",
    "\\Vert \\Gamma\\Vert_N := \\sum_{j=1}^{\\min\\{d_1,d_2\\}}\\sigma(B),\n",
    "$$\n",
    "\n",
    "é a *norma nuclear* da matriz $\\Gamma$, onde $\\sigma_1(\\Gamma)\\ge\\cdots\\ge\\sigma_{\\min\\{d_1,d_2\\}}(\\Gamma)$ são os valores singulares de $B$. Além disso,  \n",
    "\n",
    "$$\n",
    "\\Vert \\Gamma\\Vert_\\infty := \\max_{(j,k)\\in[d_1]\\times[d_2]}|\\Gamma_{jk}|,\n",
    "$$\n",
    "\n",
    "é a *norma $\\ell_\\infty$* da matriz $\\Gamma$ e \n",
    "\n",
    "$$\n",
    "\\Vert S\\Vert_1 := \\sum_{j=1}^{d_1}\\sum_{k=1}^{d_2}|S_{jk}|,\n",
    "$$\n",
    "\n",
    "é a *norma $\\ell_1$* da matriz $S$.\n",
    "\n",
    "\n",
    "Exemplos de aplicação de variações deste problema incluem [*multi-task learning*](https://medium.com/gumgum-tech/multi-task-learning-what-is-it-how-does-it-work-and-why-does-it-work-294769c457bb) e [*análise multiômica*](https://academic.oup.com/bioinformatics/article/37/16/2259/6154849?login=false).\n",
    "  \n",
    "\n",
    "# Soft-Thresholding matricial\n",
    "\n",
    "\n",
    "Os métodos que veremos para os problemas anteriores se baseam na idéia de *splitting*. Por exemplo, note que o o problema de otimização em PCA robusta exige otimizar em duas variáveis $[\\Gamma, S]$. Entretanto otimizar simultaneamente é mais difícil do que otimizar alternadamente. \n",
    "\n",
    "Precisaremos computar os operadores proximais das normas nuclear e $\\ell_1$. O *operador proximal* da norma $\\lambda\\Vert\\cdot\\Vert_N$ com restrição $\\Vert\\Gamma\\Vert_{\\infty}\\le a$ é \n",
    "\n",
    "\\begin{equation*}\n",
    "P_N(W,\\lambda,a) = \n",
    "\\begin{aligned}\n",
    "& \\underset{\\Gamma \\in \\mathbb{R}^{d_1\\times d_2}}{\\text{armin}}\n",
    "& & \\frac{1}{2}\\Vert W - \\Gamma \\Vert_F^2 + \n",
    "\\lambda\\Vert \\Gamma\\Vert_N, \\\\\n",
    "& \\text{sujeito à}\n",
    "& & \\Vert\\Gamma\\Vert_\\infty\\le a.\n",
    "\\end{aligned}\n",
    "\\end{equation*}\n",
    "\n",
    "$P_N(W,\\lambda,a)$ tem fórmula explicíta. Dados $\\gamma\\in\\mathbb{R}$, defina\n",
    "\n",
    "$$\n",
    "S_a(\\gamma,\\lambda):=sign(\\gamma)\\cdot\\min\\left\\{\n",
    "\\max\\{\\gamma-\\lambda,0\\}, a\n",
    "\\right\\}.\n",
    "$$\n",
    "\n",
    "Àcima, $sign(\\gamma)$ é o sinal de $\\gamma$. Seja agora a decomposição de valores singulares (SVD) de $W$:\n",
    "$$\n",
    "W = U\\cdot D(\\gamma_1,\\ldots,\\gamma_r)\\cdot V^\\top.\n",
    "$$\n",
    "Então, \n",
    "$$\n",
    "P_N(W,\\lambda,a) = U\\cdot D\\left( S_a(\\gamma_1,\\lambda),\\ldots, S_a(\\gamma_r,\\lambda)\\right)\\cdot V^\\top, \n",
    "$$\n",
    "chamado de matriz *constraint soft-thresholding* de $W$.\n",
    "\n",
    "O *operador proximal* da norma $\\tau\\Vert\\cdot\\Vert_1$ é \n",
    "\n",
    "$$\n",
    "P_1(W,\\tau)\\in\\argmin_{S\\in\\mathbb{R}^{d_1\\times d_2}}\\left\\{\n",
    "\\frac{1}{2}\\Vert W - S\\Vert_F^2 + \\tau\\Vert S\\Vert_1\n",
    "\\right\\}.\n",
    "$$\n",
    "\n",
    "$P_1(W,\\tau)$ também tem fórmula explicíta. Dados $\\gamma\\in\\mathbb{R}$, defina\n",
    "\n",
    "$$\n",
    "S(\\gamma,\\lambda):=sign(\\gamma)\\cdot\\max\\{\\gamma-\\lambda,0\\}.\n",
    "$$\n",
    "\n",
    "$P_1(W,\\tau)$ é a matriz $d_1\\times d_2$ cuja $[j,k]$-ézima entrada é $S(W_{j,k},\\tau)$. "
   ]
  },
  {
   "cell_type": "code",
   "execution_count": 1,
   "id": "372cd1e7",
   "metadata": {},
   "outputs": [],
   "source": [
    "import matplotlib\n",
    "import numpy as np\n",
    "import scipy\n",
    "from scipy.linalg import svd\n",
    "from scipy.stats import ortho_group\n",
    "import seaborn as sns\n",
    "import matplotlib.pyplot as plt\n",
    "import numpy.linalg as la\n",
    "import math"
   ]
  },
  {
   "cell_type": "markdown",
   "id": "7d7dcc4d",
   "metadata": {},
   "source": [
    "# Exercício 1:\n",
    "\n",
    "Construa as funções ``soft(x,l)`` que retorna $S(x,\\lambda)$ e ``csoft(x,l,a)`` que retorna $S_a(x,\\lambda)$. "
   ]
  },
  {
   "cell_type": "code",
   "execution_count": 2,
   "id": "3cd3cfc9",
   "metadata": {},
   "outputs": [],
   "source": [
    "#Escreva o código aqui\n",
    "\n",
    "def soft(x, l):\n",
    "    return np.sign(x) * np.maximum(np.abs(x) - l, 0)\n",
    "\n",
    "def csoft(x, l, a):\n",
    "    return np.sign(x) * np.minimum(np.maximum(np.abs(x) - l, 0), a)"
   ]
  },
  {
   "cell_type": "markdown",
   "id": "1d2ae7c2",
   "metadata": {},
   "source": [
    "# Exercício 2: Gerando dados\n",
    "\n",
    "Construa uma função ``data_genG(n,d1,d2,r,Gamma_mag)`` que toma $d_1$, $d_2$, posto $r$ e número positivo ``Gamma_mag`` e retorna a matriz $\\Gamma^*$ de dimensão $d_1\\times d_2$ e posto $r$ com $\\Vert\\Gamma\\Vert_\\infty$ no máximo $\\Gamma_{mag}/\\sqrt{n}$. Ao gerar esta matriz $\\Gamma^*$, use a função ```scipy.stats.ortho_group``` para construir duas matrizes $U$ e $V$ aleatórias ortogonais de dimensões $d_1\\times r$ e $d_2\\times r$ respectivamente; compute $U\\cdot D(\\Gamma_{mag},\\ldots,\\Gamma_{mag})\\cdot V^\\top$ e finalmente, normalize esta matriz entrada por entrada para satisfazer $\\Vert\\Gamma^*\\Vert\\le\\Gamma_{mag}/\\sqrt{n}$."
   ]
  },
  {
   "cell_type": "code",
   "execution_count": 3,
   "id": "e39d03be",
   "metadata": {},
   "outputs": [],
   "source": [
    "#Escreva o código aqui\n",
    "def data_genG(n:int, d1:int, d2:int, r:int, Gamma_mag):\n",
    "    U = ortho_group.rvs(d1)[:, :r]\n",
    "    V = ortho_group.rvs(d2)[:, :r]\n",
    "    \n",
    "    D = np.diag([Gamma_mag] * r)\n",
    "    \n",
    "    G = U @ D @ V.T\n",
    "    \n",
    "    max_abs_value = np.max(np.abs(G))\n",
    "    scaling_factor = Gamma_mag / (np.sqrt(n) * max_abs_value)\n",
    "    G *= scaling_factor\n",
    "    \n",
    "    return G"
   ]
  },
  {
   "cell_type": "code",
   "execution_count": 4,
   "id": "d2ae0a4d",
   "metadata": {},
   "outputs": [
    {
     "data": {
      "text/plain": [
       "((10, 10),\n",
       " 1.0,\n",
       " array([[-0.42187262,  0.55328207,  0.2171603 , -0.20421857,  0.52953927,\n",
       "         -0.02060064,  0.53473682,  0.4527731 , -0.2120356 ,  0.06218752],\n",
       "        [-0.5409882 ,  0.09371108, -0.14410877, -0.14199207,  0.04294596,\n",
       "         -0.109126  ,  0.43641951,  0.24447735,  0.19535916, -0.16521978],\n",
       "        [ 0.76732249,  0.3742168 , -0.28972247,  0.07739759, -0.11144191,\n",
       "         -0.57465551,  0.42209138, -0.78452819,  0.60852441,  0.30804861],\n",
       "        [ 0.57403495,  1.        , -0.20098003, -0.77338194,  0.03818447,\n",
       "         -0.19841339,  0.06556898,  0.81637828, -0.04405147, -0.10848034],\n",
       "        [ 0.32280045,  0.02018275,  0.35648627,  0.34734525,  0.00420011,\n",
       "         -0.06832103, -0.37429441, -0.17951131, -0.1981988 ,  0.49770762],\n",
       "        [-0.67707884, -0.23809561, -0.35303239, -0.01424636, -0.39745748,\n",
       "         -0.25987066,  0.28680064,  0.14727568,  0.51794812, -0.19946587],\n",
       "        [-0.5494363 ,  0.36118061,  0.21775506,  0.43829535, -0.02138071,\n",
       "         -0.71825095,  0.53266719, -0.05229708,  0.43214836,  0.74657006],\n",
       "        [ 0.21043447, -0.18092689, -0.6357246 , -0.30897326, -0.86318457,\n",
       "         -0.25991688, -0.33955952,  0.23221134,  0.56878178, -0.3423948 ],\n",
       "        [ 0.50148639,  0.10820231, -0.20822442, -0.22285335,  0.56016618,\n",
       "          0.25066299,  0.59851694, -0.72027739, -0.00847907, -0.39794465],\n",
       "        [ 0.33635738,  0.31195881,  0.31383422,  0.17728939, -0.30330672,\n",
       "         -0.30966747, -0.60030638,  0.37365908, -0.11651922,  0.63462389]]))"
      ]
     },
     "execution_count": 4,
     "metadata": {},
     "output_type": "execute_result"
    }
   ],
   "source": [
    "#Exemplo:\n",
    "n=100\n",
    "d_1=10\n",
    "d_2=10\n",
    "r=5\n",
    "Gamma_mag=10\n",
    "Gamma_true = data_genG(n,d_1,d_2,r,Gamma_mag)\n",
    "Gamma_true.shape, np.max(abs(Gamma_true)), Gamma_true, "
   ]
  },
  {
   "cell_type": "markdown",
   "id": "c9135e08",
   "metadata": {},
   "source": [
    "# Exercício 3: Gerando dados\n",
    "\n",
    "Construa uma função ``data_genS(d1,d2,s,S_mag)`` que toma $d_1$, $d_2$, esparsidade $s\\in[d_1d_2]$ e número positivo ``S_mag`` e retorna a matriz $d_1\\times d_2$ com $s$ entradas iguais a $S_{mag}$ e outras entradas iguais a zero. Escolha as entradas não-nulas aleatoriamente."
   ]
  },
  {
   "cell_type": "code",
   "execution_count": 5,
   "id": "8ce7e529",
   "metadata": {},
   "outputs": [],
   "source": [
    "#Escreva o código aqui\n",
    "def data_genS(d1, d2, s, S_mag):\n",
    "    S_2 = np.zeros((d1, d2))\n",
    "    \n",
    "    indices = np.random.choice(d1 * d2, size=s, replace=False)\n",
    "    \n",
    "    np.put(S_2, indices, S_mag)\n",
    "    \n",
    "    return S_2"
   ]
  },
  {
   "cell_type": "code",
   "execution_count": 6,
   "id": "9dcea37b",
   "metadata": {},
   "outputs": [
    {
     "data": {
      "text/plain": [
       "array([[10.,  0., 10.,  0.,  0.],\n",
       "       [ 0.,  0.,  0., 10.,  0.],\n",
       "       [ 0.,  0.,  0.,  0.,  0.],\n",
       "       [ 0.,  0.,  0.,  0.,  0.],\n",
       "       [ 0.,  0.,  0.,  0.,  0.],\n",
       "       [ 0., 10.,  0., 10., 10.],\n",
       "       [ 0.,  0., 10.,  0.,  0.],\n",
       "       [ 0.,  0., 10.,  0., 10.],\n",
       "       [ 0.,  0.,  0.,  0., 10.],\n",
       "       [ 0.,  0.,  0.,  0.,  0.],\n",
       "       [ 0.,  0.,  0.,  0.,  0.],\n",
       "       [ 0.,  0.,  0.,  0.,  0.]])"
      ]
     },
     "execution_count": 6,
     "metadata": {},
     "output_type": "execute_result"
    }
   ],
   "source": [
    "#Exemplo:\n",
    "d_1=12\n",
    "d_2=5\n",
    "s=10\n",
    "S_mag=10\n",
    "S_true = data_genS(d_1,d_2,s,S_mag)\n",
    "S_true"
   ]
  },
  {
   "cell_type": "markdown",
   "id": "df297eab",
   "metadata": {},
   "source": [
    "# Exercício 4:\n",
    "\n",
    "Construa uma função ``data_genXe(n,d_1,d_2,Gamma_true,S_true,sd)`` que toma $n$, $d_1$, $d_2$, $\\Gamma^*$, $S^*$ e um número positivo ``sd`` e constrói os dados ``X``, uma lista de $n$ matrizes $X_i$ de dimensão $d_1\\times d_2$ independentes cujas entradas são iid normais padrão. A função também retorna o vetor ``y`` de dimensão $n$ cujas coordenadas satisfazem\n",
    "\n",
    "$$\n",
    "y_i = tr(X_i^\\top (\\Gamma^* + S^*)) + \\text{sd}\\cdot\\epsilon_i,\n",
    "$$\n",
    "onde $\\{\\epsilon_i\\}_{i=1}^n$ é uma sequência iid de normais padrão. "
   ]
  },
  {
   "cell_type": "code",
   "execution_count": 7,
   "id": "f0151c52",
   "metadata": {},
   "outputs": [],
   "source": [
    "#Escreva o código aqui\n",
    "def data_genXe(n ,d1, d2, B_true, sd):\n",
    "    X = [np.random.normal(0, 1, (d1, d2)) for _ in range(n)]\n",
    "    y = np.zeros(n)\n",
    "    \n",
    "    for i in range(n):\n",
    "        epsilon_i = np.random.normal(0, 1)\n",
    "        y[i] = np.trace(X[i].T @ (B_true)) + sd * epsilon_i\n",
    "    \n",
    "    return X, y.reshape(-1, 1)"
   ]
  },
  {
   "cell_type": "code",
   "execution_count": 8,
   "id": "540010cc",
   "metadata": {},
   "outputs": [],
   "source": [
    "#Exemplo:\n",
    "d_1=40\n",
    "d_2=40\n",
    "r=5\n",
    "s=10\n",
    "Gamma_mag=10\n",
    "S_mag=10\n",
    "sd = 1\n",
    "n = 100\n",
    "\n",
    "Gamma_true = data_genG(n,d_1,d_2,r,Gamma_mag)\n",
    "S_true = data_genS(d_1,d_2,s,S_mag)\n",
    "B_true = Gamma_true + S_true\n",
    "X,y = data_genXe(n,d_1,d_2,B_true,sd)"
   ]
  },
  {
   "cell_type": "code",
   "execution_count": 9,
   "id": "be88eeaa",
   "metadata": {},
   "outputs": [
    {
     "data": {
      "text/plain": [
       "(list, 100, (40, 40))"
      ]
     },
     "execution_count": 9,
     "metadata": {},
     "output_type": "execute_result"
    }
   ],
   "source": [
    "type(X), len(X), X[0].shape"
   ]
  },
  {
   "cell_type": "code",
   "execution_count": 10,
   "id": "c0558325",
   "metadata": {},
   "outputs": [
    {
     "data": {
      "text/plain": [
       "(numpy.ndarray, 100, (100, 1))"
      ]
     },
     "execution_count": 10,
     "metadata": {},
     "output_type": "execute_result"
    }
   ],
   "source": [
    "type(y), len(y), y.shape"
   ]
  },
  {
   "cell_type": "markdown",
   "id": "a24227da",
   "metadata": {},
   "source": [
    "# Exercício 5:\n",
    "\n",
    "Construa uma função `df(Gamma,S)` que retorna o gradiente $\\nabla f(\\Gamma, S)$."
   ]
  },
  {
   "cell_type": "code",
   "execution_count": 11,
   "id": "d8da47f7",
   "metadata": {},
   "outputs": [],
   "source": [
    "#Escreva o código aqui\n",
    "def df(Gamma, S, X, y):\n",
    "    n = len(X)\n",
    "    d1, d2 = Gamma.shape\n",
    "    \n",
    "    grad = np.zeros((d1, d2))\n",
    "    \n",
    "    for i in range(n):\n",
    "        residual = y[i] - np.trace(X[i].T @ (Gamma + S))\n",
    "        grad -= residual * X[i]\n",
    "    \n",
    "    return grad/n"
   ]
  },
  {
   "cell_type": "code",
   "execution_count": 12,
   "id": "42038b0c",
   "metadata": {},
   "outputs": [
    {
     "data": {
      "text/plain": [
       "((40, 40),\n",
       " array([[ 0.08506959,  0.18717581,  0.06859191, ..., -0.09339402,\n",
       "          0.15206947,  0.03208166],\n",
       "        [-0.01850437,  0.03831898, -0.02895756, ..., -0.01873623,\n",
       "         -0.08415535,  0.11585447],\n",
       "        [ 0.00823056, -0.04246714,  0.00640293, ..., -0.14865749,\n",
       "          0.08600676, -0.12564941],\n",
       "        ...,\n",
       "        [ 0.02703878,  0.08564664, -0.08145885, ..., -0.02017547,\n",
       "          0.09818139,  0.05402737],\n",
       "        [ 0.11920799,  0.04541928, -0.02159524, ...,  0.19061568,\n",
       "         -0.04579865,  0.03435196],\n",
       "        [-0.2074802 ,  0.23971828, -0.13095461, ...,  0.00108825,\n",
       "         -0.030078  , -0.04384875]]))"
      ]
     },
     "execution_count": 12,
     "metadata": {},
     "output_type": "execute_result"
    }
   ],
   "source": [
    "df(Gamma_true,S_true, X, y).shape, df(Gamma_true,S_true, X, y)"
   ]
  },
  {
   "cell_type": "markdown",
   "id": "32600d8c",
   "metadata": {},
   "source": [
    "# Exercício 6: \n",
    "\n",
    "Vamos usar o método gradiente proximal com splitting para resolver o problema àcima:\n",
    "\n",
    "\\begin{align*}\n",
    "W_{\\Gamma,k+1} &:= \\Gamma_k - \\frac{1}{L}\\nabla f(\\Gamma_k,S_k),\\\\\n",
    "W_{S,k+1} &:= S_k - \\frac{1}{L}\\nabla f(\\Gamma_k,S_k),\\\\\n",
    "\\Gamma_{k+1} &:= P_N\\left(W_{\\Gamma, k+1},\\frac{\\lambda}{L},a\\right), \\\\\n",
    "S_{k+1} &:= P_1\\left(W_{S, k+1},\\frac{\\tau}{L}\\right).\n",
    "\\end{align*}\n",
    "\n",
    "Construa uma função ``trace_reg_MD(Df, n,d_1,d_2,X,y,L,lambd,tau,a, Gamma0,S0,tfinal)`` onde `Df` é uma função que retorna o gradiente, $1/L$ é o passo, ``lambd`` ($=\\lambda$) e ``tau`` ($=\\tau$) são os fatores de penalização, ``Gamma0`` e ``S0`` são os pontos iniciais, e a variável ``tfinal`` é o número de iterações. A função deve retornar a sequência $k\\mapsto\\Vert\\nabla f(\\Gamma_k,S_k)\\Vert_F^2$ e os últimos iterados $\\Gamma_{\\text{tfinal}}$ e $S_{\\text{tfinal}}$. Use hyper-parâmetros:\n",
    "\n",
    "\\begin{align*}\n",
    "a &= \\frac{\\Gamma_{mag}}{\\sqrt{n}},\\\\\n",
    "\\lambda &= \\text{sd}\\sqrt{\\frac{d_1+d_2}{n}},\\\\\n",
    "\\tau &= \\text{sd}\\sqrt{\\frac{\\log(d_1d_2)}{n}} + \\frac{\\Gamma_{mag}}{\\sqrt{n}}.\n",
    "\\end{align*}\n",
    "\n",
    "e passo $A/L$ ajustando $A\\ge1$ com\n",
    "$$\n",
    "L = A \\cdot \\lambda_{\\max}\\left(\n",
    "\\frac{1}{n}\\sum_{i=1}^n\\text{vec}(X_i)\\text{vec}^\\top(X_i)\n",
    "\\right),\n",
    "$$ \n",
    "onde $\\text{vec}(X_i)$ representa a matrix $d_1\\times d_2$ $X_i$ em forma vetorial de dimensão $d_1d_2$."
   ]
  },
  {
   "cell_type": "code",
   "execution_count": 13,
   "id": "4c99d930",
   "metadata": {},
   "outputs": [],
   "source": [
    "#Escreva o código aqui\n",
    "def trace_reg_MD(Df, n, d1, d2, X, y, L, lambd, tau, a, Gamma0, S0, tfinal):\n",
    "    Gamma, S = Gamma0, S0\n",
    "    grad_norms = list()\n",
    "    \n",
    "    for t in range(tfinal):\n",
    "        grad = Df(Gamma, S, X, y)\n",
    "        \n",
    "        W_Gamma = Gamma - (1 / L) * grad\n",
    "        W_S = S - (1 / L) * grad\n",
    "        \n",
    "        U, D, Vt = svd(W_Gamma, full_matrices=False)\n",
    "        D_thresholded = csoft(D, lambd, a)\n",
    "        Gamma = U @ np.diag(D_thresholded) @ Vt\n",
    "        S = soft(W_S, tau / L)\n",
    "        \n",
    "        grad_norm = np.linalg.norm(grad) ** 2\n",
    "        grad_norms.append(grad_norm)\n",
    "    \n",
    "    return grad_norms, Gamma, S"
   ]
  },
  {
   "cell_type": "code",
   "execution_count": 14,
   "id": "7d6182df",
   "metadata": {
    "scrolled": true
   },
   "outputs": [
    {
     "data": {
      "text/plain": [
       "[<matplotlib.lines.Line2D at 0x7f3ca2fb1c90>]"
      ]
     },
     "execution_count": 14,
     "metadata": {},
     "output_type": "execute_result"
    },
    {
     "data": {
      "image/png": "[encoded data removed]",
      "text/plain": [
       "<Figure size 640x480 with 1 Axes>"
      ]
     },
     "metadata": {},
     "output_type": "display_data"
    }
   ],
   "source": [
    "#Exemplo:\n",
    "Gamma0 = np.ones((d_1,d_2))\n",
    "S0 = np.ones((d_1,d_2))\n",
    "tfinal = 100\n",
    "\n",
    "#Cálculo de L:\n",
    "aux = []\n",
    "for i in range(n):\n",
    "    xi = np.asarray(X[i])\n",
    "    aux.append(xi @ xi.T)\n",
    "L = 4*np.max(la.eigvalsh(sum(aux)/n))\n",
    "\n",
    "\n",
    "lambd = sd*np.sqrt((d_1+d_2)/n)\n",
    "a = Gamma_mag/np.sqrt(n)\n",
    "tau = sd*np.sqrt(np.log(d_1*d_2)/n) + Gamma_mag/np.sqrt(n)\n",
    "\n",
    "f1 = trace_reg_MD(df, n,d_1,d_2,X,y,L,lambd,tau,a,Gamma0,S0,tfinal)\n",
    "plt.plot(f1[0])"
   ]
  },
  {
   "cell_type": "markdown",
   "id": "5e8ecd8c",
   "metadata": {},
   "source": [
    "# Exercício 7: \n",
    "\n",
    "O que acontece se $A$ for muito pequeno? "
   ]
  },
  {
   "cell_type": "markdown",
   "id": "2c1e2003",
   "metadata": {},
   "source": [
    "Se o valor de $A$ for muito pequeno, ele resultará em um passo $\\frac{1}{L}$​ grande demais no método de gradiente proximal. Com um passo excessivo, as atualizações de $\\Gamma$ e $S$ podem se afastar muito dos pontos anteriores, resultando em instabilidade nas iterações e, eventualmente, fazendo com que o algoritmo não converja para uma solução ótima. Por fim, em vez de se moverem em direção ao mínimo, as iterações podem oscilar ou “pular” ao redor do ponto de convergência, sem nunca realmente estabilizar."
   ]
  },
  {
   "cell_type": "markdown",
   "id": "e1ac1c72",
   "metadata": {},
   "source": [
    "# Exercício 8: \n",
    "\n",
    "Agora, vamos usar o método gradiente proximal com splitting *acelerado*: iniciando de `[Gamma0,S0]=[Zg0,Zs0]` e $t_0=1$:\n",
    "\n",
    "\\begin{align*}\n",
    "Z_{\\Gamma, k+1}&:= P_N\\left(\n",
    "\\Gamma_k - (1/L)\\nabla f(\\Gamma_k,S_k), \\frac{\\lambda}{L}, a\n",
    "\\right),\\\\\n",
    "Z_{S, k+1}&:= P_1\\left(\n",
    "S_k - (1/L)\\nabla f(\\Gamma_k,S_k), \\frac{\\tau}{L}\n",
    "\\right),\\\\\n",
    "t_{k+1} &:= \\frac{1+\\sqrt{1+4t_k^2}}{2},\\\\\n",
    "\\Gamma_{k+1} &:= Z_{\\Gamma, k+1} + \\frac{t_{k}-1}{t_{k+1}}(Z_{\\Gamma, k+1} - Z_{\\Gamma, k}),\\\\\n",
    "S_{k+1} &:= Z_{S, k+1} + \\frac{t_{k}-1}{t_{k+1}}(Z_{S, k+1} - Z_{S, k}).\n",
    "\\end{align*}\n",
    "\n",
    "Construa uma função ``trace_reg_MD_acc(Df, n,d_1,d_2,X,y,L,lambd,tau,a,Gamma0,S0,tfinal)`` onde `Df` é uma função que retorna o gradiente, $1/L$ é o passo, ``lambd`` ($=\\lambda$) e ``tau`` ($=\\tau$) são os fatores de penalização, ``Gamma0`` e ``S0`` são os pontos iniciais, e a variável ``tfinal`` é o número de iterações. A função deve retornar a sequência $k\\mapsto\\Vert\\nabla f(\\Gamma_k,S_k)\\Vert_F^2$ e os últimos iterados $\\Gamma_{\\text{tfinal}}$ e $S_{\\text{tfinal}}$. Use hyper-parâmetros:\n",
    "\n",
    "\\begin{align*}\n",
    "a &= \\frac{\\Gamma_{mag}}{\\sqrt{n}},\\\\\n",
    "\\lambda &= \\text{sd}\\sqrt{\\frac{d_1+d_2}{n}},\\\\\n",
    "\\tau &= \\text{sd}\\sqrt{\\frac{\\log(d_1d_2)}{n}} + \\frac{\\Gamma_{mag}}{\\sqrt{n}}.\n",
    "\\end{align*}\n",
    "\n",
    "e passo $A/L$ ajustando $A\\ge1$ com\n",
    "$$\n",
    "L = A \\cdot \\lambda_{\\max}\\left(\n",
    "\\frac{1}{n}\\sum_{i=1}^n\\text{vec}(X_i)\\text{vec}^\\top(X_i)\n",
    "\\right).\n",
    "$$  "
   ]
  },
  {
   "cell_type": "code",
   "execution_count": 15,
   "id": "fe0733bb",
   "metadata": {},
   "outputs": [],
   "source": [
    "#Escreva o código aqui\n",
    "def trace_reg_MD_acc(Df, n, d1, d2, X, y, L, lambd, tau, a, Gamma0, S0, tfinal):\n",
    "    Gamma_k, S_k = Gamma0, S0\n",
    "    Zg_k, Zs_k = Gamma0, S0\n",
    "    t_k = 1\n",
    "    gradient_norms = []\n",
    "\n",
    "    for k in range(tfinal):\n",
    "        grad = Df(Gamma_k, S_k, X, y)\n",
    "        \n",
    "        U, D, Vt = svd(Gamma_k - (1/L) * grad, full_matrices=False)\n",
    "        D_thresholded = csoft(D, lambd  / L, a)\n",
    "        Zg_next = U @ np.diag(D_thresholded) @ Vt\n",
    "\n",
    "        Zs_next = soft(S_k - (1/L) * grad, tau / L)\n",
    "\n",
    "        t_next = (1 + np.sqrt(1 + 4 * t_k ** 2)) / 2\n",
    "\n",
    "\n",
    "        Gamma_next = Zg_next + ((t_k - 1) / t_next) * (Zg_next - Zg_k)\n",
    "        S_next = Zs_next + ((t_k - 1) / t_next) * (Zs_next - Zs_k)\n",
    "\n",
    "        grad_norm = np.linalg.norm(grad) ** 2\n",
    "        gradient_norms.append(grad_norm)\n",
    "\n",
    "        Gamma_k, S_k = Gamma_next, S_next\n",
    "        Zg_k, Zs_k = Zg_next, Zs_next\n",
    "        t_k = t_next\n",
    "\n",
    "    return gradient_norms, Gamma_k, S_k"
   ]
  },
  {
   "cell_type": "code",
   "execution_count": 16,
   "id": "5e3f59a5",
   "metadata": {},
   "outputs": [
    {
     "data": {
      "text/plain": [
       "[<matplotlib.lines.Line2D at 0x7f3ca1e60850>]"
      ]
     },
     "execution_count": 16,
     "metadata": {},
     "output_type": "execute_result"
    },
    {
     "data": {
      "image/png": "[encoded data removed]",
      "text/plain": [
       "<Figure size 640x480 with 1 Axes>"
      ]
     },
     "metadata": {},
     "output_type": "display_data"
    }
   ],
   "source": [
    "Gamma0 = np.ones((d_1,d_2))\n",
    "S0 = np.ones((d_1,d_2))\n",
    "tfinal = 100\n",
    "\n",
    "#Cálculo de L:\n",
    "aux = []\n",
    "for i in range(n):\n",
    "    xi = np.asarray(X[i])\n",
    "    aux.append(xi @ xi.T)\n",
    "L = 4*np.max(la.eigvalsh(sum(aux)/n))\n",
    "\n",
    "lambd = sd*np.sqrt((d_1+d_2)/n)\n",
    "a = Gamma_mag/np.sqrt(n)\n",
    "tau = sd*np.sqrt(np.log(d_1*d_2)/n) + Gamma_mag/np.sqrt(n)\n",
    "\n",
    "f2 = trace_reg_MD_acc(df, n,d_1,d_2,X,y,L,lambd,tau,a,Gamma0,S0,tfinal)\n",
    "plt.plot(f2[0])"
   ]
  },
  {
   "cell_type": "markdown",
   "id": "3a99d8bb",
   "metadata": {},
   "source": [
    "# Exercício 9: \n",
    "\n",
    "Implemente num mesmo gráfico os erros $k\\mapsto\\Vert\\nabla f(\\Gamma_k,S_k)\\Vert_F^2$ de cada método em função no número de iterações."
   ]
  },
  {
   "cell_type": "code",
   "execution_count": 17,
   "id": "e90d77b6",
   "metadata": {},
   "outputs": [
    {
     "data": {
      "image/png": "[encoded data removed]",
      "text/plain": [
       "<Figure size 800x400 with 1 Axes>"
      ]
     },
     "metadata": {},
     "output_type": "display_data"
    }
   ],
   "source": [
    "#Escreva o código aqui\n",
    "plt.figure(figsize=(8, 4))\n",
    "plt.plot(f1[0], label='ProxGrad-Split')\n",
    "plt.plot(f2[0], label='Nesterov-ProxGrad-Split')\n",
    "plt.yscale('log')\n",
    "plt.grid(True)\n",
    "plt.xlabel('Iteration')\n",
    "plt.ylabel('$||\\\\nabla f (\\\\Gamma_k , S_k)||^2_F$')\n",
    "plt.legend()\n",
    "plt.show()"
   ]
  },
  {
   "cell_type": "markdown",
   "id": "162acb1f",
   "metadata": {},
   "source": [
    "# PCA robusta\n",
    "\n",
    "O modelo anterior é *supervisionado*. Em *visão computacional*, um modelo relacionando mas não-supervisionado consiste em estimar cada uma das componentes $[\\Gamma^*,S^*]$ tendo apenas uma medição ruidosa da soma $B^*=\\Gamma^*+S^*$, por exemplo, ao separar de uma foto um carro (image esparsa) do ambiente (imagem de posto pequeno):\n",
    "\n",
    "![](Robust-PCA.png)\n",
    "\n",
    "Neste caso, resolvemos:\n",
    "\n",
    "\\begin{equation*}\n",
    "\\begin{aligned}\n",
    "& \\underset{[\\Gamma,S]\\in(\\mathbb{R}^{d_1\\times d_2})^2}{\\text{minimize}}\n",
    "& & F(\\Gamma,S) + \\lambda\\Vert \\Gamma\\Vert_N + \\tau\\Vert S\\Vert_1, \\\\\n",
    "& \\text{sujeito à}\n",
    "& & \\Vert\\Gamma\\Vert_\\infty\\le a, \n",
    "\\end{aligned}\n",
    "\\end{equation*}\n",
    "\n",
    "onde \n",
    "\n",
    "$$\n",
    "F(\\Gamma,S) = \\frac{1}{2}\\Vert Y - (\\Gamma+S)\\Vert_F^2, \n",
    "$$\n",
    "\n",
    "$Y$ é uma matriz de dados em $\\mathbb{R}\\times\\mathbb{R}^{d_1\\times d_2}$, por exemplo, uma imagem ruidosa. Aplicações incluem *vigilância por vídeos*, *reconhecimento facial*, *topic modelling* (incluindo *latent semantic analysis* e *sentiment analysis*) e *recomendação de sistemas* sujeito a dados corruptos. Veja e.g. [Robust PCA?](https://arxiv.org/abs/0912.3599) e [Video](https://www.youtube.com/watch?v=yDpz0PqULXQ)."
   ]
  },
  {
   "cell_type": "markdown",
   "id": "acf4c5d3",
   "metadata": {},
   "source": [
    "# Exercício 10:\n",
    "\n",
    "Construa uma função ``data_genYe(n,d_1,d_2,B_true,sd)`` que toma $n$, $d_1$, $d_2$, $B^*$, e um número positivo ``sd`` e constrói a matriz de dados ``Y`` tal que\n",
    "\n",
    "$$\n",
    "Y = B^* + \\text{sd}\\cdot\\Xi,\n",
    "$$\n",
    "\n",
    "onde $\\Xi$ é uma matriz $d_1\\times d_2$ cujas entradas são iid $N(0,1)$. NOTA: Iremos usar as mesmas funções anteriores para gerar $\\Gamma^*$ e $S^*$."
   ]
  },
  {
   "cell_type": "code",
   "execution_count": 18,
   "id": "3dc2a4ee",
   "metadata": {},
   "outputs": [],
   "source": [
    "#Escreva o código aqui\n",
    "def data_genYe(n, d1, d2, B_true, sd):\n",
    "    Xi = np.random.randn(d1, d2)\n",
    "    \n",
    "    Y = B_true + sd * Xi\n",
    "    \n",
    "    return Y"
   ]
  },
  {
   "cell_type": "code",
   "execution_count": 19,
   "id": "b07e89c2",
   "metadata": {},
   "outputs": [],
   "source": [
    "#Exemplo:\n",
    "d_1=40\n",
    "d_2=40\n",
    "r=5\n",
    "s=10\n",
    "Gamma_mag=10\n",
    "S_mag=10\n",
    "sd = .1\n",
    "n = 100\n",
    "\n",
    "Gamma_true = data_genG(n,d_1,d_2,r,Gamma_mag)\n",
    "S_true = data_genS(d_1,d_2,s,S_mag)\n",
    "B_true = Gamma_true + S_true\n",
    "Y = data_genYe(n,d_1,d_2,B_true,sd)"
   ]
  },
  {
   "cell_type": "code",
   "execution_count": 20,
   "id": "70e6e294",
   "metadata": {},
   "outputs": [
    {
     "data": {
      "text/plain": [
       "((40, 40),\n",
       " array([[ 0.05115475,  0.18090071,  0.37153023, ..., -0.01804078,\n",
       "         -0.12307145,  0.25458597],\n",
       "        [ 0.1639991 ,  0.40843303,  0.27775262, ...,  0.051001  ,\n",
       "         -0.33877146,  0.17772608],\n",
       "        [ 0.32774347,  0.09223662,  0.15527488, ..., -0.0776702 ,\n",
       "          0.16370881,  0.33342668],\n",
       "        ...,\n",
       "        [-0.1823469 ,  0.0658409 ,  0.06021236, ...,  0.07113265,\n",
       "          0.26412826, -0.21454433],\n",
       "        [ 0.05016745, -0.42124348, -0.61898404, ..., -0.21754548,\n",
       "          0.05491825,  0.20146984],\n",
       "        [ 0.02684213,  0.47112829,  0.11485164, ...,  0.55885306,\n",
       "          0.16081064,  0.6152685 ]]))"
      ]
     },
     "execution_count": 20,
     "metadata": {},
     "output_type": "execute_result"
    }
   ],
   "source": [
    "Y.shape, Y"
   ]
  },
  {
   "cell_type": "markdown",
   "id": "58b3f864",
   "metadata": {},
   "source": [
    "# Exercício 11:\n",
    "\n",
    "Construa uma função `dF(Gamma,S)` que retorna o gradiente $\\nabla F(\\Gamma,S)$."
   ]
  },
  {
   "cell_type": "code",
   "execution_count": 21,
   "id": "18d48f40",
   "metadata": {},
   "outputs": [],
   "source": [
    "#Escreva o código aqui\n",
    "def dF(Gamma, S, X, Y):\n",
    "    error = np.zeros_like(Gamma)\n",
    "\n",
    "    for i in range(len(X)):\n",
    "        error += X[i] - (Gamma + S)\n",
    "    \n",
    "    # dF = -error\n",
    "    dF = -error/len(X)\n",
    "    \n",
    "    return dF"
   ]
  },
  {
   "cell_type": "markdown",
   "id": "f3ec9dad",
   "metadata": {},
   "source": [
    "# Exercício 12: \n",
    "\n",
    "Vamos usar o método gradiente proximal com splitting para resolver o problema àcima. Ele tem exatamente a mesma expressão do Exercício 6 mas usando $\\nabla F(\\Gamma,S)$. Implemente o algoritmo com\n",
    "\n",
    "\\begin{align*}\n",
    "a &= \\frac{\\Gamma_{mag}}{\\sqrt{n}},\\\\\n",
    "\\lambda &= \\text{sd}\\sqrt{\\frac{d_1+d_2}{n}},\\\\\n",
    "\\tau &= \\text{sd}\\sqrt{\\frac{\\log(d_1d_2)}{n}} + \\frac{\\Gamma_{mag}}{\\sqrt{n}}.\n",
    "\\end{align*}\n",
    "\n",
    "e passo $1/L$. PERGUNTA: Exiba um limite aproximado em que para $L$ os métodos convergem e para um $L$ próximo os métodos não convergem. \n",
    "\n",
    "Em seguida, implemente o método gradiente proximal com splitting acelerado: é o mesmo que o exercício 8 mas usando $\\nabla F(\\Gamma,S)$.\n",
    "\n",
    "Finalmente, plote num mesmo gráfico a sequência de erros $\\Vert\\nabla f(\\Gamma_k,S_k)\\Vert_F^2$ para os dois métodos."
   ]
  },
  {
   "cell_type": "code",
   "execution_count": 22,
   "id": "c6b1bfc1",
   "metadata": {},
   "outputs": [
    {
     "data": {
      "image/png": "[encoded data removed]",
      "text/plain": [
       "<Figure size 1000x600 with 1 Axes>"
      ]
     },
     "metadata": {},
     "output_type": "display_data"
    }
   ],
   "source": [
    "#Escreva o código aqui\n",
    "a = Gamma_mag / np.sqrt(n)\n",
    "lambd = sd * np.sqrt((d_1 + d_2) / n)\n",
    "tau = sd * np.sqrt(np.log(d_1 * d_2) / n) + Gamma_mag / np.sqrt(n)\n",
    "\n",
    "Gamma_init = np.random.randn(d_1, d_2)\n",
    "S_init = np.random.randn(d_1, d_2)\n",
    "Y = np.random.randn(d_1, d_2)\n",
    "\n",
    "f1_2 = trace_reg_MD(dF, n,d_1,d_2,X,y,L,lambd,tau,a,Gamma0,S0,tfinal)\n",
    "f2_2 = trace_reg_MD_acc(dF, n,d_1,d_2,X,y,L,lambd,tau,a,Gamma0,S0,tfinal)\n",
    "\n",
    "plt.figure(figsize=(10, 6))\n",
    "plt.plot(f1_2[0], label='ProxGrad-Split')\n",
    "plt.plot(f2_2[0], label='Nesterov-ProxGrad-Split')\n",
    "plt.yscale(\"log\")\n",
    "plt.xlabel(\"Iterações\")\n",
    "plt.ylabel(r\"$\\Vert \\nabla f(\\Gamma_k, S_k) \\Vert_F^2$\")\n",
    "plt.legend()\n",
    "plt.show()"
   ]
  }
 ],
 "metadata": {
  "jupytext": {
   "cell_metadata_filter": "tags,name,-all",
   "main_language": "python",
   "notebook_metadata_filter": "-all"
  },
  "kernelspec": {
   "display_name": "Python 3",
   "language": "python",
   "name": "python3"
  },
  "language_info": {
   "codemirror_mode": {
    "name": "ipython",
    "version": 3
   },
   "file_extension": ".py",
   "mimetype": "text/x-python",
   "name": "python",
   "nbconvert_exporter": "python",
   "pygments_lexer": "ipython3",
   "version": "3.11.10"
  }
 },
 "nbformat": 4,
 "nbformat_minor": 5
}
