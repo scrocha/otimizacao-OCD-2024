{
 "cells": [
  {
   "cell_type": "markdown",
   "id": "c94bbb2f",
   "metadata": {},
   "source": [
    "# Lasso and Slope estimators\n",
    "\n",
    "Neste projeto iremos implementar métodos iterativos para achar a solução do seguinte estimador de mínimos quadrados regularizado:\n",
    "\n",
    "$$\n",
    "\\min_{b\\in\\mathbb{R}^{p\\times1}}f(b)=\\frac{1}{2n}\\sum_{i=1}^n(y_i-x_i^\\top b)^2+\\lambda\\Vert b\\Vert_\\sharp, \n",
    "$$\n",
    "\n",
    "onde $(y_1,x_1), \\ldots, (y_n,x_n)$ é uma amostra de labels/features em $\\mathbb{R}\\times\\mathbb{R}^p$. Àcima, $\\lambda>0$ é um hyper-parâmetro positivo e \n",
    "\n",
    "$$\n",
    "\\Vert b\\Vert_\\sharp := \\sum_{j=1}^p\\omega[j]b_\\sharp[j],\n",
    "$$\n",
    "\n",
    "é a *norma Slope* do vetor $b$, onde $\\omega\\in\\mathbb{R}^{p\\times1}$ é um vetor de coordenadas positivas não-decrescente e $b_\\sharp[1]\\ge\\ldots,b_\\sharp[p]$ simboliza as coordenadas de $b$ postas em ordem não-crescente.  Precisamente, iremos considerar duas opcões:\n",
    "\n",
    "1. $\\omega[j]\\equiv1$, \n",
    "2. $\\omega[j]:=\\sqrt{\\log(2p/j)}$.\n",
    "\n",
    "<div hidden>\n",
    "$\\DeclareMathOperator{\\sign}{sign}$\n",
    "$\\DeclareMathOperator{\\argmin}{argmin}$\n",
    "</div>\n",
    "\n",
    "# Soft-Thresholding e ``sortedL1Prox()``\n",
    "\n",
    "Recorde que o passo de iteração do método gradiente proximal é calcular o *operador proximal* da norma $\\lambda\\Vert\\cdot\\Vert_\\sharp$:\n",
    "\n",
    "$$\n",
    "P(v,\\lambda\\omega)\\in\\argmin_{b\\in\\mathbb{R}^{p\\times1}}\\left\\{\n",
    "\\frac{1}{2}\\Vert v - b\\Vert_2^2 + \\lambda\\Vert b\\Vert_\\sharp\n",
    "\\right\\}.\n",
    "$$\n",
    "\n",
    "1. Suponha primeiro que $\\omega[j]\\equiv1$ então $P(v,\\lambda\\omega)$ tem fórmula explicíta. Dados $\\gamma\\in\\mathbb{R}$, defina\n",
    "\n",
    "$$\n",
    "S(\\gamma,\\lambda):=(\\gamma)\\cdot\\max\\{\\gamma-\\lambda,0\\}.\n",
    "$$\n",
    "\n",
    "Àcima, $(\\gamma)$ é o sinal de $\\gamma$. Então, para um vetor $v\\in\\mathbb{R}^{p\\times1}$,\n",
    "\n",
    "$$\n",
    "P(v,\\lambda\\omega)=[S(v[1],\\lambda) \\ldots S(v[p],\\lambda)]^\\top\n",
    "$$\n",
    "\n",
    "2. No caso do item 2, não existe uma fórmula explícita para $P(v,\\lambda\\omega)$. Mas podemos usar a função ``sortedL1Prox()`` do pacote ``SLOPE`` escrito em R. Veja [SLOPE](https://cran.r-project.org/web/packages/SLOPE/index.html), assim como introduções em [An intro to SLOPE](https://cran.r-project.org/web/packages/SLOPE/vignettes/introduction.html) e [Proximal Operators](https://cran.r-project.org/web/packages/SLOPE/vignettes/prox-algs.html). Em nossa notação, ``sortedL1Prox(v,lambda*omega)`` computa $P(v,\\lambda\\omega)$ para a sequência $\\omega$.\n",
    "\n",
    "Antes precisaremos criar um código para boter ler a função `sortedL1Prox()` em Python. Para tanto, precisaremos da biblioteca `rpy2`. Para instalá-lo chame `pip install rpy2` no terminal base de sua maquina. Em R, o pacote ``SLOPE`` precisa estar instalado e fazer o chamado ``library(SLOPE)``."
   ]
  },
  {
   "cell_type": "code",
   "execution_count": 1,
   "id": "38eaa4bb",
   "metadata": {},
   "outputs": [],
   "source": [
    "import matplotlib\n",
    "import numpy as np\n",
    "import scipy\n",
    "import seaborn as sns\n",
    "import matplotlib.pyplot as plt\n",
    "import numpy.linalg as la\n",
    "\n",
    "from rpy2 import robjects\n",
    "from rpy2.robjects.packages import importr"
   ]
  },
  {
   "cell_type": "code",
   "execution_count": 2,
   "id": "df860acc",
   "metadata": {},
   "outputs": [],
   "source": [
    "def sortedL1Prox(v,seq):\n",
    "    '''\n",
    "    Função que toma (v,seq) e retorna P(v,seq).\n",
    "    '''\n",
    "    # R representation in Python of (v,seq):\n",
    "    r_var = robjects.vectors.FloatVector(np.hstack((v,seq)))\n",
    "    # Python function to call R function sortedL1Prox()\n",
    "    func = robjects.r(\n",
    "    '''\n",
    "    library(SLOPE)\n",
    "    function(v,seq) sortedL1Prox(v,seq)\n",
    "    '''\n",
    "    )\n",
    "    # Calling Python function sortedL1Prox using R representation r_var:\n",
    "    return np.asarray(func(r_var[0:len(r_var)//2], r_var[len(r_var)//2:]))"
   ]
  },
  {
   "cell_type": "code",
   "execution_count": 3,
   "id": "fedd66d1",
   "metadata": {},
   "outputs": [
    {
     "data": {
      "text/plain": [
       "((10,), (10,))"
      ]
     },
     "execution_count": 3,
     "metadata": {},
     "output_type": "execute_result"
    }
   ],
   "source": [
    "#Exemplo:\n",
    "v = 90.0*np.arange(10)\n",
    "omega = np.ones(10)\n",
    "lambd = 2.5\n",
    "seq = lambd*omega\n",
    "v.shape, omega.shape"
   ]
  },
  {
   "cell_type": "code",
   "execution_count": 4,
   "id": "3c66bb2a",
   "metadata": {},
   "outputs": [
    {
     "data": {
      "text/plain": [
       "array([  0. ,  87.5, 177.5, 267.5, 357.5, 447.5, 537.5, 627.5, 717.5,\n",
       "       807.5])"
      ]
     },
     "execution_count": 4,
     "metadata": {},
     "output_type": "execute_result"
    }
   ],
   "source": [
    "sortedL1Prox(v,seq)"
   ]
  },
  {
   "cell_type": "markdown",
   "id": "3b2a20c5",
   "metadata": {},
   "source": [
    "# Exercício 1: Gerando dados\n",
    "\n",
    "1. Construa uma função ``data_genP(p,s,b_mag)`` que toma $p$, $s\\in[p]$ e número positivo ``b_mag`` e retorna vetor $p$-dimensional cujas $s$-ézimas primeiras coordenadas são $b_{\\text{mag}}$ e as outras são zero."
   ]
  },
  {
   "cell_type": "code",
   "execution_count": 5,
   "id": "01d440d9",
   "metadata": {},
   "outputs": [],
   "source": [
    "#Escreva código aqui\n",
    "def data_genP(p:int, s:int, b_mag:float) -> np.ndarray:\n",
    "    x = np.zeros(p)\n",
    "    x[0: s] = b_mag\n",
    "    return x.reshape(-1,1)"
   ]
  },
  {
   "cell_type": "code",
   "execution_count": 6,
   "id": "8e74e583",
   "metadata": {},
   "outputs": [
    {
     "data": {
      "text/plain": [
       "array([[2.],\n",
       "       [2.],\n",
       "       [2.],\n",
       "       [2.],\n",
       "       [2.],\n",
       "       [2.],\n",
       "       [2.],\n",
       "       [2.],\n",
       "       [2.],\n",
       "       [2.],\n",
       "       [0.],\n",
       "       [0.],\n",
       "       [0.],\n",
       "       [0.],\n",
       "       [0.],\n",
       "       [0.],\n",
       "       [0.],\n",
       "       [0.],\n",
       "       [0.],\n",
       "       [0.],\n",
       "       [0.],\n",
       "       [0.],\n",
       "       [0.],\n",
       "       [0.],\n",
       "       [0.],\n",
       "       [0.],\n",
       "       [0.],\n",
       "       [0.],\n",
       "       [0.],\n",
       "       [0.],\n",
       "       [0.],\n",
       "       [0.],\n",
       "       [0.],\n",
       "       [0.],\n",
       "       [0.],\n",
       "       [0.],\n",
       "       [0.],\n",
       "       [0.],\n",
       "       [0.],\n",
       "       [0.],\n",
       "       [0.],\n",
       "       [0.],\n",
       "       [0.],\n",
       "       [0.],\n",
       "       [0.],\n",
       "       [0.],\n",
       "       [0.],\n",
       "       [0.],\n",
       "       [0.],\n",
       "       [0.],\n",
       "       [0.],\n",
       "       [0.],\n",
       "       [0.],\n",
       "       [0.],\n",
       "       [0.],\n",
       "       [0.],\n",
       "       [0.],\n",
       "       [0.],\n",
       "       [0.],\n",
       "       [0.],\n",
       "       [0.],\n",
       "       [0.],\n",
       "       [0.],\n",
       "       [0.],\n",
       "       [0.],\n",
       "       [0.],\n",
       "       [0.],\n",
       "       [0.],\n",
       "       [0.],\n",
       "       [0.],\n",
       "       [0.],\n",
       "       [0.],\n",
       "       [0.],\n",
       "       [0.],\n",
       "       [0.],\n",
       "       [0.],\n",
       "       [0.],\n",
       "       [0.],\n",
       "       [0.],\n",
       "       [0.],\n",
       "       [0.],\n",
       "       [0.],\n",
       "       [0.],\n",
       "       [0.],\n",
       "       [0.],\n",
       "       [0.],\n",
       "       [0.],\n",
       "       [0.],\n",
       "       [0.],\n",
       "       [0.],\n",
       "       [0.],\n",
       "       [0.],\n",
       "       [0.],\n",
       "       [0.],\n",
       "       [0.],\n",
       "       [0.],\n",
       "       [0.],\n",
       "       [0.],\n",
       "       [0.],\n",
       "       [0.]])"
      ]
     },
     "execution_count": 6,
     "metadata": {},
     "output_type": "execute_result"
    }
   ],
   "source": [
    "#Exemplo:\n",
    "p=100\n",
    "s=10\n",
    "b_mag=2\n",
    "b_true = data_genP(p,s,b_mag)\n",
    "b_true"
   ]
  },
  {
   "cell_type": "markdown",
   "id": "ce401f92",
   "metadata": {},
   "source": [
    "2. Construa uma função ``data_genXe(n,p,b_true,sd)`` que toma $n$, $p$, $b_{\\text{true}}$ e um número positivo ``sd`` e constrói uma matriz de dados ``X`` $n\\times p$ cujas linhas são vetores $x_i^\\top$ normais padrão $p$-dimensionais independentes e o vetor ``y`` de dimensão $n$ cujas coordenadas satisfazem\n",
    "\n",
    "$$\n",
    "y_i = x_i^\\top b_{\\text{true}} + \\text{sd}\\cdot\\epsilon_i,\n",
    "$$\n",
    "onde $\\{\\epsilon_i\\}_{i=1}^n$ é uma sequência iid de normais padrão. "
   ]
  },
  {
   "cell_type": "code",
   "execution_count": 7,
   "id": "4d02da4b",
   "metadata": {},
   "outputs": [],
   "source": [
    "#Escreva código aqui\n",
    "def data_genXe(n:int, p:int, b_true:np.ndarray, sd:float) -> list[np.ndarray]:\n",
    "    X = np.random.normal(loc=0, scale=1, size=(n, p))\n",
    "\n",
    "    y = X @ b_true + sd * np.random.normal(loc=0, scale=1, size=n).reshape(-1,1)\n",
    "\n",
    "    return X, y"
   ]
  },
  {
   "cell_type": "code",
   "execution_count": 8,
   "id": "b1d5e827",
   "metadata": {},
   "outputs": [
    {
     "data": {
      "text/plain": [
       "(array([[-0.34639882,  0.88144483,  0.80131382, -0.91634175, -0.36221944,\n",
       "         -0.38407799, -0.73423535, -1.17566227,  1.17834133, -0.0782198 ,\n",
       "          1.04940128,  0.53397953,  1.02866041,  0.85285488,  0.37869817,\n",
       "         -0.60978155,  0.14066834,  0.3619214 , -1.62234234, -0.67597489,\n",
       "         -1.06221944,  0.47778372,  0.4128046 , -0.1163983 , -1.19666277,\n",
       "          0.15246705, -0.18806923,  1.33209657, -1.17974154,  0.19627089,\n",
       "          0.68646387, -0.1909391 , -0.61823122,  0.45818318, -0.70101622,\n",
       "         -0.61600066, -0.06826894, -0.59654025,  0.12892124,  1.30377189,\n",
       "         -1.25455147,  0.66345465, -0.71842902, -1.83040355,  0.62713513,\n",
       "          0.53225936,  1.04720791, -1.80592197,  1.09096674, -0.34743465,\n",
       "         -1.30452066,  1.02460097,  1.90143501,  1.38406133,  0.55926333,\n",
       "         -0.0937777 ,  0.10812599,  1.22608212,  0.14688957,  1.21483638,\n",
       "         -1.50811027, -0.53607232,  0.04728563, -1.75093216, -0.2861412 ,\n",
       "         -2.74402215, -1.94723035,  0.64504528,  0.34972812,  1.36377051,\n",
       "         -0.11031769,  0.89855597, -0.83139199, -0.63123135,  0.28459221,\n",
       "          0.81876341, -1.26166311, -1.52557521, -0.62092032,  0.11549029,\n",
       "         -1.42341682,  1.96000155, -0.33787396,  0.23672403, -1.96504577,\n",
       "         -0.78934052,  0.03113455, -0.83560772,  1.53386376,  0.73065931,\n",
       "         -0.75363377,  0.40216645, -0.08262057, -0.26036274, -1.24884328,\n",
       "         -1.06851234, -0.55342197,  0.25896393,  0.35718584, -0.0563055 ],\n",
       "        [ 1.27482023,  0.12292669,  1.14962993, -0.47135974, -0.17372052,\n",
       "         -0.87269916,  0.625972  , -0.20021576,  0.32467878,  0.4444293 ,\n",
       "         -0.53642763, -0.03362771, -1.74503113, -0.40705919,  1.81793283,\n",
       "         -1.59483899, -0.52695459,  1.4776501 ,  1.75471764,  0.24831442,\n",
       "         -0.06073142, -0.06795042,  0.44175373, -0.2149558 ,  1.59340186,\n",
       "         -0.42945077, -0.3649644 , -0.54553838, -1.39728716,  1.05873075,\n",
       "         -1.63662593, -0.00978591, -0.60783319,  0.29960934, -1.75823377,\n",
       "          0.50681421, -0.55672483,  0.72287022,  0.14848539, -1.86642075,\n",
       "         -0.53250996, -0.97764449,  0.60569037,  1.30170539, -0.11289502,\n",
       "          0.98167507,  0.99030524, -2.3753131 ,  0.03165654, -0.20928107,\n",
       "          1.45878247,  1.00656704,  0.33018274,  0.15392387, -1.51622399,\n",
       "          2.34279288, -1.78086396,  0.25183632,  0.42008407, -0.19043187,\n",
       "          0.26517062,  0.88374778,  0.17206772,  0.39620114,  0.78374349,\n",
       "         -0.5552271 , -0.54018988,  1.83407846,  0.51346481, -0.75897243,\n",
       "         -1.09688262, -1.78454733, -0.46722758, -0.29477463,  0.46112941,\n",
       "         -0.53588653, -0.51861559, -0.85206501, -1.13655271, -0.47969543,\n",
       "         -0.14165982,  0.75889275,  1.3423407 , -1.26110043,  1.14374832,\n",
       "          0.25094929, -0.45650703,  0.38169707,  1.97045135, -1.0254566 ,\n",
       "         -0.22029098,  0.31864067, -1.12263614,  0.41628031, -0.80533517,\n",
       "          1.57390689, -0.59668654,  0.53565857,  0.46653051, -0.92273733],\n",
       "        [-1.93298692, -0.93466832,  0.07559184,  2.46367036,  1.58693656,\n",
       "          0.18010454,  0.51182465,  0.61236933,  1.28314448,  0.4839204 ,\n",
       "         -0.60246635, -0.06024096, -0.30629991, -0.38430874, -0.51124553,\n",
       "          0.29233303, -0.4453235 ,  2.06331388,  0.82262611, -1.47424026,\n",
       "          1.80868927,  0.51701886, -1.72843531,  0.44244601, -0.10426922,\n",
       "         -0.57354023, -0.78925252, -0.74922253, -0.84552797, -1.46215339,\n",
       "         -1.06081527, -0.23794936,  0.54534367,  0.07277008, -1.44212371,\n",
       "         -1.07013728,  0.44349606,  2.35072209, -1.61633766,  0.62413765,\n",
       "          0.96201703,  0.66366416,  0.64791176,  0.59060421,  0.10939908,\n",
       "         -0.35291625, -0.43182691,  0.75336067,  0.02216486, -0.56902332,\n",
       "         -0.57242041,  1.42316591, -1.46651127, -0.23248551,  0.58564405,\n",
       "         -0.57600907,  2.41368924,  0.17283667,  0.75991414,  0.99922446,\n",
       "          0.39068159, -1.04389233,  1.05846849,  1.06458687, -1.09397033,\n",
       "         -1.42438232, -0.50522522, -0.65967892, -0.47665589, -0.1923594 ,\n",
       "          1.72570765, -1.92949431,  0.99701517,  0.24446916, -1.10492118,\n",
       "          0.19945863,  1.5481967 , -0.95186446,  1.01275221,  0.76729262,\n",
       "          0.52994515, -1.09656441,  1.29310368, -0.79689319,  1.49677793,\n",
       "          0.02863916,  1.53556122, -0.48822556, -2.39036417,  0.60541388,\n",
       "         -0.20714187,  1.16549762, -0.50138535,  0.91449689, -0.74393321,\n",
       "         -0.09374607,  2.21284465,  0.67253051, -0.02269689, -0.07791659],\n",
       "        [ 0.82432234,  0.3361133 , -0.44958288,  0.39256441, -2.22486692,\n",
       "         -0.70137056,  0.56849653, -0.86540087,  0.65366721,  0.60676842,\n",
       "         -0.62730627, -0.18730446, -0.19547908, -1.22601945,  0.62358667,\n",
       "          0.63925271, -1.69100148, -0.36134483, -0.06847562,  0.77150126,\n",
       "          0.56763948,  0.40933296,  0.90193719,  1.09479189,  0.70839333,\n",
       "          0.96962531,  0.45726744, -0.61293362, -0.05453707, -1.25179021,\n",
       "          1.23515168,  0.64648008,  0.92095086,  1.27048915, -1.53427199,\n",
       "          0.94226078, -0.0992486 , -0.85774723, -1.13404903, -1.65161403,\n",
       "          0.7428149 ,  0.25905093, -0.20388888, -0.12378578, -0.07107863,\n",
       "         -0.8205741 , -0.16814148, -0.9511905 , -0.53329967, -2.43521341,\n",
       "         -0.09282603,  0.37213397, -0.12761827, -1.20815678, -0.78996723,\n",
       "          1.95884277, -0.45097894,  0.21339533, -0.23089272,  0.45036135,\n",
       "          2.37958313,  0.79820461, -3.12408267, -0.23686987,  0.17064501,\n",
       "          0.56618676,  1.14901888, -0.18567848, -0.83411086,  0.66059156,\n",
       "         -1.5741967 ,  0.09454045,  1.91771392,  1.95814247, -0.82253869,\n",
       "          0.01002479,  1.11806983,  0.37263304,  0.21797953, -1.80382068,\n",
       "          0.17580352,  0.4758232 , -1.00400844, -2.16014756, -0.43592593,\n",
       "         -1.1709291 ,  1.56535989,  1.38318892,  0.1083269 , -1.66445759,\n",
       "         -1.25578223,  0.81089156, -0.77436288, -0.81501136,  1.23157723,\n",
       "         -1.27771757, -0.53163619,  0.98513892,  0.36093107,  1.65429371],\n",
       "        [ 2.42253531, -0.30921072,  1.34060466,  1.4403412 , -0.03259377,\n",
       "          0.86879836,  1.22053628,  0.35401315,  0.05467963,  0.66631994,\n",
       "          1.23191955, -0.36450427, -0.97838778,  0.49349485, -0.84466231,\n",
       "          0.99007868,  0.47294056, -0.42363805,  0.1710154 ,  1.19186583,\n",
       "          0.32599066, -2.24117357, -0.37023443,  1.70061268,  0.84207673,\n",
       "         -0.38538949,  1.30146739, -1.47749816, -0.25046357, -1.40520304,\n",
       "         -1.34332393,  0.59181415, -0.52339807, -0.74993298, -0.47283195,\n",
       "          0.16462432,  2.25936441, -1.32565113,  1.22411198, -0.26201496,\n",
       "          0.15080756,  0.37071991,  0.41602508, -0.27913618, -1.00813745,\n",
       "          0.61310708, -0.14744757,  1.14619926, -0.13931926,  0.88968304,\n",
       "          1.75080962,  0.36979445,  1.30259302,  1.23020776, -1.07833312,\n",
       "          1.81400736, -1.00495502, -0.21570241,  0.37258446, -1.59698323,\n",
       "         -0.16106833, -0.24431418, -0.9765509 , -0.66316135,  0.15690681,\n",
       "          1.33068742, -0.27425954, -1.05211941, -0.25309743, -0.82370258,\n",
       "         -0.15040838,  2.35117851,  1.38646344, -0.95164957, -0.59902105,\n",
       "          2.24805228, -1.68723384,  0.0202347 , -0.85648918, -0.281648  ,\n",
       "         -1.73409055, -1.33440693,  0.28023099,  0.35684141,  0.22075021,\n",
       "         -1.82037544,  0.64537616,  0.51879943,  2.33765524,  1.19128133,\n",
       "          0.14421289, -0.66333152, -1.87858319, -1.43285581, -0.027316  ,\n",
       "         -1.99567885, -0.64277047,  0.06191952, -0.18051296,  0.80367533]]),\n",
       " array([[-2.38151108],\n",
       "        [ 4.47924132],\n",
       "        [ 8.62964556],\n",
       "        [-1.50710641],\n",
       "        [16.14063562]]))"
      ]
     },
     "execution_count": 8,
     "metadata": {},
     "output_type": "execute_result"
    }
   ],
   "source": [
    "#Exemplo:\n",
    "sd = 0.1\n",
    "n = 5\n",
    "\n",
    "b_true = data_genP(p,s,b_mag)\n",
    "X,y = data_genXe(n,p,b_true,sd)\n",
    "X,y"
   ]
  },
  {
   "cell_type": "markdown",
   "id": "ac8e3328",
   "metadata": {},
   "source": [
    "# Exercício 2: \n",
    "\n",
    "Vamos usar o método gradiente proximal para resolver o problema àcima:\n",
    "\n",
    "\\begin{align*}\n",
    "w_{k+1} &:= b_k - \\frac{1}{L}\\nabla f(b_k),\\\\\n",
    "b_{k+1} &:= P\\left(w_{k+1},\\frac{\\lambda}{L}\\omega\\right).\n",
    "\\end{align*}\n",
    "\n",
    "Construa uma função ``linear_reg(n,p,SlopeB,X,y,L,lambd,b0,t_final)`` onde, $1/L$ é o passo, ``lambd`` ($=\\lambda$) é o fator de penalização, ``b0`` é o ponto inicial, a variável ``t_final`` é o número de iterações e:\n",
    "\n",
    "1. a variável Booleana ``SlopeB`` vale ``False`` se a sequêndia $\\omega[j]\\equiv1$.\n",
    "2. a variável Booleana ``SlopeB`` vale ``True`` se $\\omega[j]=\\sqrt{\\log(2p/j)}$. \n",
    "\n",
    "A função deve retornar a sequência $k\\mapsto\\frac{1}{2n}\\sum_{i=1}^n(y_i-x_i^\\top b_k)^2$ e o último iterado $b_{\\text{t final}}$. Use penalização\n",
    "\n",
    "$$\n",
    "\\lambda = \\text{sd}\\sqrt{\\frac{\\log p}{n}}, \n",
    "$$\n",
    "\n",
    "e passo $1/L$ com\n",
    "\n",
    "$$\n",
    "L = A\\lambda_{\\max}\\left(\\frac{X^\\top X}{n}\\right),\n",
    "$$ \n",
    "para algum ajuste fino $A>0$. "
   ]
  },
  {
   "cell_type": "code",
   "execution_count": 9,
   "id": "b9a5a76c",
   "metadata": {
    "lines_to_next_cell": 0
   },
   "outputs": [],
   "source": [
    "#Escreva código aqui\n",
    "def linear_reg(n:int, p:int, SlopeB:bool, X:np.ndarray, y:np.ndarray, L:float, lambd:float, b0:np.ndarray, t_final:int) -> list[list[float], np.ndarray]:\n",
    "    \n",
    "    omega = np.ones(p)\n",
    "    if SlopeB:\n",
    "        for j in range(1, p + 1):\n",
    "            omega[j-1] = np.sqrt(np.log(2 * p / j))\n",
    "\n",
    "    b = b0.reshape(-1,1)\n",
    "    loss_history = list()\n",
    "\n",
    "    for each_epoch in range(t_final):\n",
    "        # grad = -(1/n) * X.T @ (y - X @ b) + lambd * omega[np.argsort(b)]\n",
    "        grad = -(1/n) * X.T @ (y - X @ b)\n",
    "        \n",
    "        w = b - (1/L) * grad\n",
    "        w = np.array([i[0] for i in w.tolist()])\n",
    "\n",
    "        b = sortedL1Prox(w, (lambd/L) * omega).reshape(-1, 1)\n",
    "\n",
    "        loss = (1/(2*n)) * la.norm(y - X @ b)**2\n",
    "        loss_history.append(loss)\n",
    "\n",
    "    return loss_history, b"
   ]
  },
  {
   "cell_type": "code",
   "execution_count": 10,
   "id": "cb07d619",
   "metadata": {
    "scrolled": true
   },
   "outputs": [
    {
     "data": {
      "image/png": "[encoded data removed]",
      "text/plain": [
       "<Figure size 640x480 with 1 Axes>"
      ]
     },
     "metadata": {},
     "output_type": "display_data"
    }
   ],
   "source": [
    "#Exemplo:\n",
    "b0 = np.asmatrix(np.zeros(p)).T\n",
    "t_final = 100\n",
    "SlopeB = True\n",
    "A = 4\n",
    "L = A*np.max(la.eigvalsh(X.T @ X / X.shape[0]))\n",
    "lambd = sd*np.sqrt(np.log(p)/n)      \n",
    "\n",
    "f1 = linear_reg(n,p,SlopeB,X,y,L,lambd,b0,t_final)\n",
    "plt.plot(f1[0])\n",
    "plt.show()"
   ]
  },
  {
   "cell_type": "markdown",
   "id": "c8a7fb30",
   "metadata": {},
   "source": [
    "# Pergunta: \n",
    "\n",
    "Varie $A$. O que acontece se $A$ for muito pequeno? Alguma intuição?"
   ]
  },
  {
   "cell_type": "markdown",
   "id": "6c9d0c5e",
   "metadata": {},
   "source": [
    "Quando $A$ é muito pequeno, ocorre uma convergência à 0 mais veloz, o que se assemelha ao sentido de learning rate, ou, taxa de aprendizado, onde, quando maior a taxa, maiores as atualizações do gradiente, levando a saltos \"maiores\" das atualizações de pesos, deste modo, como $A$ é inversamente proporcional ao peso que o gradiente terá na atualização de pesos, quando $A$ é muito pequeno, o gradiente dará saltos \"maiores\", assim, convergindo mais rapidamente para uma perda menor, entretanto, isto pode dificultar para o gradiente convergir para o mínimo global, ficando preso em mínimos locais ou não conseguindo uma boa convergência de saltos pequenos para encontrar o mínimo global. Deste modo, mesmo que um $A$ menor diminua o tanto de atualizações necessárias para um bom resultado, pode influenciar na função não convergir para um mínimo global ótimo."
   ]
  },
  {
   "cell_type": "markdown",
   "id": "56315ab2",
   "metadata": {},
   "source": [
    "# Exercício 3: \n",
    "\n",
    "Agora, vamos usar o método gradiente proximal acelerado: iniciando de `b0=z0` e $t_0=1$:\n",
    "\n",
    "\\begin{align*}\n",
    "z_{k+1}&:= P\\left(\n",
    "b_k - (1/L)\\nabla f(b_k), \\frac{\\lambda}{L}\\omega\n",
    "\\right),\\\\\n",
    "t_{k+1} &:= \\frac{1+\\sqrt{1+4t_k^2}}{2},\\\\\n",
    "b_{k+1} &:= z_{k+1} + \\frac{t_{k}-1}{t_{k+1}}(z_{k+1} - z_{k}).\n",
    "\\end{align*}\n",
    "\n",
    "Construa uma função ``linear_reg_acc(n,p,SlopeB,X,y,L,lambd,b0,t_final)`` onde, $1/L$ é o passo, ``lambd`` ($=\\lambda$) é o fator de penalização, ``b0`` é o ponto inicial, a variável ``t_final`` é o número de iterações e:\n",
    "\n",
    "1. a variável Booleana ``SlopeB`` vale ``False`` se a sequêndia $\\omega[j]\\equiv1$.\n",
    "2. a variável Booleana ``SlopeB`` vale ``True`` se $\\omega[j]=\\sqrt{\\log(2p/j)}$. \n",
    "\n",
    "A função deve retornar a sequência $k\\mapsto\\frac{1}{2n}\\sum_{i=1}^n(y_i-x_i^\\top b_k)^2$ e o último iterado $b_{\\text{t_final}}$. Use penalização\n",
    "\n",
    "$$\n",
    "\\lambda = \\text{sd}\\sqrt{\\frac{\\log p}{n}}.\n",
    "$$"
   ]
  },
  {
   "cell_type": "code",
   "execution_count": 11,
   "id": "9234db80",
   "metadata": {},
   "outputs": [],
   "source": [
    "#Escreva código aqui\n",
    "def linear_reg_acc(n:int, p:int, SlopeB:bool, X:np.ndarray, y:np.ndarray, L:float, lambd:float, b0:np.ndarray, t_final:int) -> list[list[float], np.ndarray]:\n",
    "\n",
    "    omega = np.ones(p)\n",
    "    if SlopeB:\n",
    "        for j in range(1, p + 1):\n",
    "            omega[j-1] = np.sqrt(np.log(2 * p / j))\n",
    "\n",
    "    z_k = b0.reshape(-1,1)\n",
    "    b = b0.reshape(-1,1)\n",
    "    t_k = 1\n",
    "    loss_history = list()\n",
    "\n",
    "    for each_epoch in range(t_final):\n",
    "        # grad = -(1/n) * X.T @ (y - X @ b) + lambd * omega[np.argsort(b)]\n",
    "        grad = -(1/n) * X.T @ (y - X @ b)\n",
    "        \n",
    "        w = b - (1/L) * grad\n",
    "        w = np.array([i[0] for i in w.tolist()])\n",
    "\n",
    "        z_kn = sortedL1Prox(w, (lambd/L) * omega).reshape(-1, 1)\n",
    "\n",
    "        t_kn = (1 + np.sqrt(1 + 4 * t_k**2))/2\n",
    "\n",
    "        b = z_kn + ((t_k - 1)/t_kn) * (z_kn - z_k)\n",
    "\n",
    "        loss = (1/(2*n)) * la.norm(y - X @ b)**2\n",
    "        loss_history.append(loss)\n",
    "\n",
    "        z_k = z_kn\n",
    "        t_k = t_kn\n",
    "\n",
    "    return loss_history, b"
   ]
  },
  {
   "cell_type": "code",
   "execution_count": 12,
   "id": "5a42ddea",
   "metadata": {},
   "outputs": [
    {
     "data": {
      "text/plain": [
       "[<matplotlib.lines.Line2D at 0x7fda1e487850>]"
      ]
     },
     "execution_count": 12,
     "metadata": {},
     "output_type": "execute_result"
    },
    {
     "data": {
      "image/png": "[encoded data removed]",
      "text/plain": [
       "<Figure size 640x480 with 1 Axes>"
      ]
     },
     "metadata": {},
     "output_type": "display_data"
    }
   ],
   "source": [
    "#Exemplo:\n",
    "b0 = np.asmatrix(np.zeros(p)).T\n",
    "t_final = 100\n",
    "SlopeB = False\n",
    "A = 4\n",
    "L = A * np.max(la.eigvalsh(X.T @ X / X.shape[0]))\n",
    "lambd = sd*np.sqrt(np.log(p)/n)      \n",
    "\n",
    "f2 = linear_reg_acc(n,p,SlopeB,X,y,L,lambd,b0,t_final)\n",
    "plt.plot(f2[0])"
   ]
  },
  {
   "cell_type": "markdown",
   "id": "ac7b38b5",
   "metadata": {},
   "source": [
    "# Exercício 4: \n",
    "\n",
    "Implemente num mesmo gráfico os erros $k\\mapsto\\frac{1}{2n}\\sum_{i=1}^n(y_i-x_i^\\top b_k)^2$ de cada método em função no número de iterações."
   ]
  },
  {
   "cell_type": "code",
   "execution_count": 13,
   "id": "5a7f7a23",
   "metadata": {},
   "outputs": [
    {
     "data": {
      "image/png": "[encoded data removed]",
      "text/plain": [
       "<Figure size 800x400 with 1 Axes>"
      ]
     },
     "metadata": {},
     "output_type": "display_data"
    }
   ],
   "source": [
    "#Escreva código aqui\n",
    "b0 = np.asmatrix(np.zeros(p)).T\n",
    "t_final = 100\n",
    "SlopeB = False\n",
    "A = 4\n",
    "L = A * np.max(la.eigvalsh(X.T @ X / X.shape[0]))\n",
    "lambd = sd*np.sqrt(np.log(p)/n)      \n",
    "\n",
    "f1 = linear_reg(n,p,SlopeB,X,y,L,lambd,b0,t_final)\n",
    "f2 = linear_reg_acc(n,p,SlopeB,X,y,L,lambd,b0,t_final)\n",
    "\n",
    "plt.figure(figsize=(8, 4))\n",
    "plt.plot(f1[0], label='ProxGrad')\n",
    "plt.plot(f2[0], label='Nesterov-ProxGrad')\n",
    "plt.yscale('log')\n",
    "plt.grid()\n",
    "plt.xlabel('Iteration')\n",
    "plt.ylabel('$\\\\frac{1}{2n}\\sum_{i=1}^n(y_i-x_i^Tb_k)^2$')\n",
    "plt.xlim(0, t_final)\n",
    "plt.legend()\n",
    "plt.show()"
   ]
  },
  {
   "cell_type": "markdown",
   "id": "0d2c5781",
   "metadata": {},
   "source": [
    "# Exercício 5:\n",
    "\n",
    "Refaça os exercícios com $\\sigma=1$ e $\\sigma=10$. Há alguma diferença quando $\\sigma=10$? Tem alguma intuição de porque isso acontece?"
   ]
  },
  {
   "cell_type": "code",
   "execution_count": 14,
   "id": "a9960501",
   "metadata": {},
   "outputs": [],
   "source": [
    "sd = 1"
   ]
  },
  {
   "cell_type": "code",
   "execution_count": 15,
   "id": "ca057cef",
   "metadata": {},
   "outputs": [
    {
     "data": {
      "image/png": "[encoded data removed]",
      "text/plain": [
       "<Figure size 640x480 with 1 Axes>"
      ]
     },
     "metadata": {},
     "output_type": "display_data"
    }
   ],
   "source": [
    "b0 = np.asmatrix(np.zeros(p)).T\n",
    "t_final = 100\n",
    "SlopeB = True\n",
    "A = 4\n",
    "L = A*np.max(la.eigvalsh(X.T @ X / X.shape[0]))\n",
    "lambd = sd*np.sqrt(np.log(p)/n)      \n",
    "\n",
    "f1 = linear_reg(n,p,SlopeB,X,y,L,lambd,b0,t_final)\n",
    "plt.plot(f1[0])\n",
    "plt.show()"
   ]
  },
  {
   "cell_type": "code",
   "execution_count": 16,
   "id": "637f005b",
   "metadata": {},
   "outputs": [
    {
     "data": {
      "text/plain": [
       "[<matplotlib.lines.Line2D at 0x7fda1e195c10>]"
      ]
     },
     "execution_count": 16,
     "metadata": {},
     "output_type": "execute_result"
    },
    {
     "data": {
      "image/png": "[encoded data removed]",
      "text/plain": [
       "<Figure size 640x480 with 1 Axes>"
      ]
     },
     "metadata": {},
     "output_type": "display_data"
    }
   ],
   "source": [
    "b0 = np.asmatrix(np.zeros(p)).T\n",
    "t_final = 100\n",
    "SlopeB = False\n",
    "A = 4\n",
    "L = A * np.max(la.eigvalsh(X.T @ X / X.shape[0]))\n",
    "lambd = sd*np.sqrt(np.log(p)/n)      \n",
    "\n",
    "f2 = linear_reg_acc(n,p,SlopeB,X,y,L,lambd,b0,t_final)\n",
    "plt.plot(f2[0])"
   ]
  },
  {
   "cell_type": "code",
   "execution_count": 17,
   "id": "4ab07abe",
   "metadata": {},
   "outputs": [],
   "source": [
    "b0 = np.asmatrix(np.zeros(p)).T\n",
    "t_final = 100\n",
    "SlopeB = False\n",
    "A = 4\n",
    "L = A * np.max(la.eigvalsh(X.T @ X / X.shape[0]))\n",
    "lambd = sd*np.sqrt(np.log(p)/n)      \n",
    "\n",
    "f1 = linear_reg(n,p,SlopeB,X,y,L,lambd,b0,t_final)\n",
    "f2 = linear_reg_acc(n,p,SlopeB,X,y,L,lambd,b0,t_final)\n",
    "\n",
    "plt.figure(figsize=(8, 4))\n",
    "plt.plot(f1[0], label='ProxGrad')\n",
    "plt.plot(f2[0], label='Nesterov-ProxGrad')\n",
    "plt.yscale('log')\n",
    "plt.grid()\n",
    "plt.xlabel('Iteration')\n",
    "plt.ylabel('$\\\\frac{1}{2n}\\sum_{i=1}^n(y_i-x_i^Tb_k)^2$')\n",
    "plt.xlim(0, t_final)\n",
    "plt.legend()\n",
    "plt.show()"
   ]
  },
  {
   "cell_type": "code",
   "execution_count": 18,
   "id": "5fe7522d",
   "metadata": {},
   "outputs": [],
   "source": [
    "sd = 10"
   ]
  },
  {
   "cell_type": "code",
   "execution_count": 19,
   "id": "4e906bb9",
   "metadata": {},
   "outputs": [
    {
     "data": {
      "image/png": "[encoded data removed]",
      "text/plain": [
       "<Figure size 640x480 with 1 Axes>"
      ]
     },
     "metadata": {},
     "output_type": "display_data"
    }
   ],
   "source": [
    "b0 = np.asmatrix(np.zeros(p)).T\n",
    "t_final = 100\n",
    "SlopeB = True\n",
    "A = 4\n",
    "L = A*np.max(la.eigvalsh(X.T @ X / X.shape[0]))\n",
    "lambd = sd*np.sqrt(np.log(p)/n)      \n",
    "\n",
    "f1 = linear_reg(n,p,SlopeB,X,y,L,lambd,b0,t_final)\n",
    "plt.plot(f1[0])\n",
    "plt.show()"
   ]
  },
  {
   "cell_type": "code",
   "execution_count": 20,
   "id": "5f038f32",
   "metadata": {},
   "outputs": [
    {
     "data": {
      "text/plain": [
       "[<matplotlib.lines.Line2D at 0x7f44201d28d0>]"
      ]
     },
     "execution_count": 20,
     "metadata": {},
     "output_type": "execute_result"
    },
    {
     "data": {
      "image/png": "[encoded data removed]",
      "text/plain": [
       "<Figure size 640x480 with 1 Axes>"
      ]
     },
     "metadata": {},
     "output_type": "display_data"
    }
   ],
   "source": [
    "b0 = np.asmatrix(np.zeros(p)).T\n",
    "t_final = 100\n",
    "SlopeB = False\n",
    "A = 4\n",
    "L = A * np.max(la.eigvalsh(X.T @ X / X.shape[0]))\n",
    "lambd = sd*np.sqrt(np.log(p)/n)      \n",
    "\n",
    "f2 = linear_reg_acc(n,p,SlopeB,X,y,L,lambd,b0,t_final)\n",
    "plt.plot(f2[0])"
   ]
  },
  {
   "cell_type": "code",
   "execution_count": 21,
   "id": "eabb8584",
   "metadata": {},
   "outputs": [
    {
     "data": {
      "image/png": "[encoded data removed]",
      "text/plain": [
       "<Figure size 800x400 with 1 Axes>"
      ]
     },
     "metadata": {},
     "output_type": "display_data"
    }
   ],
   "source": [
    "#Escreva código aqui\n",
    "b0 = np.asmatrix(np.zeros(p)).T\n",
    "t_final = 100\n",
    "SlopeB = False\n",
    "A = 4\n",
    "L = A * np.max(la.eigvalsh(X.T @ X / X.shape[0]))\n",
    "lambd = sd*np.sqrt(np.log(p)/n)      \n",
    "\n",
    "f1 = linear_reg(n,p,SlopeB,X,y,L,lambd,b0,t_final)\n",
    "f2 = linear_reg_acc(n,p,SlopeB,X,y,L,lambd,b0,t_final)\n",
    "\n",
    "plt.figure(figsize=(8, 4))\n",
    "plt.plot(f1[0], label='ProxGrad')\n",
    "plt.plot(f2[0], label='Nesterov-ProxGrad')\n",
    "plt.yscale('log')\n",
    "plt.grid()\n",
    "plt.xlabel('Iteration')\n",
    "plt.ylabel('$\\\\frac{1}{2n}\\sum_{i=1}^n(y_i-x_i^Tb_k)^2$')\n",
    "plt.xlim(0, t_final)\n",
    "plt.legend()\n",
    "plt.show()"
   ]
  },
  {
   "cell_type": "code",
   "execution_count": null,
   "id": "baabf0e8",
   "metadata": {},
   "outputs": [],
   "source": []
  }
 ],
 "metadata": {
  "jupytext": {
   "cell_metadata_filter": "tags,name,-all",
   "main_language": "python",
   "notebook_metadata_filter": "-all"
  },
  "kernelspec": {
   "display_name": "Python 3 (ipykernel)",
   "language": "python",
   "name": "python3"
  },
  "language_info": {
   "codemirror_mode": {
    "name": "ipython",
    "version": 3
   },
   "file_extension": ".py",
   "mimetype": "text/x-python",
   "name": "python",
   "nbconvert_exporter": "python",
   "pygments_lexer": "ipython3",
   "version": "3.11.9"
  }
 },
 "nbformat": 4,
 "nbformat_minor": 5
}
