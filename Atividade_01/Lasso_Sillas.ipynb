{
 "cells": [
  {
   "cell_type": "markdown",
   "id": "c94bbb2f",
   "metadata": {},
   "source": [
    "# Lasso and Slope estimators\n",
    "\n",
    "Neste projeto iremos implementar métodos iterativos para achar a solução do seguinte estimador de mínimos quadrados regularizado:\n",
    "\n",
    "$$\n",
    "\\min_{b\\in\\mathbb{R}^{p\\times1}}f(b)=\\frac{1}{2n}\\sum_{i=1}^n(y_i-x_i^\\top b)^2+\\lambda\\Vert b\\Vert_\\sharp, \n",
    "$$\n",
    "\n",
    "onde $(y_1,x_1), \\ldots, (y_n,x_n)$ é uma amostra de labels/features em $\\mathbb{R}\\times\\mathbb{R}^p$. Àcima, $\\lambda>0$ é um hyper-parâmetro positivo e \n",
    "\n",
    "$$\n",
    "\\Vert b\\Vert_\\sharp := \\sum_{j=1}^p\\omega[j]b_\\sharp[j],\n",
    "$$\n",
    "\n",
    "é a *norma Slope* do vetor $b$, onde $\\omega\\in\\mathbb{R}^{p\\times1}$ é um vetor de coordenadas positivas não-decrescente e $b_\\sharp[1]\\ge\\ldots,b_\\sharp[p]$ simboliza as coordenadas de $b$ postas em ordem não-crescente.  Precisamente, iremos considerar duas opcões:\n",
    "\n",
    "1. $\\omega[j]\\equiv1$, \n",
    "2. $\\omega[j]:=\\sqrt{\\log(2p/j)}$.\n",
    "\n",
    "<div hidden>\n",
    "$\\DeclareMathOperator{\\sign}{sign}$\n",
    "$\\DeclareMathOperator{\\argmin}{argmin}$\n",
    "</div>\n",
    "\n",
    "# Soft-Thresholding e ``sortedL1Prox()``\n",
    "\n",
    "Recorde que o passo de iteração do método gradiente proximal é calcular o *operador proximal* da norma $\\lambda\\Vert\\cdot\\Vert_\\sharp$:\n",
    "\n",
    "$$\n",
    "P(v,\\lambda\\omega)\\in\\argmin_{b\\in\\mathbb{R}^{p\\times1}}\\left\\{\n",
    "\\frac{1}{2}\\Vert v - b\\Vert_2^2 + \\lambda\\Vert b\\Vert_\\sharp\n",
    "\\right\\}.\n",
    "$$\n",
    "\n",
    "1. Suponha primeiro que $\\omega[j]\\equiv1$ então $P(v,\\lambda\\omega)$ tem fórmula explicíta. Dados $\\gamma\\in\\mathbb{R}$, defina\n",
    "\n",
    "$$\n",
    "S(\\gamma,\\lambda):=(\\gamma)\\cdot\\max\\{\\gamma-\\lambda,0\\}.\n",
    "$$\n",
    "\n",
    "Àcima, $(\\gamma)$ é o sinal de $\\gamma$. Então, para um vetor $v\\in\\mathbb{R}^{p\\times1}$,\n",
    "\n",
    "$$\n",
    "P(v,\\lambda\\omega)=[S(v[1],\\lambda) \\ldots S(v[p],\\lambda)]^\\top\n",
    "$$\n",
    "\n",
    "2. No caso do item 2, não existe uma fórmula explícita para $P(v,\\lambda\\omega)$. Mas podemos usar a função ``sortedL1Prox()`` do pacote ``SLOPE`` escrito em R. Veja [SLOPE](https://cran.r-project.org/web/packages/SLOPE/index.html), assim como introduções em [An intro to SLOPE](https://cran.r-project.org/web/packages/SLOPE/vignettes/introduction.html) e [Proximal Operators](https://cran.r-project.org/web/packages/SLOPE/vignettes/prox-algs.html). Em nossa notação, ``sortedL1Prox(v,lambda*omega)`` computa $P(v,\\lambda\\omega)$ para a sequência $\\omega$.\n",
    "\n",
    "Antes precisaremos criar um código para boter ler a função `sortedL1Prox()` em Python. Para tanto, precisaremos da biblioteca `rpy2`. Para instalá-lo chame `pip install rpy2` no terminal base de sua maquina. Em R, o pacote ``SLOPE`` precisa estar instalado e fazer o chamado ``library(SLOPE)``."
   ]
  },
  {
   "cell_type": "code",
   "execution_count": 1,
   "id": "38eaa4bb",
   "metadata": {},
   "outputs": [],
   "source": [
    "import matplotlib\n",
    "import numpy as np\n",
    "import scipy\n",
    "import seaborn as sns\n",
    "import matplotlib.pyplot as plt\n",
    "import numpy.linalg as la\n",
    "\n",
    "from rpy2 import robjects\n",
    "from rpy2.robjects.packages import importr"
   ]
  },
  {
   "cell_type": "code",
   "execution_count": 2,
   "id": "df860acc",
   "metadata": {},
   "outputs": [],
   "source": [
    "def sortedL1Prox(v,seq):\n",
    "    '''\n",
    "    Função que toma (v,seq) e retorna P(v,seq).\n",
    "    '''\n",
    "    # R representation in Python of (v,seq):\n",
    "    r_var = robjects.vectors.FloatVector(np.hstack((v,seq)))\n",
    "    # Python function to call R function sortedL1Prox()\n",
    "    func = robjects.r(\n",
    "    '''\n",
    "    library(SLOPE)\n",
    "    function(v,seq) sortedL1Prox(v,seq)\n",
    "    '''\n",
    "    )\n",
    "    # Calling Python function sortedL1Prox using R representation r_var:\n",
    "    return np.asarray(func(r_var[0:len(r_var)//2], r_var[len(r_var)//2:]))"
   ]
  },
  {
   "cell_type": "code",
   "execution_count": 3,
   "id": "fedd66d1",
   "metadata": {},
   "outputs": [
    {
     "data": {
      "text/plain": [
       "((10,), (10,))"
      ]
     },
     "execution_count": 3,
     "metadata": {},
     "output_type": "execute_result"
    }
   ],
   "source": [
    "#Exemplo:\n",
    "v = 90.0*np.arange(10)\n",
    "omega = np.ones(10)\n",
    "lambd = 2.5\n",
    "seq = lambd*omega\n",
    "v.shape, omega.shape"
   ]
  },
  {
   "cell_type": "code",
   "execution_count": 4,
   "id": "3c66bb2a",
   "metadata": {},
   "outputs": [
    {
     "data": {
      "text/plain": [
       "array([  0. ,  87.5, 177.5, 267.5, 357.5, 447.5, 537.5, 627.5, 717.5,\n",
       "       807.5])"
      ]
     },
     "execution_count": 4,
     "metadata": {},
     "output_type": "execute_result"
    }
   ],
   "source": [
    "sortedL1Prox(v,seq)"
   ]
  },
  {
   "cell_type": "markdown",
   "id": "3b2a20c5",
   "metadata": {},
   "source": [
    "# Exercício 1: Gerando dados\n",
    "\n",
    "1. Construa uma função ``data_genP(p,s,b_mag)`` que toma $p$, $s\\in[p]$ e número positivo ``b_mag`` e retorna vetor $p$-dimensional cujas $s$-ézimas primeiras coordenadas são $b_{\\text{mag}}$ e as outras são zero."
   ]
  },
  {
   "cell_type": "code",
   "execution_count": 5,
   "id": "01d440d9",
   "metadata": {},
   "outputs": [],
   "source": [
    "#Escreva código aqui\n",
    "def data_genP(p:int, s:int, b_mag:float) -> np.ndarray:\n",
    "    x = np.zeros(p)\n",
    "    x[0: s] = b_mag\n",
    "    return x.reshape(-1,1)"
   ]
  },
  {
   "cell_type": "code",
   "execution_count": 6,
   "id": "8e74e583",
   "metadata": {},
   "outputs": [
    {
     "data": {
      "text/plain": [
       "array([[2.],\n",
       "       [2.],\n",
       "       [2.],\n",
       "       [2.],\n",
       "       [2.],\n",
       "       [2.],\n",
       "       [2.],\n",
       "       [2.],\n",
       "       [2.],\n",
       "       [2.],\n",
       "       [0.],\n",
       "       [0.],\n",
       "       [0.],\n",
       "       [0.],\n",
       "       [0.],\n",
       "       [0.],\n",
       "       [0.],\n",
       "       [0.],\n",
       "       [0.],\n",
       "       [0.],\n",
       "       [0.],\n",
       "       [0.],\n",
       "       [0.],\n",
       "       [0.],\n",
       "       [0.],\n",
       "       [0.],\n",
       "       [0.],\n",
       "       [0.],\n",
       "       [0.],\n",
       "       [0.],\n",
       "       [0.],\n",
       "       [0.],\n",
       "       [0.],\n",
       "       [0.],\n",
       "       [0.],\n",
       "       [0.],\n",
       "       [0.],\n",
       "       [0.],\n",
       "       [0.],\n",
       "       [0.],\n",
       "       [0.],\n",
       "       [0.],\n",
       "       [0.],\n",
       "       [0.],\n",
       "       [0.],\n",
       "       [0.],\n",
       "       [0.],\n",
       "       [0.],\n",
       "       [0.],\n",
       "       [0.],\n",
       "       [0.],\n",
       "       [0.],\n",
       "       [0.],\n",
       "       [0.],\n",
       "       [0.],\n",
       "       [0.],\n",
       "       [0.],\n",
       "       [0.],\n",
       "       [0.],\n",
       "       [0.],\n",
       "       [0.],\n",
       "       [0.],\n",
       "       [0.],\n",
       "       [0.],\n",
       "       [0.],\n",
       "       [0.],\n",
       "       [0.],\n",
       "       [0.],\n",
       "       [0.],\n",
       "       [0.],\n",
       "       [0.],\n",
       "       [0.],\n",
       "       [0.],\n",
       "       [0.],\n",
       "       [0.],\n",
       "       [0.],\n",
       "       [0.],\n",
       "       [0.],\n",
       "       [0.],\n",
       "       [0.],\n",
       "       [0.],\n",
       "       [0.],\n",
       "       [0.],\n",
       "       [0.],\n",
       "       [0.],\n",
       "       [0.],\n",
       "       [0.],\n",
       "       [0.],\n",
       "       [0.],\n",
       "       [0.],\n",
       "       [0.],\n",
       "       [0.],\n",
       "       [0.],\n",
       "       [0.],\n",
       "       [0.],\n",
       "       [0.],\n",
       "       [0.],\n",
       "       [0.],\n",
       "       [0.],\n",
       "       [0.]])"
      ]
     },
     "execution_count": 6,
     "metadata": {},
     "output_type": "execute_result"
    }
   ],
   "source": [
    "#Exemplo:\n",
    "p=100\n",
    "s=10\n",
    "b_mag=2\n",
    "b_true = data_genP(p,s,b_mag)\n",
    "b_true"
   ]
  },
  {
   "cell_type": "markdown",
   "id": "ce401f92",
   "metadata": {},
   "source": [
    "2. Construa uma função ``data_genXe(n,p,b_true,sd)`` que toma $n$, $p$, $b_{\\text{true}}$ e um número positivo ``sd`` e constrói uma matriz de dados ``X`` $n\\times p$ cujas linhas são vetores $x_i^\\top$ normais padrão $p$-dimensionais independentes e o vetor ``y`` de dimensão $n$ cujas coordenadas satisfazem\n",
    "\n",
    "$$\n",
    "y_i = x_i^\\top b_{\\text{true}} + \\text{sd}\\cdot\\epsilon_i,\n",
    "$$\n",
    "onde $\\{\\epsilon_i\\}_{i=1}^n$ é uma sequência iid de normais padrão. "
   ]
  },
  {
   "cell_type": "code",
   "execution_count": 7,
   "id": "4d02da4b",
   "metadata": {},
   "outputs": [],
   "source": [
    "#Escreva código aqui\n",
    "def data_genXe(n:int, p:int, b_true:np.ndarray, sd:float) -> list[np.ndarray]:\n",
    "    X = np.random.normal(loc=0, scale=1, size=(n, p))\n",
    "\n",
    "    y = X @ b_true + sd * np.random.normal(loc=0, scale=1, size=n).reshape(-1,1)\n",
    "\n",
    "    return X, y"
   ]
  },
  {
   "cell_type": "code",
   "execution_count": 8,
   "id": "b1d5e827",
   "metadata": {},
   "outputs": [
    {
     "data": {
      "text/plain": [
       "(array([[ 8.82823971e-01, -1.31123222e+00, -2.67815417e-01,\n",
       "          1.92106586e-01, -4.94482525e-01,  1.96615736e+00,\n",
       "         -3.07584202e-01,  1.15493026e-01,  1.33041161e+00,\n",
       "          4.74748240e-01, -9.69673813e-01, -8.10468671e-01,\n",
       "         -7.13262346e-01, -1.41529852e+00, -1.35941908e+00,\n",
       "          1.31574536e-01, -7.79778097e-01, -7.68391270e-01,\n",
       "          2.26283713e+00, -5.42051983e-04,  1.50592967e+00,\n",
       "          7.05915401e-01, -4.65793648e-01, -2.34634855e+00,\n",
       "          9.67832067e-01, -2.79563865e+00,  1.20434285e+00,\n",
       "         -9.07587134e-01,  3.25156648e-01,  1.28389609e+00,\n",
       "          3.90695674e-01, -1.19670585e+00,  6.74534748e-01,\n",
       "         -1.31276970e-01,  1.66127905e+00, -4.16684941e-01,\n",
       "          1.27181193e+00,  1.48127682e-01,  8.68486284e-01,\n",
       "          6.74879273e-01, -2.00790154e-01, -5.15565246e-01,\n",
       "          1.08792874e+00, -9.77137044e-01,  4.54503611e-01,\n",
       "          2.71560559e-01,  4.89496986e-01,  1.03373112e+00,\n",
       "         -1.29032519e+00,  2.96367071e-01, -3.06772683e-02,\n",
       "          1.72308642e+00, -7.44282622e-01,  1.63435768e+00,\n",
       "         -6.49572745e-02,  2.51211788e-01,  7.45282233e-01,\n",
       "          3.95097724e-01,  1.30980561e+00,  4.01154544e-01,\n",
       "         -1.46425403e+00, -6.68651254e-01, -1.48980647e+00,\n",
       "          8.07388356e-01, -5.25479603e-01,  1.30557850e+00,\n",
       "          1.83032797e+00, -1.99466403e+00, -6.69596891e-01,\n",
       "         -8.59357968e-01,  6.50670123e-01,  5.33932083e-01,\n",
       "          8.05743130e-01,  4.68270525e-01, -1.71082966e+00,\n",
       "         -7.90718862e-01,  2.28888566e+00,  3.23791265e-01,\n",
       "         -5.42170910e-01, -1.67427482e-01, -7.80816620e-01,\n",
       "          3.20820082e-01, -7.35786299e-01,  2.37308040e-01,\n",
       "         -4.93836962e-01,  5.87601053e-01,  8.35130635e-01,\n",
       "         -1.97330469e-01,  8.75313782e-03, -9.28692163e-01,\n",
       "          6.88615128e-02,  7.46843302e-01, -9.09976196e-01,\n",
       "          1.06352590e+00, -4.68524931e-01, -1.01251518e+00,\n",
       "          2.93235710e-01,  6.38949505e-01,  1.99714652e+00,\n",
       "          5.49437778e-01],\n",
       "        [-9.89666162e-01,  9.76558268e-01, -6.02884357e-01,\n",
       "         -7.01253150e-01, -4.41953601e-01, -1.30148155e+00,\n",
       "         -9.37570760e-01,  2.41442900e-02,  9.73128066e-01,\n",
       "          7.43830082e-01, -8.65478202e-01,  7.42024897e-01,\n",
       "          2.36544376e+00,  4.75372171e-01,  1.08010788e+00,\n",
       "         -1.03993102e+00,  3.39521648e-01,  1.75089733e-01,\n",
       "          1.75514425e+00, -2.19377222e+00,  2.96183755e-01,\n",
       "         -1.54208513e+00,  1.42216437e+00,  6.17088840e-01,\n",
       "          3.68718391e-01,  1.03212306e-01, -1.49557682e+00,\n",
       "          1.70848027e+00, -6.83360776e-01,  3.21504952e-02,\n",
       "          5.16802200e-01,  1.41126717e+00, -1.23475073e+00,\n",
       "         -4.97475688e-01,  7.06571622e-02,  2.55350723e+00,\n",
       "          7.31348738e-01,  1.68591204e+00,  1.86673223e+00,\n",
       "         -3.07957895e-01,  2.46987453e+00,  3.18807976e-01,\n",
       "          2.13448038e-01,  1.87680469e-01, -5.89308871e-01,\n",
       "          8.35324969e-01, -1.60280055e+00, -4.58835359e-01,\n",
       "         -8.64786104e-01, -4.12356630e-01,  1.11187506e+00,\n",
       "          1.37196296e-02,  5.20261080e-01, -2.12097441e-01,\n",
       "         -8.83704424e-01, -4.79058678e-01,  1.07063111e+00,\n",
       "         -1.47571354e-01, -1.85514614e+00,  9.51670191e-01,\n",
       "          1.01718309e+00, -2.01537971e+00,  3.99146954e-01,\n",
       "         -4.77802645e-02,  8.23326433e-02,  6.91358845e-01,\n",
       "          3.36558867e-01,  1.63317566e+00, -9.77803920e-01,\n",
       "         -1.82289964e-01,  4.08225004e-01, -1.26088037e+00,\n",
       "         -8.26415003e-01, -2.55976899e-01, -5.12793852e-01,\n",
       "         -1.93825427e-02,  7.75312893e-01, -6.02339565e-01,\n",
       "         -2.11069651e+00,  1.84610659e+00,  4.60193534e-01,\n",
       "         -4.02754615e-01,  4.86539452e-01, -1.16992234e-01,\n",
       "         -4.37732808e-01,  1.24832352e+00, -9.81868682e-02,\n",
       "         -5.12967514e-01,  7.84034962e-01, -5.22899792e-01,\n",
       "          1.13138964e+00, -3.92260287e-01,  1.36041979e+00,\n",
       "         -3.53453024e-01,  2.55993795e-01, -4.25323666e-01,\n",
       "          5.79818480e-01,  6.10598200e-02,  1.96228669e+00,\n",
       "         -7.98748422e-03],\n",
       "        [ 9.28189522e-01, -1.51467335e+00,  1.96614735e+00,\n",
       "         -2.76303337e-01, -4.25439451e-01, -1.05708509e+00,\n",
       "         -9.26102219e-01,  1.33757797e+00,  1.03123096e+00,\n",
       "          2.88427174e-01, -1.05109758e+00,  3.88828033e-01,\n",
       "         -1.43881395e+00, -2.42186121e-01,  8.28470853e-01,\n",
       "         -1.68853853e+00, -1.32573379e+00, -7.24383734e-02,\n",
       "         -6.00745448e-01, -6.23378564e-01,  4.82586930e-01,\n",
       "          1.57067099e-01,  7.17175508e-02, -2.47097132e+00,\n",
       "          7.74170545e-01,  2.52009591e-01, -5.71810450e-01,\n",
       "         -2.72411007e-01,  5.63999908e-01,  8.00519594e-01,\n",
       "          1.29857987e+00,  3.58054012e-02,  2.19792398e-01,\n",
       "          3.17503228e-01,  8.89621505e-02, -5.03812456e-01,\n",
       "          2.02948566e-01, -5.70218225e-01, -9.38877586e-01,\n",
       "          8.76152542e-01,  8.75566513e-01, -2.85319150e-01,\n",
       "         -2.35943811e+00,  2.04852076e+00, -1.41559657e+00,\n",
       "          7.84302671e-01,  2.83816244e+00, -8.91192602e-01,\n",
       "         -1.20499080e+00,  8.91752459e-01, -9.94492087e-01,\n",
       "          5.42693435e-01, -3.47569869e-01, -1.21280795e+00,\n",
       "          4.74078567e-01,  2.51572149e-01,  1.31423037e+00,\n",
       "         -1.07531795e+00, -9.51860430e-01,  5.54572294e-02,\n",
       "          3.28937958e-01, -1.57450112e+00, -8.85592705e-01,\n",
       "         -1.52746031e-01, -3.96584930e-01,  5.75899936e-01,\n",
       "         -2.02813134e-01, -2.91942702e+00, -1.26990836e+00,\n",
       "         -4.71448887e-01, -1.28003560e-01,  8.58963453e-01,\n",
       "          4.45550267e-01,  9.63870032e-01, -1.37849021e+00,\n",
       "         -1.64838244e+00,  6.82882800e-02, -6.29024127e-01,\n",
       "         -8.12685321e-01, -2.08719875e+00,  3.41589682e-01,\n",
       "         -1.01323642e+00, -1.11476765e+00,  3.24338597e-01,\n",
       "         -2.80398940e-01, -1.86466412e+00,  1.10734760e+00,\n",
       "         -1.75759335e+00,  1.33176416e+00, -6.52983395e-01,\n",
       "          9.33265614e-01, -4.17586690e-01, -7.99456866e-01,\n",
       "          1.81581109e-01,  5.96851867e-01, -1.84874024e+00,\n",
       "          4.11799672e-01, -9.86521025e-01,  9.06669511e-01,\n",
       "         -8.90352795e-01],\n",
       "        [ 1.85279436e-02, -5.49882425e-01, -5.95209765e-01,\n",
       "          9.67492651e-01, -1.38667294e-01, -1.65552726e+00,\n",
       "          1.57911509e+00,  1.37958466e-01, -1.72573339e+00,\n",
       "         -6.56778832e-02,  1.42968637e+00,  2.30146007e+00,\n",
       "          3.87151663e-01,  1.98568806e+00, -2.18344476e+00,\n",
       "         -6.36188140e-01, -8.25123546e-01,  2.22544947e-01,\n",
       "          6.70267368e-01, -1.63332160e-01, -5.62761120e-01,\n",
       "          1.05495252e+00, -7.69066472e-02,  4.92727289e-01,\n",
       "          4.48107986e-01, -2.16464681e-01,  2.91049750e-01,\n",
       "          1.02859525e-01, -7.67676649e-02,  2.08887606e-01,\n",
       "          3.68258055e-01,  8.04586769e-01, -8.99564281e-01,\n",
       "          3.39089520e-01, -1.58160014e+00,  1.09208683e+00,\n",
       "          1.98833019e-01,  2.43011359e-01,  1.45283711e+00,\n",
       "         -4.18736635e-01, -2.29940603e+00, -1.02691091e+00,\n",
       "          8.27400501e-01,  3.82645377e+00,  1.71708200e+00,\n",
       "         -1.45311152e+00, -3.12429299e-01, -1.13351690e+00,\n",
       "         -3.64011864e-01, -6.82609743e-01,  3.69777875e-04,\n",
       "         -1.11815864e+00, -1.05408993e+00, -1.26749054e-01,\n",
       "         -4.72247790e-01,  1.03329451e-01,  3.16208229e-01,\n",
       "         -2.90982689e-02, -5.36861092e-01,  6.81419610e-01,\n",
       "          3.79260389e-01,  5.50637193e-01, -2.15858948e-01,\n",
       "          4.10469354e-01,  6.07910990e-02, -1.25953760e+00,\n",
       "         -1.30598878e-02,  3.81126770e-01,  5.20954101e-01,\n",
       "          8.69719714e-01,  1.09050368e+00,  1.52619205e-01,\n",
       "         -1.34181386e+00,  5.52986136e-01, -1.11750376e+00,\n",
       "         -4.75838674e-01,  4.60329694e-01,  4.56602256e-01,\n",
       "          7.42639383e-01, -7.17227841e-01, -4.50348726e-01,\n",
       "         -3.54001567e-01,  2.41650265e+00, -1.36507601e-01,\n",
       "          1.71832972e+00, -1.12217200e-01, -6.95223838e-01,\n",
       "          1.34428425e+00,  3.87703500e-01, -6.70061836e-01,\n",
       "          5.93317826e-01,  3.87058141e-01, -2.97417439e-01,\n",
       "         -8.71104877e-01, -9.12512517e-01,  1.48183304e+00,\n",
       "         -1.16505846e+00,  9.73545595e-01, -7.10997695e-02,\n",
       "         -6.89252440e-01],\n",
       "        [-1.27594858e+00,  5.86352213e-01, -2.69541919e-01,\n",
       "          4.33551852e-01, -2.10357465e+00, -4.35414034e-02,\n",
       "          1.16448684e+00, -5.81927309e-01,  3.88465084e-01,\n",
       "          2.14951082e+00, -5.57819987e-01, -1.29811639e-01,\n",
       "         -8.26561543e-01, -1.20216205e+00, -2.00875790e+00,\n",
       "         -5.89184469e-01, -6.79442444e-02,  1.89853595e+00,\n",
       "         -5.90142109e-01, -1.90487771e+00, -7.26340033e-01,\n",
       "          9.25794876e-01, -6.81443712e-01, -1.84742242e-01,\n",
       "          4.22879338e-01, -4.89240311e-01, -9.03408011e-03,\n",
       "         -1.12601988e+00, -1.30786264e+00, -7.30747415e-01,\n",
       "         -1.04340590e+00,  5.78779779e-01, -2.49168153e-01,\n",
       "          3.07749547e-02, -3.21080450e-01, -1.27699425e+00,\n",
       "          1.40011976e+00,  4.93480475e-01,  2.66552952e-01,\n",
       "          6.63806619e-01,  1.54161837e+00, -1.30896107e+00,\n",
       "         -6.01415719e-01, -2.53855487e-01,  1.42296583e+00,\n",
       "         -9.72111944e-01, -1.12272797e+00,  5.69362804e-01,\n",
       "         -6.55483745e-01, -5.47193357e-01,  2.76917059e-01,\n",
       "          1.18532614e+00, -1.99078268e-01,  1.70969765e+00,\n",
       "         -1.46946638e+00,  1.76124330e-03,  7.60004317e-01,\n",
       "         -4.18369636e-01, -2.21113834e-01, -2.27562852e-02,\n",
       "          2.52852936e-01,  1.09029172e+00,  2.30491208e-01,\n",
       "         -5.60498456e-01, -1.71225465e-01,  8.32173457e-01,\n",
       "          3.84369883e-01,  3.32854510e-01, -9.83848306e-01,\n",
       "         -1.27406869e+00,  8.42825890e-01,  4.07051898e-01,\n",
       "         -1.27096257e+00, -1.40149352e-01,  2.79134753e-01,\n",
       "         -2.50707641e+00, -6.66926028e-01, -2.82315012e+00,\n",
       "          3.87401207e-02, -2.60358491e-01, -4.11713097e-01,\n",
       "          6.83510567e-01,  2.05064273e-01,  1.12815139e+00,\n",
       "          1.25011685e+00,  2.39428533e-01, -2.34189321e-01,\n",
       "          1.22079213e+00, -1.20272174e+00, -1.52898189e+00,\n",
       "         -7.96545748e-01,  4.31595370e-01,  6.23943781e-01,\n",
       "         -3.99705220e-01,  1.35264562e+00,  6.68882526e-01,\n",
       "         -9.22986290e-01,  1.16327822e+00,  2.57888886e+00,\n",
       "         -1.80680434e+00]]),\n",
       " array([[ 5.04857884],\n",
       "        [-4.48196316],\n",
       "        [ 2.86737752],\n",
       "        [-3.98790358],\n",
       "        [ 0.93257088]]))"
      ]
     },
     "execution_count": 8,
     "metadata": {},
     "output_type": "execute_result"
    }
   ],
   "source": [
    "#Exemplo:\n",
    "sd = 0.1\n",
    "n = 5\n",
    "\n",
    "b_true = data_genP(p,s,b_mag)\n",
    "X,y = data_genXe(n,p,b_true,sd)\n",
    "X,y"
   ]
  },
  {
   "cell_type": "markdown",
   "id": "ac8e3328",
   "metadata": {},
   "source": [
    "# Exercício 2: \n",
    "\n",
    "Vamos usar o método gradiente proximal para resolver o problema àcima:\n",
    "\n",
    "\\begin{align*}\n",
    "w_{k+1} &:= b_k - \\frac{1}{L}\\nabla f(b_k),\\\\\n",
    "b_{k+1} &:= P\\left(w_{k+1},\\frac{\\lambda}{L}\\omega\\right).\n",
    "\\end{align*}\n",
    "\n",
    "Construa uma função ``linear_reg(n,p,SlopeB,X,y,L,lambd,b0,t_final)`` onde, $1/L$ é o passo, ``lambd`` ($=\\lambda$) é o fator de penalização, ``b0`` é o ponto inicial, a variável ``t_final`` é o número de iterações e:\n",
    "\n",
    "1. a variável Booleana ``SlopeB`` vale ``False`` se a sequêndia $\\omega[j]\\equiv1$.\n",
    "2. a variável Booleana ``SlopeB`` vale ``True`` se $\\omega[j]=\\sqrt{\\log(2p/j)}$. \n",
    "\n",
    "A função deve retornar a sequência $k\\mapsto\\frac{1}{2n}\\sum_{i=1}^n(y_i-x_i^\\top b_k)^2$ e o último iterado $b_{\\text{t final}}$. Use penalização\n",
    "\n",
    "$$\n",
    "\\lambda = \\text{sd}\\sqrt{\\frac{\\log p}{n}}, \n",
    "$$\n",
    "\n",
    "e passo $1/L$ com\n",
    "\n",
    "$$\n",
    "L = A\\lambda_{\\max}\\left(\\frac{X^\\top X}{n}\\right),\n",
    "$$ \n",
    "para algum ajuste fino $A>0$. "
   ]
  },
  {
   "cell_type": "code",
   "execution_count": 9,
   "id": "b9a5a76c",
   "metadata": {
    "lines_to_next_cell": 0
   },
   "outputs": [],
   "source": [
    "#Escreva código aqui\n",
    "def linear_reg(n:int, p:int, SlopeB:bool, X:np.ndarray, y:np.ndarray, L:float, lambd:float, b0:np.ndarray, t_final:int) -> list[list[float], np.ndarray]:\n",
    "    \n",
    "    omega = np.ones(p)\n",
    "    if SlopeB:\n",
    "        for j in range(1, p):\n",
    "            omega[j] = np.sqrt(np.log(2 * p / j))\n",
    "\n",
    "    b = b0.reshape(-1,1)\n",
    "    loss_history = list()\n",
    "\n",
    "    for each_epoch in range(t_final):\n",
    "        grad = -(1/n) * X.T @ (y - X @ b) + lambd * omega\n",
    "        \n",
    "        w = b - (1/L) * grad\n",
    "        w = np.array([i[0] for i in w.tolist()])\n",
    "\n",
    "        b = sortedL1Prox(w, (lambd/L) * omega).reshape(-1, 1)\n",
    "\n",
    "        loss = (1/(2*n)) * la.norm(y - X @ b)**2\n",
    "        loss_history.append(loss)\n",
    "\n",
    "    return loss_history, b"
   ]
  },
  {
   "cell_type": "code",
   "execution_count": 10,
   "id": "cb07d619",
   "metadata": {
    "scrolled": true
   },
   "outputs": [
    {
     "data": {
      "image/png": "[encoded data removed]",
      "text/plain": [
       "<Figure size 640x480 with 1 Axes>"
      ]
     },
     "metadata": {},
     "output_type": "display_data"
    }
   ],
   "source": [
    "#Exemplo:\n",
    "b0 = np.asmatrix(np.zeros(p)).T\n",
    "t_final = 100\n",
    "SlopeB = False\n",
    "A = 4\n",
    "L = A*np.max(la.eigvalsh(X.T @ X / X.shape[0]))\n",
    "lambd = sd*np.sqrt(np.log(p)/n)      \n",
    "\n",
    "f1 = linear_reg(n,p,SlopeB,X,y,L,lambd,b0,t_final)\n",
    "plt.plot(f1[0])\n",
    "plt.show()"
   ]
  },
  {
   "cell_type": "markdown",
   "id": "c8a7fb30",
   "metadata": {},
   "source": [
    "# Pergunta: \n",
    "\n",
    "Varie $A$. O que acontece se $A$ for muito pequeno? Alguma intuição?"
   ]
  },
  {
   "cell_type": "markdown",
   "id": "6c9d0c5e",
   "metadata": {},
   "source": [
    "Quando $A$ é muito pequeno, ocorre uma convergência à 0 mais veloz, o que se assemelha ao sentido de learning rate, ou, taxa de aprendizado, onde, quando maior a taxa, maiores as atualizações do gradiente, levando a saltos \"maiores\" das atualizações de pesos, deste modo, como $A$ é inversamente proporcional ao peso que o gradiente terá na atualização de pesos, quando $A$ é muito pequeno, o gradiente dará saltos \"maiores\", assim, convergindo mais rapidamente para uma perda menor, entretanto, isto pode dificultar para o gradiente convergir para o mínimo global, ficando preso em mínimos locais ou não conseguindo uma boa convergência de saltos pequenos para encontrar o mínimo global. Deste modo, mesmo que um $A$ menor diminua o tanto de atualizações necessárias para um bom resultado, pode influenciar na função não convergir para um mínimo global ótimo."
   ]
  },
  {
   "cell_type": "markdown",
   "id": "56315ab2",
   "metadata": {},
   "source": [
    "# Exercício 3: \n",
    "\n",
    "Agora, vamos usar o método gradiente proximal acelerado: iniciando de `b0=z0` e $t_0=1$:\n",
    "\n",
    "\\begin{align*}\n",
    "z_{k+1}&:= P\\left(\n",
    "b_k - (1/L)\\nabla f(b_k), \\frac{\\lambda}{L}\\omega\n",
    "\\right),\\\\\n",
    "t_{k+1} &:= \\frac{1+\\sqrt{1+4t_k^2}}{2},\\\\\n",
    "b_{k+1} &:= z_{k+1} + \\frac{t_{k}-1}{t_{k+1}}(z_{k+1} - z_{k}).\n",
    "\\end{align*}\n",
    "\n",
    "Construa uma função ``linear_reg_acc(n,p,SlopeB,X,y,L,lambd,b0,t_final)`` onde, $1/L$ é o passo, ``lambd`` ($=\\lambda$) é o fator de penalização, ``b0`` é o ponto inicial, a variável ``t_final`` é o número de iterações e:\n",
    "\n",
    "1. a variável Booleana ``SlopeB`` vale ``False`` se a sequêndia $\\omega[j]\\equiv1$.\n",
    "2. a variável Booleana ``SlopeB`` vale ``True`` se $\\omega[j]=\\sqrt{\\log(2p/j)}$. \n",
    "\n",
    "A função deve retornar a sequência $k\\mapsto\\frac{1}{2n}\\sum_{i=1}^n(y_i-x_i^\\top b_k)^2$ e o último iterado $b_{\\text{t_final}}$. Use penalização\n",
    "\n",
    "$$\n",
    "\\lambda = \\text{sd}\\sqrt{\\frac{\\log p}{n}}.\n",
    "$$"
   ]
  },
  {
   "cell_type": "code",
   "execution_count": 11,
   "id": "9234db80",
   "metadata": {},
   "outputs": [],
   "source": [
    "#Escreva código aqui\n",
    "def linear_reg_acc(n:int, p:int, SlopeB:bool, X:np.ndarray, y:np.ndarray, L:float, lambd:float, b0:np.ndarray, t_final:int) -> list[list[float], np.ndarray]:\n",
    "\n",
    "    omega = np.ones(p)\n",
    "    if SlopeB:\n",
    "        for j in range(1, p):\n",
    "            omega[j] = np.sqrt(np.log(2 * p / j))\n",
    "\n",
    "    z_k = b0.reshape(-1,1)\n",
    "    b = b0.reshape(-1,1)\n",
    "    t_k = 1\n",
    "    loss_history = list()\n",
    "\n",
    "    for each_epoch in range(t_final):\n",
    "        grad = -(1/n) * X.T @ (y - X @ b) + lambd * omega\n",
    "        \n",
    "        w = b - (1/L) * grad\n",
    "        w = np.array([i[0] for i in w.tolist()])\n",
    "\n",
    "        z_kn = sortedL1Prox(w, (lambd/L) * omega).reshape(-1, 1)\n",
    "\n",
    "        t_kn = (1 + np.sqrt(1 + 4 * t_k**2))/2\n",
    "\n",
    "        b = z_kn + ((t_k - 1)/t_kn) * (z_kn - z_k)\n",
    "\n",
    "        loss = (1/(2*n)) * la.norm(y - X @ b)**2\n",
    "        loss_history.append(loss)\n",
    "\n",
    "        z_k = z_kn\n",
    "        t_k = t_kn\n",
    "\n",
    "    return loss_history, b"
   ]
  },
  {
   "cell_type": "code",
   "execution_count": 12,
   "id": "5a42ddea",
   "metadata": {},
   "outputs": [
    {
     "data": {
      "text/plain": [
       "[<matplotlib.lines.Line2D at 0x7fead9293210>]"
      ]
     },
     "execution_count": 12,
     "metadata": {},
     "output_type": "execute_result"
    },
    {
     "data": {
      "image/png": "[encoded data removed]",
      "text/plain": [
       "<Figure size 640x480 with 1 Axes>"
      ]
     },
     "metadata": {},
     "output_type": "display_data"
    }
   ],
   "source": [
    "#Exemplo:\n",
    "b0 = np.asmatrix(np.zeros(p)).T\n",
    "t_final = 100\n",
    "SlopeB = False\n",
    "A = 4\n",
    "L = A * np.max(la.eigvalsh(X.T @ X / X.shape[0]))\n",
    "lambd = sd*np.sqrt(np.log(p)/n)      \n",
    "\n",
    "f2 = linear_reg_acc(n,p,SlopeB,X,y,L,lambd,b0,t_final)\n",
    "plt.plot(f2[0])"
   ]
  },
  {
   "cell_type": "markdown",
   "id": "ac7b38b5",
   "metadata": {},
   "source": [
    "# Exercício 4: \n",
    "\n",
    "Implemente num mesmo gráfico os erros $k\\mapsto\\frac{1}{2n}\\sum_{i=1}^n(y_i-x_i^\\top b_k)^2$ de cada método em função no número de iterações."
   ]
  },
  {
   "cell_type": "code",
   "execution_count": 13,
   "id": "5a7f7a23",
   "metadata": {},
   "outputs": [
    {
     "data": {
      "image/png": "[encoded data removed]",
      "text/plain": [
       "<Figure size 800x400 with 1 Axes>"
      ]
     },
     "metadata": {},
     "output_type": "display_data"
    }
   ],
   "source": [
    "#Escreva código aqui\n",
    "b0 = np.asmatrix(np.zeros(p)).T\n",
    "t_final = 100\n",
    "SlopeB = False\n",
    "A = 4\n",
    "L = A * np.max(la.eigvalsh(X.T @ X / X.shape[0]))\n",
    "lambd = sd*np.sqrt(np.log(p)/n)      \n",
    "\n",
    "f1 = linear_reg(n,p,SlopeB,X,y,L,lambd,b0,t_final)\n",
    "f2 = linear_reg_acc(n,p,SlopeB,X,y,L,lambd,b0,t_final)\n",
    "\n",
    "plt.figure(figsize=(8, 4))\n",
    "plt.plot(f1[0], label='ProxGrad')\n",
    "plt.plot(f2[0], label='Nesterov-ProxGrad')\n",
    "plt.yscale('log')\n",
    "plt.grid()\n",
    "plt.xlabel('Iteration')\n",
    "plt.ylabel('$\\\\frac{1}{2n}\\sum_{i=1}^n(y_i-x_i^Tb_k)^2$ - Quadratic Loss')\n",
    "plt.xlim(0, t_final)\n",
    "plt.legend()\n",
    "plt.show()"
   ]
  },
  {
   "cell_type": "markdown",
   "id": "0d2c5781",
   "metadata": {},
   "source": [
    "# Exercício 5:\n",
    "\n",
    "Refaça os exercícios com $\\sigma=1$ e $\\sigma=10$. Há alguma diferença quando $\\sigma=10$? Tem alguma intuição de porque isso acontece?"
   ]
  },
  {
   "cell_type": "code",
   "execution_count": null,
   "id": "a9960501",
   "metadata": {},
   "outputs": [],
   "source": []
  }
 ],
 "metadata": {
  "jupytext": {
   "cell_metadata_filter": "tags,name,-all",
   "main_language": "python",
   "notebook_metadata_filter": "-all"
  },
  "kernelspec": {
   "display_name": "Python 3 (ipykernel)",
   "language": "python",
   "name": "python3"
  },
  "language_info": {
   "codemirror_mode": {
    "name": "ipython",
    "version": 3
   },
   "file_extension": ".py",
   "mimetype": "text/x-python",
   "name": "python",
   "nbconvert_exporter": "python",
   "pygments_lexer": "ipython3",
   "version": "3.11.9"
  }
 },
 "nbformat": 4,
 "nbformat_minor": 5
}
