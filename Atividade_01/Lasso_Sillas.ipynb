{
 "cells": [
  {
   "cell_type": "markdown",
   "id": "c94bbb2f",
   "metadata": {},
   "source": [
    "# Lasso and Slope estimators\n",
    "\n",
    "Neste projeto iremos implementar métodos iterativos para achar a solução do seguinte estimador de mínimos quadrados regularizado:\n",
    "\n",
    "$$\n",
    "\\min_{b\\in\\mathbb{R}^{p\\times1}}f(b)=\\frac{1}{2n}\\sum_{i=1}^n(y_i-x_i^\\top b)^2+\\lambda\\Vert b\\Vert_\\sharp, \n",
    "$$\n",
    "\n",
    "onde $(y_1,x_1), \\ldots, (y_n,x_n)$ é uma amostra de labels/features em $\\mathbb{R}\\times\\mathbb{R}^p$. Àcima, $\\lambda>0$ é um hyper-parâmetro positivo e \n",
    "\n",
    "$$\n",
    "\\Vert b\\Vert_\\sharp := \\sum_{j=1}^p\\omega[j]b_\\sharp[j],\n",
    "$$\n",
    "\n",
    "é a *norma Slope* do vetor $b$, onde $\\omega\\in\\mathbb{R}^{p\\times1}$ é um vetor de coordenadas positivas não-decrescente e $b_\\sharp[1]\\ge\\ldots,b_\\sharp[p]$ simboliza as coordenadas de $b$ postas em ordem não-crescente.  Precisamente, iremos considerar duas opcões:\n",
    "\n",
    "1. $\\omega[j]\\equiv1$, \n",
    "2. $\\omega[j]:=\\sqrt{\\log(2p/j)}$.\n",
    "\n",
    "<div hidden>\n",
    "$\\DeclareMathOperator{\\sign}{sign}$\n",
    "$\\DeclareMathOperator{\\argmin}{argmin}$\n",
    "</div>\n",
    "\n",
    "# Soft-Thresholding e ``sortedL1Prox()``\n",
    "\n",
    "Recorde que o passo de iteração do método gradiente proximal é calcular o *operador proximal* da norma $\\lambda\\Vert\\cdot\\Vert_\\sharp$:\n",
    "\n",
    "$$\n",
    "P(v,\\lambda\\omega)\\in\\argmin_{b\\in\\mathbb{R}^{p\\times1}}\\left\\{\n",
    "\\frac{1}{2}\\Vert v - b\\Vert_2^2 + \\lambda\\Vert b\\Vert_\\sharp\n",
    "\\right\\}.\n",
    "$$\n",
    "\n",
    "1. Suponha primeiro que $\\omega[j]\\equiv1$ então $P(v,\\lambda\\omega)$ tem fórmula explicíta. Dados $\\gamma\\in\\mathbb{R}$, defina\n",
    "\n",
    "$$\n",
    "S(\\gamma,\\lambda):=(\\gamma)\\cdot\\max\\{\\gamma-\\lambda,0\\}.\n",
    "$$\n",
    "\n",
    "Àcima, $(\\gamma)$ é o sinal de $\\gamma$. Então, para um vetor $v\\in\\mathbb{R}^{p\\times1}$,\n",
    "\n",
    "$$\n",
    "P(v,\\lambda\\omega)=[S(v[1],\\lambda) \\ldots S(v[p],\\lambda)]^\\top\n",
    "$$\n",
    "\n",
    "2. No caso do item 2, não existe uma fórmula explícita para $P(v,\\lambda\\omega)$. Mas podemos usar a função ``sortedL1Prox()`` do pacote ``SLOPE`` escrito em R. Veja [SLOPE](https://cran.r-project.org/web/packages/SLOPE/index.html), assim como introduções em [An intro to SLOPE](https://cran.r-project.org/web/packages/SLOPE/vignettes/introduction.html) e [Proximal Operators](https://cran.r-project.org/web/packages/SLOPE/vignettes/prox-algs.html). Em nossa notação, ``sortedL1Prox(v,lambda*omega)`` computa $P(v,\\lambda\\omega)$ para a sequência $\\omega$.\n",
    "\n",
    "Antes precisaremos criar um código para boter ler a função `sortedL1Prox()` em Python. Para tanto, precisaremos da biblioteca `rpy2`. Para instalá-lo chame `pip install rpy2` no terminal base de sua maquina. Em R, o pacote ``SLOPE`` precisa estar instalado e fazer o chamado ``library(SLOPE)``."
   ]
  },
  {
   "cell_type": "code",
   "execution_count": 1,
   "id": "38eaa4bb",
   "metadata": {},
   "outputs": [],
   "source": [
    "import matplotlib\n",
    "import numpy as np\n",
    "import scipy\n",
    "import seaborn as sns\n",
    "import matplotlib.pyplot as plt\n",
    "import numpy.linalg as la\n",
    "\n",
    "from rpy2 import robjects\n",
    "from rpy2.robjects.packages import importr"
   ]
  },
  {
   "cell_type": "code",
   "execution_count": 2,
   "id": "df860acc",
   "metadata": {},
   "outputs": [],
   "source": [
    "def sortedL1Prox(v,seq):\n",
    "    '''\n",
    "    Função que toma (v,seq) e retorna P(v,seq).\n",
    "    '''\n",
    "    # R representation in Python of (v,seq):\n",
    "    r_var = robjects.vectors.FloatVector(np.hstack((v,seq)))\n",
    "    # Python function to call R function sortedL1Prox()\n",
    "    func = robjects.r(\n",
    "    '''\n",
    "    library(SLOPE)\n",
    "    function(v,seq) sortedL1Prox(v,seq)\n",
    "    '''\n",
    "    )\n",
    "    # Calling Python function sortedL1Prox using R representation r_var:\n",
    "    return np.asarray(func(r_var[0:len(r_var)//2], r_var[len(r_var)//2:]))"
   ]
  },
  {
   "cell_type": "code",
   "execution_count": 3,
   "id": "fedd66d1",
   "metadata": {},
   "outputs": [
    {
     "data": {
      "text/plain": [
       "((10,), (10,))"
      ]
     },
     "execution_count": 3,
     "metadata": {},
     "output_type": "execute_result"
    }
   ],
   "source": [
    "#Exemplo:\n",
    "v = 90.0*np.arange(10)\n",
    "omega = np.ones(10)\n",
    "lambd = 2.5\n",
    "seq = lambd*omega\n",
    "v.shape, omega.shape"
   ]
  },
  {
   "cell_type": "code",
   "execution_count": 4,
   "id": "3c66bb2a",
   "metadata": {},
   "outputs": [
    {
     "data": {
      "text/plain": [
       "array([  0. ,  87.5, 177.5, 267.5, 357.5, 447.5, 537.5, 627.5, 717.5,\n",
       "       807.5])"
      ]
     },
     "execution_count": 4,
     "metadata": {},
     "output_type": "execute_result"
    }
   ],
   "source": [
    "sortedL1Prox(v,seq)"
   ]
  },
  {
   "cell_type": "markdown",
   "id": "3b2a20c5",
   "metadata": {},
   "source": [
    "# Exercício 1: Gerando dados\n",
    "\n",
    "1. Construa uma função ``data_genP(p,s,b_mag)`` que toma $p$, $s\\in[p]$ e número positivo ``b_mag`` e retorna vetor $p$-dimensional cujas $s$-ézimas primeiras coordenadas são $b_{\\text{mag}}$ e as outras são zero."
   ]
  },
  {
   "cell_type": "code",
   "execution_count": 5,
   "id": "01d440d9",
   "metadata": {},
   "outputs": [],
   "source": [
    "#Escreva código aqui\n",
    "def data_genP(p:int, s:int, b_mag:float) -> np.ndarray:\n",
    "    x = np.zeros(p)\n",
    "    x[0: s] = b_mag\n",
    "    return x.reshape(-1,1)"
   ]
  },
  {
   "cell_type": "code",
   "execution_count": 6,
   "id": "8e74e583",
   "metadata": {},
   "outputs": [
    {
     "data": {
      "text/plain": [
       "array([[2.],\n",
       "       [2.],\n",
       "       [2.],\n",
       "       [2.],\n",
       "       [2.],\n",
       "       [2.],\n",
       "       [2.],\n",
       "       [2.],\n",
       "       [2.],\n",
       "       [2.],\n",
       "       [0.],\n",
       "       [0.],\n",
       "       [0.],\n",
       "       [0.],\n",
       "       [0.],\n",
       "       [0.],\n",
       "       [0.],\n",
       "       [0.],\n",
       "       [0.],\n",
       "       [0.],\n",
       "       [0.],\n",
       "       [0.],\n",
       "       [0.],\n",
       "       [0.],\n",
       "       [0.],\n",
       "       [0.],\n",
       "       [0.],\n",
       "       [0.],\n",
       "       [0.],\n",
       "       [0.],\n",
       "       [0.],\n",
       "       [0.],\n",
       "       [0.],\n",
       "       [0.],\n",
       "       [0.],\n",
       "       [0.],\n",
       "       [0.],\n",
       "       [0.],\n",
       "       [0.],\n",
       "       [0.],\n",
       "       [0.],\n",
       "       [0.],\n",
       "       [0.],\n",
       "       [0.],\n",
       "       [0.],\n",
       "       [0.],\n",
       "       [0.],\n",
       "       [0.],\n",
       "       [0.],\n",
       "       [0.],\n",
       "       [0.],\n",
       "       [0.],\n",
       "       [0.],\n",
       "       [0.],\n",
       "       [0.],\n",
       "       [0.],\n",
       "       [0.],\n",
       "       [0.],\n",
       "       [0.],\n",
       "       [0.],\n",
       "       [0.],\n",
       "       [0.],\n",
       "       [0.],\n",
       "       [0.],\n",
       "       [0.],\n",
       "       [0.],\n",
       "       [0.],\n",
       "       [0.],\n",
       "       [0.],\n",
       "       [0.],\n",
       "       [0.],\n",
       "       [0.],\n",
       "       [0.],\n",
       "       [0.],\n",
       "       [0.],\n",
       "       [0.],\n",
       "       [0.],\n",
       "       [0.],\n",
       "       [0.],\n",
       "       [0.],\n",
       "       [0.],\n",
       "       [0.],\n",
       "       [0.],\n",
       "       [0.],\n",
       "       [0.],\n",
       "       [0.],\n",
       "       [0.],\n",
       "       [0.],\n",
       "       [0.],\n",
       "       [0.],\n",
       "       [0.],\n",
       "       [0.],\n",
       "       [0.],\n",
       "       [0.],\n",
       "       [0.],\n",
       "       [0.],\n",
       "       [0.],\n",
       "       [0.],\n",
       "       [0.],\n",
       "       [0.]])"
      ]
     },
     "execution_count": 6,
     "metadata": {},
     "output_type": "execute_result"
    }
   ],
   "source": [
    "#Exemplo:\n",
    "p=100\n",
    "s=10\n",
    "b_mag=2\n",
    "b_true = data_genP(p,s,b_mag)\n",
    "b_true"
   ]
  },
  {
   "cell_type": "markdown",
   "id": "ce401f92",
   "metadata": {},
   "source": [
    "2. Construa uma função ``data_genXe(n,p,b_true,sd)`` que toma $n$, $p$, $b_{\\text{true}}$ e um número positivo ``sd`` e constrói uma matriz de dados ``X`` $n\\times p$ cujas linhas são vetores $x_i^\\top$ normais padrão $p$-dimensionais independentes e o vetor ``y`` de dimensão $n$ cujas coordenadas satisfazem\n",
    "\n",
    "$$\n",
    "y_i = x_i^\\top b_{\\text{true}} + \\text{sd}\\cdot\\epsilon_i,\n",
    "$$\n",
    "onde $\\{\\epsilon_i\\}_{i=1}^n$ é uma sequência iid de normais padrão. "
   ]
  },
  {
   "cell_type": "code",
   "execution_count": 7,
   "id": "4d02da4b",
   "metadata": {},
   "outputs": [],
   "source": [
    "#Escreva código aqui\n",
    "def data_genXe(n:int, p:int, b_true:np.ndarray, sd:float) -> list[np.ndarray]:\n",
    "    X = np.random.normal(loc=0, scale=1, size=(n, p))\n",
    "\n",
    "    y = X @ b_true + sd * np.random.normal(loc=0, scale=1, size=n).reshape(-1,1)\n",
    "\n",
    "    return X, y"
   ]
  },
  {
   "cell_type": "code",
   "execution_count": 8,
   "id": "b1d5e827",
   "metadata": {},
   "outputs": [
    {
     "data": {
      "text/plain": [
       "(array([[ 3.58540608e-01,  7.98654887e-02, -1.36937383e+00,\n",
       "         -8.24340889e-01,  2.26043661e-01, -5.45756258e-01,\n",
       "          1.32025823e+00, -1.41305563e-01, -9.27685370e-01,\n",
       "          9.18844942e-01, -1.54226420e+00, -1.10365439e+00,\n",
       "          2.17261225e+00, -5.38344001e-01, -1.61714641e-01,\n",
       "         -6.76131323e-01, -4.66943469e-01,  1.11872539e+00,\n",
       "          2.30046781e+00,  1.35637706e+00,  1.43669775e+00,\n",
       "         -4.70340324e-01,  3.24345378e-01,  1.85146891e+00,\n",
       "         -8.10912853e-01, -4.66595660e-01,  1.62363854e-01,\n",
       "         -4.80198393e-02, -1.26861652e+00, -3.56590024e-01,\n",
       "          4.70269367e-01, -8.85248489e-01, -7.31494171e-04,\n",
       "         -5.06938124e-01, -4.77036223e-01, -6.70256623e-01,\n",
       "          3.85459828e-01, -1.37127955e-01, -8.11288129e-01,\n",
       "         -4.27662922e-01,  1.42780387e+00, -1.59756092e+00,\n",
       "         -5.57465955e-01,  1.05589430e+00,  3.09757969e-01,\n",
       "         -1.47128522e+00,  1.20216180e+00, -6.63103059e-01,\n",
       "          1.95755460e-02, -4.10634900e-01, -1.02907943e+00,\n",
       "          4.19202407e-01, -3.47218398e-01,  1.81419493e+00,\n",
       "          4.15163166e-02, -2.01790215e-01, -1.14583978e+00,\n",
       "         -1.28652912e+00, -4.10500261e-01,  9.67081701e-01,\n",
       "          2.81562221e+00, -2.92565034e-01, -5.56412352e-01,\n",
       "          3.03256390e-01, -1.66239108e-01, -1.91903186e+00,\n",
       "          3.99276015e-02,  1.12653034e+00,  8.84075544e-01,\n",
       "         -9.62499786e-01,  1.02789897e+00,  1.69786187e-02,\n",
       "          1.89723161e+00, -7.33422297e-01,  1.60925402e-01,\n",
       "         -3.79687237e-01,  1.65906675e-01, -3.37838449e-01,\n",
       "         -3.72871218e-01,  4.69079489e-01,  1.01240434e+00,\n",
       "         -5.80934045e-03, -3.98092791e-02,  7.47169153e-01,\n",
       "         -1.63854359e+00,  5.05593795e-01, -5.60231587e-01,\n",
       "          2.34574446e+00,  1.08700621e+00,  2.14671452e+00,\n",
       "          1.09133651e-01,  7.07040996e-01,  1.02953635e+00,\n",
       "          2.01303321e+00,  1.25878826e+00,  7.36881423e-01,\n",
       "          7.20979086e-01,  5.11183962e-02,  3.40914878e-01,\n",
       "          2.05021970e+00],\n",
       "        [ 3.38269616e-01,  3.21508154e-01, -3.51382281e-01,\n",
       "          8.06095466e-01, -7.24882267e-01, -3.43510410e-01,\n",
       "         -8.82371388e-01, -1.00067601e+00,  8.70066199e-01,\n",
       "          9.23356678e-01, -3.75469045e-01, -1.70254973e+00,\n",
       "         -1.38975381e-01,  1.27199582e+00, -1.22392035e+00,\n",
       "          9.69000910e-02,  7.58569113e-01,  1.15818042e+00,\n",
       "         -1.14336558e+00, -3.56349150e-02, -1.09794112e+00,\n",
       "          2.27738323e-01,  6.74550226e-01,  1.75163699e+00,\n",
       "          2.37347156e-01,  1.08068916e+00,  1.41766193e+00,\n",
       "          2.01451204e+00,  3.87518655e-02,  1.81098819e-01,\n",
       "          2.02087881e-01, -8.43469445e-01, -2.01182666e+00,\n",
       "         -1.17423136e+00,  1.18187021e-01, -1.01343814e+00,\n",
       "         -7.99794474e-01,  3.87116291e-01,  4.48415326e-01,\n",
       "          1.11398822e+00, -1.00711963e+00,  6.26341200e-01,\n",
       "          6.73146415e-01,  7.53040746e-02,  2.30626872e-01,\n",
       "         -2.66797997e+00, -1.05738671e+00,  5.77263105e-01,\n",
       "         -4.80918477e-01, -1.27159672e+00,  1.09435193e+00,\n",
       "          7.58712399e-01,  6.10708621e-02,  1.84626584e-01,\n",
       "          1.63423795e+00,  4.18563363e-01,  8.80869471e-01,\n",
       "          1.03583724e+00,  1.00459813e+00,  8.87970013e-01,\n",
       "         -1.29256956e+00, -2.03460377e-01, -1.59834101e+00,\n",
       "          6.77832073e-01, -2.48900626e+00,  3.71294633e-01,\n",
       "         -4.13764628e-02,  1.76637353e-01, -3.56257328e-01,\n",
       "          7.31477797e-01,  9.68497533e-01,  5.34827733e-01,\n",
       "          6.90040718e-01, -8.09616969e-01,  5.52625153e-01,\n",
       "          9.47275166e-01,  6.84212169e-01, -5.22192811e-01,\n",
       "         -5.41605638e-01, -1.14826624e+00, -5.52478594e-01,\n",
       "         -3.47758056e-01,  9.65069690e-01,  5.11803377e-01,\n",
       "          1.84351065e-01,  6.24665307e-01, -3.90573279e-01,\n",
       "         -1.13248209e+00, -6.21368987e-01, -1.50892954e-01,\n",
       "         -1.33655639e+00, -1.35872457e+00,  7.19721342e-01,\n",
       "         -1.17837871e+00, -6.47529176e-01,  1.66198686e+00,\n",
       "         -1.75327805e-01, -2.35681670e+00,  5.43339620e-02,\n",
       "         -6.10131435e-02],\n",
       "        [-4.13768916e-01,  9.39908855e-01, -6.83546142e-01,\n",
       "          2.14199232e-01,  3.57955324e-01, -1.15864136e-01,\n",
       "          6.23410236e-02,  9.39829608e-01, -2.17060088e-01,\n",
       "          1.65674201e+00,  1.72388730e+00, -3.16052399e-01,\n",
       "          3.20789948e-01,  1.07080834e-01, -4.52558675e-01,\n",
       "          3.84115892e-01, -1.27512970e+00, -1.02101359e+00,\n",
       "         -2.82263263e+00,  5.74515652e-01, -1.77190797e+00,\n",
       "         -1.97999640e+00,  2.64202239e-01,  8.59516478e-01,\n",
       "         -6.96906337e-02,  1.80717862e+00,  3.25654388e-01,\n",
       "          1.14842941e+00, -3.12044627e-01,  6.76326290e-01,\n",
       "         -3.51442264e-01, -1.19065418e-01,  7.51164246e-01,\n",
       "         -4.77086186e-01,  6.40849167e-01, -6.36948167e-01,\n",
       "          1.41566467e+00,  1.21054751e+00, -3.22517885e-01,\n",
       "          8.17860976e-01,  5.04892944e-01,  6.53713784e-01,\n",
       "         -1.13142290e+00,  1.27147774e+00,  6.83834695e-01,\n",
       "         -1.33829647e+00, -1.36125337e-01, -1.00048124e+00,\n",
       "          8.96864092e-01, -1.53566726e+00, -8.66393837e-01,\n",
       "          3.00584909e-01, -3.08398394e-01,  9.99910686e-01,\n",
       "          2.90875526e-01, -8.17334710e-01, -1.43217585e+00,\n",
       "         -9.84064775e-01,  2.15564250e-01, -1.27511530e+00,\n",
       "          8.08850761e-02, -1.40937589e+00,  8.64028653e-01,\n",
       "          1.99714327e+00, -6.73369735e-01, -2.39404153e-01,\n",
       "         -7.39286083e-01, -1.47091004e+00, -1.08305759e+00,\n",
       "         -2.25328412e-01,  9.72377237e-01,  7.62957421e-01,\n",
       "         -2.09138230e+00, -3.87035108e-01, -5.99741397e-01,\n",
       "          6.39109350e-03,  5.94275656e-01, -6.43735465e-01,\n",
       "         -9.01489322e-01, -9.41752472e-01, -5.95910360e-01,\n",
       "         -7.57224140e-01, -3.37227663e-01, -1.55234920e+00,\n",
       "         -9.33087737e-01,  1.33560439e-01,  1.41504296e+00,\n",
       "         -6.54632499e-02,  1.24409447e+00,  7.58421344e-01,\n",
       "         -6.62892957e-01, -3.45253238e-01,  3.54193135e-01,\n",
       "          7.21407765e-01, -2.03153229e-01, -4.67066919e-01,\n",
       "         -5.44680857e-01, -1.59098583e-01, -2.56556151e-01,\n",
       "         -1.08226803e+00],\n",
       "        [-1.55116056e+00, -3.29566839e-01,  8.13294866e-01,\n",
       "          5.99046364e-01, -8.03272977e-01,  1.70604300e-01,\n",
       "         -2.13135378e-01,  1.58120615e+00, -7.39204922e-01,\n",
       "          1.37770807e-01, -7.39268480e-01, -5.25321431e-01,\n",
       "         -2.16348026e+00,  9.00170003e-02, -1.20167995e+00,\n",
       "          8.24734941e-02, -9.85833924e-01, -1.24466864e+00,\n",
       "          3.41531482e-01, -5.63240376e-01,  2.97561720e-01,\n",
       "         -1.63152138e+00, -4.99300476e-01,  1.86094762e-01,\n",
       "         -1.30433537e+00,  4.46667266e-01,  7.48079391e-01,\n",
       "         -6.16395396e-01, -7.46473729e-02,  1.33095358e+00,\n",
       "         -7.24794142e-01,  2.73253527e-01, -2.47645168e-01,\n",
       "         -2.26835953e+00,  6.70399057e-01,  4.88530742e-01,\n",
       "          1.91513681e+00,  6.09731459e-01,  4.11591055e-01,\n",
       "          5.91118686e-01,  3.81651872e-02, -8.10063393e-01,\n",
       "          1.23694940e+00, -1.31468015e+00, -5.00027088e-01,\n",
       "         -8.49607976e-01, -3.89815553e-01, -8.52942498e-01,\n",
       "         -8.71733411e-01,  6.66307964e-01,  1.84263599e-01,\n",
       "          2.36576425e-01,  1.05288329e+00,  8.18819134e-01,\n",
       "         -1.59884511e-01,  7.48631763e-01, -1.00761623e+00,\n",
       "         -7.82518974e-01, -1.51648205e+00, -6.74251193e-01,\n",
       "          3.85303593e-01,  1.25567004e+00,  8.50415466e-01,\n",
       "          3.35594758e-01, -4.63141821e-01,  2.30072214e-01,\n",
       "         -1.22835160e+00, -9.15688274e-01,  4.10117138e-01,\n",
       "          2.55009567e-01,  9.23782272e-01, -6.68323326e-01,\n",
       "         -1.48480554e+00,  1.55391620e+00,  5.21723227e-02,\n",
       "          2.24273902e-01, -3.63179045e-03,  8.62926550e-01,\n",
       "         -1.78657542e+00, -3.33333554e-01, -5.80791263e-01,\n",
       "         -9.78703213e-01,  5.83373292e-01,  1.23249293e+00,\n",
       "         -7.38270642e-01, -4.98522543e-01,  1.65617629e+00,\n",
       "         -3.47578243e-01,  1.00349574e+00,  4.49858378e-01,\n",
       "          1.49193342e+00, -6.76369850e-02, -1.12746796e+00,\n",
       "         -8.92306531e-01,  2.76733656e+00, -5.71471499e-01,\n",
       "          5.80087389e-01, -1.08289136e+00, -7.35355961e-01,\n",
       "          4.51673888e-01],\n",
       "        [ 3.65218294e-01,  2.23977001e-01, -1.20636006e+00,\n",
       "         -1.04277514e+00, -1.93925362e+00,  4.07811738e-02,\n",
       "          4.16876075e-01, -1.00679403e-01,  4.37183880e-01,\n",
       "          6.22525659e-01,  2.96063845e-01, -2.47487534e-01,\n",
       "          1.19606235e+00,  1.53802640e+00, -1.27067737e+00,\n",
       "          3.35932904e-01,  1.77479019e+00, -6.89696287e-01,\n",
       "          3.72990445e-01,  3.80319510e-02, -4.53580358e-01,\n",
       "          1.62245682e+00, -7.26207101e-01, -8.84404593e-01,\n",
       "         -5.89040735e-01, -3.63065164e-01, -6.15764893e-01,\n",
       "          8.28921353e-01,  4.66017934e-02, -2.89666737e-01,\n",
       "          2.50481333e+00,  7.04580907e-01, -8.01575710e-01,\n",
       "         -3.09960001e-01,  3.07267072e-02,  1.72569797e+00,\n",
       "         -1.10666589e+00, -5.98708197e-01,  3.31119562e-01,\n",
       "          9.42176500e-01, -2.02746516e+00, -3.61584238e-01,\n",
       "         -2.90029756e-01,  1.37292530e+00,  1.24126234e+00,\n",
       "         -1.03585080e-02,  1.01187023e-01, -3.52973054e-01,\n",
       "          1.10572223e+00,  7.69936636e-01, -4.20193673e-01,\n",
       "         -6.45119407e-01,  5.88750029e-01,  6.37539721e-01,\n",
       "          8.62250730e-01,  9.62167448e-01,  8.40369025e-01,\n",
       "          6.15807145e-01,  1.14315844e+00, -5.12270603e-01,\n",
       "          1.33466739e+00, -3.01970344e-01, -7.63024901e-01,\n",
       "          5.79607204e-01, -4.91859545e-01, -1.78553744e+00,\n",
       "          1.50813243e+00, -4.81742216e-01,  8.75090481e-01,\n",
       "         -1.10543908e-01,  1.12263701e+00,  4.67214064e-01,\n",
       "         -5.46730483e-01, -3.76227375e-01,  7.74258663e-01,\n",
       "         -1.14113137e+00, -4.05154731e-01,  8.39497702e-01,\n",
       "          2.20133981e-01,  3.59579436e-01,  5.22981791e-01,\n",
       "         -9.47945334e-01,  9.70822395e-01,  1.07048553e+00,\n",
       "         -2.66128500e-01,  3.85928491e-01, -1.24353293e-01,\n",
       "          2.45860193e-01, -5.33218465e-02,  6.50672005e-01,\n",
       "         -7.78236588e-01,  1.09126954e+00,  5.28806228e-01,\n",
       "          4.20714610e-01, -9.28371240e-02,  4.86287647e-01,\n",
       "         -1.05278624e-01,  4.18560130e-01,  4.09894869e-01,\n",
       "          4.19570922e-01]]),\n",
       " array([[-1.62673852],\n",
       "        [ 0.07047161],\n",
       "        [ 5.48317565],\n",
       "        [-0.66493478],\n",
       "        [-4.39375451]]))"
      ]
     },
     "execution_count": 8,
     "metadata": {},
     "output_type": "execute_result"
    }
   ],
   "source": [
    "#Exemplo:\n",
    "sd = 0.1\n",
    "n = 5\n",
    "\n",
    "b_true = data_genP(p,s,b_mag)\n",
    "X,y = data_genXe(n,p,b_true,sd)\n",
    "X,y"
   ]
  },
  {
   "cell_type": "markdown",
   "id": "ac8e3328",
   "metadata": {},
   "source": [
    "# Exercício 2: \n",
    "\n",
    "Vamos usar o método gradiente proximal para resolver o problema àcima:\n",
    "\n",
    "\\begin{align*}\n",
    "w_{k+1} &:= b_k - \\frac{1}{L}\\nabla f(b_k),\\\\\n",
    "b_{k+1} &:= P\\left(w_{k+1},\\frac{\\lambda}{L}\\omega\\right).\n",
    "\\end{align*}\n",
    "\n",
    "Construa uma função ``linear_reg(n,p,SlopeB,X,y,L,lambd,b0,t_final)`` onde, $1/L$ é o passo, ``lambd`` ($=\\lambda$) é o fator de penalização, ``b0`` é o ponto inicial, a variável ``t_final`` é o número de iterações e:\n",
    "\n",
    "1. a variável Booleana ``SlopeB`` vale ``False`` se a sequêndia $\\omega[j]\\equiv1$.\n",
    "2. a variável Booleana ``SlopeB`` vale ``True`` se $\\omega[j]=\\sqrt{\\log(2p/j)}$. \n",
    "\n",
    "A função deve retornar a sequência $k\\mapsto\\frac{1}{2n}\\sum_{i=1}^n(y_i-x_i^\\top b_k)^2$ e o último iterado $b_{\\text{t final}}$. Use penalização\n",
    "\n",
    "$$\n",
    "\\lambda = \\text{sd}\\sqrt{\\frac{\\log p}{n}}, \n",
    "$$\n",
    "\n",
    "e passo $1/L$ com\n",
    "\n",
    "$$\n",
    "L = A\\lambda_{\\max}\\left(\\frac{X^\\top X}{n}\\right),\n",
    "$$ \n",
    "para algum ajuste fino $A>0$. "
   ]
  },
  {
   "cell_type": "code",
   "execution_count": 9,
   "id": "b9a5a76c",
   "metadata": {
    "lines_to_next_cell": 0
   },
   "outputs": [],
   "source": [
    "#Escreva código aqui\n",
    "def linear_reg(n:int, p:int, SlopeB:bool, X:np.ndarray, y:np.ndarray, L:float, lambd:float, b0:np.ndarray, t_final:int) -> list[list[float], np.ndarray]:\n",
    "    \n",
    "    omega = np.ones(p)\n",
    "    if SlopeB:\n",
    "        for j in range(1, p + 1):\n",
    "            omega[j-1] = np.sqrt(np.log(2 * p / j))\n",
    "\n",
    "    b = b0.reshape(-1,1)\n",
    "    loss_history = list()\n",
    "\n",
    "    for each_epoch in range(t_final):\n",
    "        grad = -(1/n) * X.T @ (y - X @ b) + lambd * omega\n",
    "        \n",
    "        w = b - (1/L) * grad\n",
    "        w = np.array([i[0] for i in w.tolist()])\n",
    "\n",
    "        b = sortedL1Prox(w, (lambd/L) * omega).reshape(-1, 1)\n",
    "\n",
    "        loss = (1/(2*n)) * la.norm(y - X @ b)**2\n",
    "        loss_history.append(loss)\n",
    "\n",
    "    return loss_history, b"
   ]
  },
  {
   "cell_type": "code",
   "execution_count": 10,
   "id": "cb07d619",
   "metadata": {
    "scrolled": true
   },
   "outputs": [
    {
     "data": {
      "image/png": "[encoded data removed]",
      "text/plain": [
       "<Figure size 640x480 with 1 Axes>"
      ]
     },
     "metadata": {},
     "output_type": "display_data"
    }
   ],
   "source": [
    "#Exemplo:\n",
    "b0 = np.asmatrix(np.zeros(p)).T\n",
    "t_final = 100\n",
    "SlopeB = True\n",
    "A = 4\n",
    "L = A*np.max(la.eigvalsh(X.T @ X / X.shape[0]))\n",
    "lambd = sd*np.sqrt(np.log(p)/n)      \n",
    "\n",
    "f1 = linear_reg(n,p,SlopeB,X,y,L,lambd,b0,t_final)\n",
    "plt.plot(f1[0])\n",
    "plt.show()"
   ]
  },
  {
   "cell_type": "markdown",
   "id": "c8a7fb30",
   "metadata": {},
   "source": [
    "# Pergunta: \n",
    "\n",
    "Varie $A$. O que acontece se $A$ for muito pequeno? Alguma intuição?"
   ]
  },
  {
   "cell_type": "markdown",
   "id": "6c9d0c5e",
   "metadata": {},
   "source": [
    "Quando $A$ é muito pequeno, ocorre uma convergência à 0 mais veloz, o que se assemelha ao sentido de learning rate, ou, taxa de aprendizado, onde, quando maior a taxa, maiores as atualizações do gradiente, levando a saltos \"maiores\" das atualizações de pesos, deste modo, como $A$ é inversamente proporcional ao peso que o gradiente terá na atualização de pesos, quando $A$ é muito pequeno, o gradiente dará saltos \"maiores\", assim, convergindo mais rapidamente para uma perda menor, entretanto, isto pode dificultar para o gradiente convergir para o mínimo global, ficando preso em mínimos locais ou não conseguindo uma boa convergência de saltos pequenos para encontrar o mínimo global. Deste modo, mesmo que um $A$ menor diminua o tanto de atualizações necessárias para um bom resultado, pode influenciar na função não convergir para um mínimo global ótimo."
   ]
  },
  {
   "cell_type": "markdown",
   "id": "56315ab2",
   "metadata": {},
   "source": [
    "# Exercício 3: \n",
    "\n",
    "Agora, vamos usar o método gradiente proximal acelerado: iniciando de `b0=z0` e $t_0=1$:\n",
    "\n",
    "\\begin{align*}\n",
    "z_{k+1}&:= P\\left(\n",
    "b_k - (1/L)\\nabla f(b_k), \\frac{\\lambda}{L}\\omega\n",
    "\\right),\\\\\n",
    "t_{k+1} &:= \\frac{1+\\sqrt{1+4t_k^2}}{2},\\\\\n",
    "b_{k+1} &:= z_{k+1} + \\frac{t_{k}-1}{t_{k+1}}(z_{k+1} - z_{k}).\n",
    "\\end{align*}\n",
    "\n",
    "Construa uma função ``linear_reg_acc(n,p,SlopeB,X,y,L,lambd,b0,t_final)`` onde, $1/L$ é o passo, ``lambd`` ($=\\lambda$) é o fator de penalização, ``b0`` é o ponto inicial, a variável ``t_final`` é o número de iterações e:\n",
    "\n",
    "1. a variável Booleana ``SlopeB`` vale ``False`` se a sequêndia $\\omega[j]\\equiv1$.\n",
    "2. a variável Booleana ``SlopeB`` vale ``True`` se $\\omega[j]=\\sqrt{\\log(2p/j)}$. \n",
    "\n",
    "A função deve retornar a sequência $k\\mapsto\\frac{1}{2n}\\sum_{i=1}^n(y_i-x_i^\\top b_k)^2$ e o último iterado $b_{\\text{t_final}}$. Use penalização\n",
    "\n",
    "$$\n",
    "\\lambda = \\text{sd}\\sqrt{\\frac{\\log p}{n}}.\n",
    "$$"
   ]
  },
  {
   "cell_type": "code",
   "execution_count": 11,
   "id": "9234db80",
   "metadata": {},
   "outputs": [],
   "source": [
    "#Escreva código aqui\n",
    "def linear_reg_acc(n:int, p:int, SlopeB:bool, X:np.ndarray, y:np.ndarray, L:float, lambd:float, b0:np.ndarray, t_final:int) -> list[list[float], np.ndarray]:\n",
    "\n",
    "    omega = np.ones(p)\n",
    "    if SlopeB:\n",
    "        for j in range(1, p + 1):\n",
    "            omega[j-1] = np.sqrt(np.log(2 * p / j))\n",
    "\n",
    "    z_k = b0.reshape(-1,1)\n",
    "    b = b0.reshape(-1,1)\n",
    "    t_k = 1\n",
    "    loss_history = list()\n",
    "\n",
    "    for each_epoch in range(t_final):\n",
    "        grad = -(1/n) * X.T @ (y - X @ b) + lambd * omega\n",
    "        \n",
    "        w = b - (1/L) * grad\n",
    "        w = np.array([i[0] for i in w.tolist()])\n",
    "\n",
    "        z_kn = sortedL1Prox(w, (lambd/L) * omega).reshape(-1, 1)\n",
    "\n",
    "        t_kn = (1 + np.sqrt(1 + 4 * t_k**2))/2\n",
    "\n",
    "        b = z_kn + ((t_k - 1)/t_kn) * (z_kn - z_k)\n",
    "\n",
    "        loss = (1/(2*n)) * la.norm(y - X @ b)**2\n",
    "        loss_history.append(loss)\n",
    "\n",
    "        z_k = z_kn\n",
    "        t_k = t_kn\n",
    "\n",
    "    return loss_history, b"
   ]
  },
  {
   "cell_type": "code",
   "execution_count": 12,
   "id": "5a42ddea",
   "metadata": {},
   "outputs": [
    {
     "data": {
      "text/plain": [
       "[<matplotlib.lines.Line2D at 0x7f5d09705e10>]"
      ]
     },
     "execution_count": 12,
     "metadata": {},
     "output_type": "execute_result"
    },
    {
     "data": {
      "image/png": "[encoded data removed]",
      "text/plain": [
       "<Figure size 640x480 with 1 Axes>"
      ]
     },
     "metadata": {},
     "output_type": "display_data"
    }
   ],
   "source": [
    "#Exemplo:\n",
    "b0 = np.asmatrix(np.zeros(p)).T\n",
    "t_final = 100\n",
    "SlopeB = False\n",
    "A = 4\n",
    "L = A * np.max(la.eigvalsh(X.T @ X / X.shape[0]))\n",
    "lambd = sd*np.sqrt(np.log(p)/n)      \n",
    "\n",
    "f2 = linear_reg_acc(n,p,SlopeB,X,y,L,lambd,b0,t_final)\n",
    "plt.plot(f2[0])"
   ]
  },
  {
   "cell_type": "markdown",
   "id": "ac7b38b5",
   "metadata": {},
   "source": [
    "# Exercício 4: \n",
    "\n",
    "Implemente num mesmo gráfico os erros $k\\mapsto\\frac{1}{2n}\\sum_{i=1}^n(y_i-x_i^\\top b_k)^2$ de cada método em função no número de iterações."
   ]
  },
  {
   "cell_type": "code",
   "execution_count": 13,
   "id": "5a7f7a23",
   "metadata": {},
   "outputs": [
    {
     "data": {
      "image/png": "[encoded data removed]",
      "text/plain": [
       "<Figure size 800x400 with 1 Axes>"
      ]
     },
     "metadata": {},
     "output_type": "display_data"
    }
   ],
   "source": [
    "#Escreva código aqui\n",
    "b0 = np.asmatrix(np.zeros(p)).T\n",
    "t_final = 100\n",
    "SlopeB = False\n",
    "A = 4\n",
    "L = A * np.max(la.eigvalsh(X.T @ X / X.shape[0]))\n",
    "lambd = sd*np.sqrt(np.log(p)/n)      \n",
    "\n",
    "f1 = linear_reg(n,p,SlopeB,X,y,L,lambd,b0,t_final)\n",
    "f2 = linear_reg_acc(n,p,SlopeB,X,y,L,lambd,b0,t_final)\n",
    "\n",
    "plt.figure(figsize=(8, 4))\n",
    "plt.plot(f1[0], label='ProxGrad')\n",
    "plt.plot(f2[0], label='Nesterov-ProxGrad')\n",
    "plt.yscale('log')\n",
    "plt.grid()\n",
    "plt.xlabel('Iteration')\n",
    "plt.ylabel('$\\\\frac{1}{2n}\\sum_{i=1}^n(y_i-x_i^Tb_k)^2$')\n",
    "plt.xlim(0, t_final)\n",
    "plt.legend()\n",
    "plt.show()"
   ]
  },
  {
   "cell_type": "markdown",
   "id": "0d2c5781",
   "metadata": {},
   "source": [
    "# Exercício 5:\n",
    "\n",
    "Refaça os exercícios com $\\sigma=1$ e $\\sigma=10$. Há alguma diferença quando $\\sigma=10$? Tem alguma intuição de porque isso acontece?"
   ]
  },
  {
   "cell_type": "code",
   "execution_count": null,
   "id": "a9960501",
   "metadata": {},
   "outputs": [],
   "source": []
  }
 ],
 "metadata": {
  "jupytext": {
   "cell_metadata_filter": "tags,name,-all",
   "main_language": "python",
   "notebook_metadata_filter": "-all"
  },
  "kernelspec": {
   "display_name": "Python 3 (ipykernel)",
   "language": "python",
   "name": "python3"
  },
  "language_info": {
   "codemirror_mode": {
    "name": "ipython",
    "version": 3
   },
   "file_extension": ".py",
   "mimetype": "text/x-python",
   "name": "python",
   "nbconvert_exporter": "python",
   "pygments_lexer": "ipython3",
   "version": "3.11.9"
  }
 },
 "nbformat": 4,
 "nbformat_minor": 5
}
