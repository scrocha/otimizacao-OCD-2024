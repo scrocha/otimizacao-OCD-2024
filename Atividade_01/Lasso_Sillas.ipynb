{
 "cells": [
  {
   "cell_type": "markdown",
   "id": "c94bbb2f",
   "metadata": {},
   "source": [
    "# Lasso and Slope estimators\n",
    "\n",
    "Neste projeto iremos implementar métodos iterativos para achar a solução do seguinte estimador de mínimos quadrados regularizado:\n",
    "\n",
    "$$\n",
    "\\min_{b\\in\\mathbb{R}^{p\\times1}}f(b)=\\frac{1}{2n}\\sum_{i=1}^n(y_i-x_i^\\top b)^2+\\lambda\\Vert b\\Vert_\\sharp, \n",
    "$$\n",
    "\n",
    "onde $(y_1,x_1), \\ldots, (y_n,x_n)$ é uma amostra de labels/features em $\\mathbb{R}\\times\\mathbb{R}^p$. Àcima, $\\lambda>0$ é um hyper-parâmetro positivo e \n",
    "\n",
    "$$\n",
    "\\Vert b\\Vert_\\sharp := \\sum_{j=1}^p\\omega[j]b_\\sharp[j],\n",
    "$$\n",
    "\n",
    "é a *norma Slope* do vetor $b$, onde $\\omega\\in\\mathbb{R}^{p\\times1}$ é um vetor de coordenadas positivas não-decrescente e $b_\\sharp[1]\\ge\\ldots,b_\\sharp[p]$ simboliza as coordenadas de $b$ postas em ordem não-crescente.  Precisamente, iremos considerar duas opcões:\n",
    "\n",
    "1. $\\omega[j]\\equiv1$, \n",
    "2. $\\omega[j]:=\\sqrt{\\log(2p/j)}$.\n",
    "\n",
    "<div hidden>\n",
    "$\\DeclareMathOperator{\\sign}{sign}$\n",
    "$\\DeclareMathOperator{\\argmin}{argmin}$\n",
    "</div>\n",
    "\n",
    "# Soft-Thresholding e ``sortedL1Prox()``\n",
    "\n",
    "Recorde que o passo de iteração do método gradiente proximal é calcular o *operador proximal* da norma $\\lambda\\Vert\\cdot\\Vert_\\sharp$:\n",
    "\n",
    "$$\n",
    "P(v,\\lambda\\omega)\\in\\argmin_{b\\in\\mathbb{R}^{p\\times1}}\\left\\{\n",
    "\\frac{1}{2}\\Vert v - b\\Vert_2^2 + \\lambda\\Vert b\\Vert_\\sharp\n",
    "\\right\\}.\n",
    "$$\n",
    "\n",
    "1. Suponha primeiro que $\\omega[j]\\equiv1$ então $P(v,\\lambda\\omega)$ tem fórmula explicíta. Dados $\\gamma\\in\\mathbb{R}$, defina\n",
    "\n",
    "$$\n",
    "S(\\gamma,\\lambda):=(\\gamma)\\cdot\\max\\{\\gamma-\\lambda,0\\}.\n",
    "$$\n",
    "\n",
    "Àcima, $(\\gamma)$ é o sinal de $\\gamma$. Então, para um vetor $v\\in\\mathbb{R}^{p\\times1}$,\n",
    "\n",
    "$$\n",
    "P(v,\\lambda\\omega)=[S(v[1],\\lambda) \\ldots S(v[p],\\lambda)]^\\top\n",
    "$$\n",
    "\n",
    "2. No caso do item 2, não existe uma fórmula explícita para $P(v,\\lambda\\omega)$. Mas podemos usar a função ``sortedL1Prox()`` do pacote ``SLOPE`` escrito em R. Veja [SLOPE](https://cran.r-project.org/web/packages/SLOPE/index.html), assim como introduções em [An intro to SLOPE](https://cran.r-project.org/web/packages/SLOPE/vignettes/introduction.html) e [Proximal Operators](https://cran.r-project.org/web/packages/SLOPE/vignettes/prox-algs.html). Em nossa notação, ``sortedL1Prox(v,lambda*omega)`` computa $P(v,\\lambda\\omega)$ para a sequência $\\omega$.\n",
    "\n",
    "Antes precisaremos criar um código para boter ler a função `sortedL1Prox()` em Python. Para tanto, precisaremos da biblioteca `rpy2`. Para instalá-lo chame `pip install rpy2` no terminal base de sua maquina. Em R, o pacote ``SLOPE`` precisa estar instalado e fazer o chamado ``library(SLOPE)``."
   ]
  },
  {
   "cell_type": "code",
   "execution_count": 1,
   "id": "38eaa4bb",
   "metadata": {},
   "outputs": [],
   "source": [
    "import matplotlib\n",
    "import numpy as np\n",
    "import scipy\n",
    "import seaborn as sns\n",
    "import matplotlib.pyplot as plt\n",
    "import numpy.linalg as la\n",
    "\n",
    "from rpy2 import robjects\n",
    "from rpy2.robjects.packages import importr"
   ]
  },
  {
   "cell_type": "code",
   "execution_count": 2,
   "id": "df860acc",
   "metadata": {},
   "outputs": [],
   "source": [
    "def sortedL1Prox(v,seq):\n",
    "    '''\n",
    "    Função que toma (v,seq) e retorna P(v,seq).\n",
    "    '''\n",
    "    # R representation in Python of (v,seq):\n",
    "    r_var = robjects.vectors.FloatVector(np.hstack((v,seq)))\n",
    "    # Python function to call R function sortedL1Prox()\n",
    "    func = robjects.r(\n",
    "    '''\n",
    "    library(SLOPE)\n",
    "    function(v,seq) sortedL1Prox(v,seq)\n",
    "    '''\n",
    "    )\n",
    "    # Calling Python function sortedL1Prox using R representation r_var:\n",
    "    return np.asarray(func(r_var[0:len(r_var)//2], r_var[len(r_var)//2:]))"
   ]
  },
  {
   "cell_type": "code",
   "execution_count": 3,
   "id": "fedd66d1",
   "metadata": {},
   "outputs": [
    {
     "data": {
      "text/plain": [
       "((10,), (10,))"
      ]
     },
     "execution_count": 3,
     "metadata": {},
     "output_type": "execute_result"
    }
   ],
   "source": [
    "#Exemplo:\n",
    "v = 90.0*np.arange(10)\n",
    "omega = np.ones(10)\n",
    "lambd = 2.5\n",
    "seq = lambd*omega\n",
    "v.shape, omega.shape"
   ]
  },
  {
   "cell_type": "code",
   "execution_count": 4,
   "id": "3c66bb2a",
   "metadata": {},
   "outputs": [
    {
     "data": {
      "text/plain": [
       "array([  0. ,  87.5, 177.5, 267.5, 357.5, 447.5, 537.5, 627.5, 717.5,\n",
       "       807.5])"
      ]
     },
     "execution_count": 4,
     "metadata": {},
     "output_type": "execute_result"
    }
   ],
   "source": [
    "sortedL1Prox(v,seq)"
   ]
  },
  {
   "cell_type": "markdown",
   "id": "3b2a20c5",
   "metadata": {},
   "source": [
    "# Exercício 1: Gerando dados\n",
    "\n",
    "1. Construa uma função ``data_genP(p,s,b_mag)`` que toma $p$, $s\\in[p]$ e número positivo ``b_mag`` e retorna vetor $p$-dimensional cujas $s$-ézimas primeiras coordenadas são $b_{\\text{mag}}$ e as outras são zero."
   ]
  },
  {
   "cell_type": "code",
   "execution_count": 5,
   "id": "01d440d9",
   "metadata": {},
   "outputs": [],
   "source": [
    "#Escreva código aqui\n",
    "def data_genP(p,s,b_mag):\n",
    "    x = np.zeros(p)\n",
    "    x[0: s] = b_mag\n",
    "    return x.reshape(-1,1)"
   ]
  },
  {
   "cell_type": "code",
   "execution_count": 6,
   "id": "8e74e583",
   "metadata": {},
   "outputs": [
    {
     "data": {
      "text/plain": [
       "array([[2.],\n",
       "       [2.],\n",
       "       [2.],\n",
       "       [2.],\n",
       "       [2.],\n",
       "       [2.],\n",
       "       [2.],\n",
       "       [2.],\n",
       "       [2.],\n",
       "       [2.],\n",
       "       [0.],\n",
       "       [0.],\n",
       "       [0.],\n",
       "       [0.],\n",
       "       [0.],\n",
       "       [0.],\n",
       "       [0.],\n",
       "       [0.],\n",
       "       [0.],\n",
       "       [0.],\n",
       "       [0.],\n",
       "       [0.],\n",
       "       [0.],\n",
       "       [0.],\n",
       "       [0.],\n",
       "       [0.],\n",
       "       [0.],\n",
       "       [0.],\n",
       "       [0.],\n",
       "       [0.],\n",
       "       [0.],\n",
       "       [0.],\n",
       "       [0.],\n",
       "       [0.],\n",
       "       [0.],\n",
       "       [0.],\n",
       "       [0.],\n",
       "       [0.],\n",
       "       [0.],\n",
       "       [0.],\n",
       "       [0.],\n",
       "       [0.],\n",
       "       [0.],\n",
       "       [0.],\n",
       "       [0.],\n",
       "       [0.],\n",
       "       [0.],\n",
       "       [0.],\n",
       "       [0.],\n",
       "       [0.],\n",
       "       [0.],\n",
       "       [0.],\n",
       "       [0.],\n",
       "       [0.],\n",
       "       [0.],\n",
       "       [0.],\n",
       "       [0.],\n",
       "       [0.],\n",
       "       [0.],\n",
       "       [0.],\n",
       "       [0.],\n",
       "       [0.],\n",
       "       [0.],\n",
       "       [0.],\n",
       "       [0.],\n",
       "       [0.],\n",
       "       [0.],\n",
       "       [0.],\n",
       "       [0.],\n",
       "       [0.],\n",
       "       [0.],\n",
       "       [0.],\n",
       "       [0.],\n",
       "       [0.],\n",
       "       [0.],\n",
       "       [0.],\n",
       "       [0.],\n",
       "       [0.],\n",
       "       [0.],\n",
       "       [0.],\n",
       "       [0.],\n",
       "       [0.],\n",
       "       [0.],\n",
       "       [0.],\n",
       "       [0.],\n",
       "       [0.],\n",
       "       [0.],\n",
       "       [0.],\n",
       "       [0.],\n",
       "       [0.],\n",
       "       [0.],\n",
       "       [0.],\n",
       "       [0.],\n",
       "       [0.],\n",
       "       [0.],\n",
       "       [0.],\n",
       "       [0.],\n",
       "       [0.],\n",
       "       [0.],\n",
       "       [0.]])"
      ]
     },
     "execution_count": 6,
     "metadata": {},
     "output_type": "execute_result"
    }
   ],
   "source": [
    "#Exemplo:\n",
    "p=100\n",
    "s=10\n",
    "b_mag=2\n",
    "b_true = data_genP(p,s,b_mag)\n",
    "b_true"
   ]
  },
  {
   "cell_type": "markdown",
   "id": "ce401f92",
   "metadata": {},
   "source": [
    "2. Construa uma função ``data_genXe(n,p,b_true,sd)`` que toma $n$, $p$, $b_{\\text{true}}$ e um número positivo ``sd`` e constrói uma matriz de dados ``X`` $n\\times p$ cujas linhas são vetores $x_i^\\top$ normais padrão $p$-dimensionais independentes e o vetor ``y`` de dimensão $n$ cujas coordenadas satisfazem\n",
    "\n",
    "$$\n",
    "y_i = x_i^\\top b_{\\text{true}} + \\text{sd}\\cdot\\epsilon_i,\n",
    "$$\n",
    "onde $\\{\\epsilon_i\\}_{i=1}^n$ é uma sequência iid de normais padrão. "
   ]
  },
  {
   "cell_type": "code",
   "execution_count": 242,
   "id": "4d02da4b",
   "metadata": {},
   "outputs": [],
   "source": [
    "#Escreva código aqui"
   ]
  },
  {
   "cell_type": "code",
   "execution_count": 255,
   "id": "b1d5e827",
   "metadata": {},
   "outputs": [
    {
     "data": {
      "text/plain": [
       "(array([[-6.65264057e-01,  6.23537928e-01, -6.36622992e-01,\n",
       "          8.28154522e-02,  5.88459285e-01, -2.69669980e-01,\n",
       "         -4.45326460e-01, -2.59374182e-01, -8.86146024e-01,\n",
       "          8.31104167e-01, -5.02108482e-01, -1.37606208e+00,\n",
       "          1.01821019e+00,  3.77504675e-01,  3.85533940e-01,\n",
       "         -1.10049320e+00, -9.57887959e-02,  2.14612498e+00,\n",
       "          1.02518489e-01,  1.21905294e+00, -1.88994844e-01,\n",
       "          6.96049640e-03,  2.53699728e-01, -1.08173172e-01,\n",
       "          4.07080448e-01,  1.16055483e+00, -2.74724788e-01,\n",
       "         -1.84104683e+00, -4.08137285e-01, -9.54902865e-01,\n",
       "          8.16043484e-01,  6.36109516e-01, -1.15070154e-01,\n",
       "          5.76344621e-02, -8.13373633e-01,  1.66385758e+00,\n",
       "         -5.24838588e-02, -4.82032766e-01, -1.60587832e+00,\n",
       "          1.60092794e+00,  1.33498319e+00, -1.05823529e+00,\n",
       "         -6.88818557e-01, -4.72669378e-01, -1.01618962e+00,\n",
       "          1.30020521e+00,  9.29841601e-01,  1.30244423e+00,\n",
       "          2.42347800e-01, -2.92232850e-01,  7.92618431e-02,\n",
       "          1.57536746e-01, -2.41466037e-01,  8.27494608e-01,\n",
       "         -5.04893879e-01,  1.43581790e+00,  5.29080036e-01,\n",
       "         -3.46171990e-02, -7.69214656e-01, -8.55598870e-01,\n",
       "         -5.93803071e-01, -1.15216361e+00,  3.87244113e-01,\n",
       "          3.79088558e-01,  9.52335884e-02, -1.00206512e+00,\n",
       "          9.03158034e-01, -5.06016398e-01, -1.46386882e+00,\n",
       "          7.17365158e-01,  9.96937028e-01,  3.09096229e-01,\n",
       "         -6.84738558e-01,  1.97194153e-01, -5.61881562e-01,\n",
       "         -7.09348704e-01, -1.46264121e+00, -6.00706731e-02,\n",
       "         -2.28833794e+00, -2.57263884e-01,  3.05192612e-01,\n",
       "          1.67796980e+00, -7.95924282e-01, -4.38886753e-01,\n",
       "         -1.03594308e+00,  3.76327195e-01,  1.42874979e+00,\n",
       "         -2.79250168e-01, -3.18398909e-01,  1.08953683e-01,\n",
       "          1.81988386e+00, -4.25341563e-02, -1.94515337e+00,\n",
       "         -1.97845621e+00, -2.50222272e-01,  8.66305697e-01,\n",
       "         -1.74766311e+00,  3.52278562e-01, -6.53791252e-01,\n",
       "          2.77198537e-02],\n",
       "        [-7.81765567e-01, -7.81606941e-03, -2.67440776e-01,\n",
       "          1.65843335e-01, -5.21790683e-01,  6.20617866e-01,\n",
       "          2.67278051e+00, -2.40746932e+00,  1.23280293e+00,\n",
       "          6.38975430e-01,  9.79862125e-02,  1.28903593e-01,\n",
       "          9.21058173e-01,  1.03561608e+00,  6.69944453e-01,\n",
       "          7.78254698e-01,  4.69056355e-01, -3.23850371e-02,\n",
       "         -2.03432209e+00,  1.36205826e+00,  1.86149513e+00,\n",
       "          2.85544945e-01, -5.05174742e-01, -4.83029869e-01,\n",
       "          1.20956062e+00, -8.92605604e-01, -1.27927449e+00,\n",
       "         -4.63859352e-01,  5.06987029e-02, -8.90386122e-01,\n",
       "          1.44825144e+00, -1.54265131e-02,  2.02108162e+00,\n",
       "          3.14283896e+00,  5.84934688e-01, -5.53322964e-01,\n",
       "          4.41135987e-01, -4.78731669e-01,  8.56240345e-01,\n",
       "         -2.89096134e-01, -9.54799388e-02, -1.65048049e-01,\n",
       "         -1.00246274e+00,  1.12779775e+00,  5.47653929e-01,\n",
       "         -6.23544303e-01,  7.13386585e-01,  1.50309350e+00,\n",
       "          7.23886692e-01,  1.12518381e+00, -3.51876288e-02,\n",
       "         -7.62686005e-01,  1.70495110e-01, -8.93403383e-01,\n",
       "          2.23359287e-01, -1.79860438e-01,  9.07135538e-01,\n",
       "          8.20904933e-04, -3.34481417e-01, -1.46894657e-01,\n",
       "         -7.55222600e-02, -7.13422744e-01, -1.82734251e+00,\n",
       "         -5.80563573e-01,  1.02707407e+00, -3.80460305e-01,\n",
       "          1.18053738e+00,  4.72501074e-01,  4.65697961e-01,\n",
       "         -7.45562534e-01,  5.13368537e-01,  2.63413240e+00,\n",
       "         -7.61724573e-01,  7.84650843e-01,  5.69044531e-01,\n",
       "          7.84990650e-01,  1.91942018e+00, -8.84714659e-01,\n",
       "         -8.85182612e-01, -1.79786787e+00,  3.65219858e-01,\n",
       "          3.93178050e-01,  9.43491521e-01, -4.81339563e-01,\n",
       "         -1.01416959e+00, -5.74449601e-01, -7.41028855e-01,\n",
       "         -5.99853878e-01, -4.37069569e-01,  2.05771674e-01,\n",
       "         -5.17136195e-01, -1.26717558e+00, -3.90076601e-01,\n",
       "         -6.04711507e-01, -1.49592136e-01, -1.78781440e+00,\n",
       "         -7.89444157e-01,  2.41503666e+00,  1.25045073e-01,\n",
       "          4.47080823e-01],\n",
       "        [ 7.34199380e-01, -3.27659741e-01, -7.87039529e-01,\n",
       "          4.64793811e-02, -2.00279867e-01,  4.95843827e-01,\n",
       "          6.71538745e-01,  9.48563927e-01, -7.66343802e-01,\n",
       "          7.58154928e-01, -1.28440688e+00, -1.79870573e+00,\n",
       "         -3.58906020e+00, -1.37537389e+00, -8.73178062e-01,\n",
       "          1.20158366e+00,  5.97130549e-01, -3.58989039e-01,\n",
       "          5.54900942e-01,  9.59807865e-02, -5.48499302e-01,\n",
       "         -8.98152060e-01,  1.56180661e+00, -1.28056816e+00,\n",
       "         -1.23112762e-01,  9.15457127e-01, -9.34858889e-01,\n",
       "         -5.79718244e-02, -2.03350565e+00,  2.06783059e+00,\n",
       "         -1.12273873e-01,  4.94946877e-01,  4.89401866e-02,\n",
       "         -3.29153841e-01, -2.28106789e-01, -2.06948358e-01,\n",
       "         -2.87858138e-01,  1.45045892e-01,  3.09531188e-01,\n",
       "          8.45843767e-01, -1.37866084e+00,  1.41397279e+00,\n",
       "          4.48697742e-01, -2.02682310e+00,  3.01535471e-02,\n",
       "          5.91457012e-01, -9.78751184e-01,  5.24273106e-01,\n",
       "         -3.92002841e-01,  1.03020241e-01, -2.26567567e+00,\n",
       "          7.81292432e-01,  7.50591756e-01,  1.42884622e+00,\n",
       "         -1.12683782e-01,  6.34289118e-01, -3.32771533e-01,\n",
       "          8.94551942e-01, -5.20221619e-01,  2.53722562e+00,\n",
       "         -2.08128875e-01,  2.99445691e-01,  1.01963652e-01,\n",
       "          8.69015714e-02,  9.39973007e-01,  4.68664302e-01,\n",
       "         -3.16965005e-02,  6.15251717e-01,  1.60367358e-01,\n",
       "         -2.16468800e-01, -1.93450094e-01, -2.95447929e-01,\n",
       "          9.13522407e-01, -9.05714138e-01,  5.70328012e-01,\n",
       "          1.71304131e+00, -2.26419883e-01, -3.88918354e-01,\n",
       "         -3.22994573e-01,  1.29539541e-01,  7.99250064e-01,\n",
       "         -1.33343690e-01, -1.04930927e+00, -1.87440061e+00,\n",
       "         -4.04859461e-01,  1.13749712e-01,  1.75597887e+00,\n",
       "         -6.55925826e-01,  2.15921131e+00,  6.02548072e-01,\n",
       "         -1.21289783e+00,  1.90715443e+00,  7.60621348e-02,\n",
       "          2.18886630e-01,  8.22000071e-01,  1.02775883e+00,\n",
       "         -1.83101154e+00, -1.55318155e-01,  1.05643506e+00,\n",
       "         -4.54317609e-01],\n",
       "        [-6.20482484e-01,  1.42731088e-01, -1.22066051e+00,\n",
       "         -7.32768173e-01,  7.50378546e-02, -1.25755780e+00,\n",
       "         -3.22391109e-01, -1.30318862e+00,  8.21188052e-02,\n",
       "         -8.37317471e-01,  1.74767005e-01,  2.23285582e+00,\n",
       "         -1.39854918e+00, -6.94574798e-01,  3.28711927e-01,\n",
       "         -4.54270558e-01,  1.54415674e+00,  9.02638343e-01,\n",
       "         -2.03293333e+00,  1.01156081e+00, -8.44034514e-01,\n",
       "         -1.95438072e+00, -5.24748857e-01, -3.61596161e-01,\n",
       "          3.55637337e-01, -2.60959818e+00,  6.32751925e-01,\n",
       "          5.64847364e-01,  9.08048166e-01,  1.53083964e+00,\n",
       "          2.17688220e+00,  5.21672961e-01, -2.77227876e-01,\n",
       "          6.14513819e-02,  6.78381176e-02,  1.11670693e+00,\n",
       "         -1.39347592e+00,  7.22019166e-02,  7.29468465e-01,\n",
       "         -1.53169197e+00,  1.33656537e+00, -1.27241300e+00,\n",
       "         -1.26311324e+00,  6.78211602e-01,  5.86185941e-01,\n",
       "          8.08476994e-01,  2.86385279e+00,  8.10258361e-01,\n",
       "          5.23752244e-01, -1.75905279e-01, -2.40612756e-01,\n",
       "         -2.29335641e+00,  1.08017004e+00, -1.36358388e+00,\n",
       "          3.73827291e-01, -4.03300949e-01, -7.21885956e-01,\n",
       "          1.74951025e-01, -2.70395330e+00, -9.32064441e-01,\n",
       "          7.45840666e-01, -1.71737181e-01, -1.27003439e+00,\n",
       "          1.08447762e+00,  5.59294473e-01,  4.22423367e-01,\n",
       "          5.57878268e-01, -1.59971296e+00, -1.05287404e+00,\n",
       "         -5.59023026e-01, -3.52219479e-02, -8.80037534e-01,\n",
       "          1.09585024e+00, -5.46711769e-01,  8.97581148e-01,\n",
       "          8.52984280e-01, -3.69520951e-02,  1.07359621e+00,\n",
       "          5.37152904e-01,  6.94112692e-01, -3.16960464e-01,\n",
       "         -1.37022327e+00, -2.12080510e-02,  4.67677960e-01,\n",
       "         -1.85448361e-01,  1.74022467e+00, -5.34939558e-01,\n",
       "          9.91873267e-01,  6.18959025e-01, -6.02145610e-01,\n",
       "         -4.07619599e-01,  9.60934763e-01,  9.41800427e-01,\n",
       "         -1.98445398e-01, -8.18916712e-01, -6.85941797e-01,\n",
       "         -1.80423322e+00,  7.31520084e-01, -5.27053350e-01,\n",
       "         -9.64544992e-01],\n",
       "        [-8.48253147e-01, -3.76614506e-01, -1.63434539e+00,\n",
       "          9.28178510e-01, -7.77080096e-01, -3.69966660e+00,\n",
       "          1.22304004e+00,  1.62560928e+00,  7.68450013e-01,\n",
       "          2.68595108e-01, -3.48767801e-01, -1.70104114e+00,\n",
       "          1.55360838e+00,  8.46903024e-01,  2.26100542e-01,\n",
       "          4.87359005e-01, -2.57491009e-01, -9.27352931e-01,\n",
       "          1.55566912e+00, -7.25392880e-01, -5.58222679e-01,\n",
       "         -9.13544805e-01,  1.07317131e+00,  1.79904341e+00,\n",
       "         -2.82133017e-01, -1.37210537e+00,  5.84234903e-01,\n",
       "          2.93368653e-02, -9.10331602e-01, -1.30636916e+00,\n",
       "          5.50443557e-01, -1.28371499e+00,  5.66255497e-01,\n",
       "          5.48190635e-02, -1.98264045e-01,  1.06922377e+00,\n",
       "         -3.13656824e-01, -5.43582345e-01, -8.20724464e-01,\n",
       "          3.15930790e-01,  5.71029822e-02, -1.10601274e+00,\n",
       "         -5.41685135e-01,  1.45042605e+00,  2.25492224e-01,\n",
       "          7.52500885e-01, -1.33389030e+00,  1.32170621e-01,\n",
       "          5.59665600e-01, -1.05065732e-01,  4.12000531e-01,\n",
       "         -1.11864108e-01, -7.35374835e-01, -9.13446882e-03,\n",
       "         -1.87765122e+00, -4.09139111e-01,  2.35898468e+00,\n",
       "         -4.41102370e-01, -2.64653718e-01,  2.57147434e-01,\n",
       "         -8.42510144e-01,  7.31090271e-01, -5.19198294e-01,\n",
       "          6.08469330e-01, -4.30275501e-01, -8.10565398e-01,\n",
       "         -4.86670299e-02,  4.52471206e-01,  1.15161682e+00,\n",
       "          1.41820883e+00, -2.15050288e-01, -4.55629699e-01,\n",
       "         -6.25658829e-01,  5.71948337e-01, -2.77522234e+00,\n",
       "         -7.60039300e-01,  5.55249491e-01,  1.76017358e+00,\n",
       "         -9.70001981e-01, -1.42076757e-02,  3.85913890e-01,\n",
       "          1.20715673e+00,  1.79274037e+00, -2.22395700e+00,\n",
       "          1.57277972e+00, -1.62147550e-01, -5.15330309e-02,\n",
       "         -5.93151506e-01,  9.21111356e-01, -6.10360495e-02,\n",
       "          6.51745541e-01, -7.18090667e-02,  1.14471262e+00,\n",
       "          1.09338965e+00,  3.04207301e-01,  1.69412380e+00,\n",
       "         -9.44695571e-01, -1.86206423e+00,  1.72180559e+00,\n",
       "         -8.69004865e-01]]),\n",
       " matrix([[ -2.20558749],\n",
       "         [  2.63182979],\n",
       "         [  3.15375266],\n",
       "         [-12.02074127],\n",
       "         [ -5.05794295]]))"
      ]
     },
     "execution_count": 255,
     "metadata": {},
     "output_type": "execute_result"
    }
   ],
   "source": [
    "#Exemplo:\n",
    "sd = 0.1\n",
    "\n",
    "b_true = data_genP(p,s,b_mag)\n",
    "X,y = data_genXe(n,p,b_true,sd)\n",
    "X,y"
   ]
  },
  {
   "cell_type": "markdown",
   "id": "ac8e3328",
   "metadata": {},
   "source": [
    "# Exercício 2: \n",
    "\n",
    "Vamos usar o método gradiente proximal para resolver o problema àcima:\n",
    "\n",
    "\\begin{align*}\n",
    "w_{k+1} &:= b_k - \\frac{1}{L}\\nabla f(b_k),\\\\\n",
    "b_{k+1} &:= P\\left(w_{k+1},\\frac{\\lambda}{L}\\omega\\right).\n",
    "\\end{align*}\n",
    "\n",
    "Construa uma função ``linear_reg(n,p,SlopeB,X,y,L,lambd,b0,t_final)`` onde, $1/L$ é o passo, ``lambd`` ($=\\lambda$) é o fator de penalização, ``b0`` é o ponto inicial, a variável ``t_final`` é o número de iterações e:\n",
    "\n",
    "1. a variável Booleana ``SlopeB`` vale ``False`` se a sequêndia $\\omega[j]\\equiv1$.\n",
    "2. a variável Booleana ``SlopeB`` vale ``True`` se $\\omega[j]=\\sqrt{\\log(2p/j)}$. \n",
    "\n",
    "A função deve retornar a sequência $k\\mapsto\\frac{1}{2n}\\sum_{i=1}^n(y_i-x_i^\\top b_k)^2$ e o último iterado $b_{\\text{t_final}}$. Use penalização\n",
    "\n",
    "$$\n",
    "\\lambda = \\text{sd}\\sqrt{\\frac{\\log p}{n}}, \n",
    "$$\n",
    "\n",
    "e passo $1/L$ com\n",
    "\n",
    "$$\n",
    "L = A\\lambda_{\\max}\\left(\\frac{X^\\top X}{n}\\right),\n",
    "$$ \n",
    "para algum ajuste fino $A>0$. "
   ]
  },
  {
   "cell_type": "code",
   "execution_count": 256,
   "id": "b9a5a76c",
   "metadata": {
    "lines_to_next_cell": 0
   },
   "outputs": [],
   "source": [
    "#Escreva código aqui"
   ]
  },
  {
   "cell_type": "code",
   "execution_count": 257,
   "id": "cb07d619",
   "metadata": {
    "scrolled": true
   },
   "outputs": [
    {
     "data": {
      "text/plain": [
       "[<matplotlib.lines.Line2D at 0x28625cda0>]"
      ]
     },
     "execution_count": 257,
     "metadata": {},
     "output_type": "execute_result"
    },
    {
     "data": {
      "image/png": "[encoded data removed]",
      "text/plain": [
       "<Figure size 640x480 with 1 Axes>"
      ]
     },
     "metadata": {},
     "output_type": "display_data"
    }
   ],
   "source": [
    "#Exemplo:\n",
    "b0 = np.asmatrix(np.zeros(p)).T\n",
    "t_final = 100\n",
    "SlopeB = False\n",
    "A = 4\n",
    "L = A*np.max(la.eigvalsh(X.T @ X / X.shape[0]))\n",
    "lambd = sd*np.sqrt(np.log(p)/n)      \n",
    "\n",
    "f1 = linear_reg(n,p,SlopeB,X,y,L,lambd,b0,t_final)\n",
    "plt.plot(f1[0])"
   ]
  },
  {
   "cell_type": "markdown",
   "id": "c8a7fb30",
   "metadata": {},
   "source": [
    "# Pergunta: \n",
    "\n",
    "Varie $A$. O que acontece se $A$ for muito pequeno? Alguma intuição?"
   ]
  },
  {
   "cell_type": "markdown",
   "id": "56315ab2",
   "metadata": {},
   "source": [
    "# Exercício 3: \n",
    "\n",
    "Agora, vamos usar o método gradiente proximal acelerado: iniciando de `b0=z0` e $t_0=1$:\n",
    "\n",
    "\\begin{align*}\n",
    "z_{k+1}&:= P\\left(\n",
    "b_k - (1/L)\\nabla f(b_k), \\frac{\\lambda}{L}\\omega\n",
    "\\right),\\\\\n",
    "t_{k+1} &:= \\frac{1+\\sqrt{1+4t_k^2}}{2},\\\\\n",
    "b_{k+1} &:= z_{k+1} + \\frac{t_{k}-1}{t_{k+1}}(z_{k+1} - z_{k}).\n",
    "\\end{align*}\n",
    "\n",
    "Construa uma função ``linear_reg_acc(n,p,SlopeB,X,y,L,lambd,b0,t_final)`` onde, $1/L$ é o passo, ``lambd`` ($=\\lambda$) é o fator de penalização, ``b0`` é o ponto inicial, a variável ``t_final`` é o número de iterações e:\n",
    "\n",
    "1. a variável Booleana ``SlopeB`` vale ``False`` se a sequêndia $\\omega[j]\\equiv1$.\n",
    "2. a variável Booleana ``SlopeB`` vale ``True`` se $\\omega[j]=\\sqrt{\\log(2p/j)}$. \n",
    "\n",
    "A função deve retornar a sequência $k\\mapsto\\frac{1}{2n}\\sum_{i=1}^n(y_i-x_i^\\top b_k)^2$ e o último iterado $b_{\\text{t_final}}$. Use penalização\n",
    "\n",
    "$$\n",
    "\\lambda = \\text{sd}\\sqrt{\\frac{\\log p}{n}}.\n",
    "$$"
   ]
  },
  {
   "cell_type": "code",
   "execution_count": 258,
   "id": "9234db80",
   "metadata": {},
   "outputs": [],
   "source": [
    "#Escreva código aqui"
   ]
  },
  {
   "cell_type": "code",
   "execution_count": 259,
   "id": "5a42ddea",
   "metadata": {},
   "outputs": [
    {
     "data": {
      "text/plain": [
       "[<matplotlib.lines.Line2D at 0x28629fb60>]"
      ]
     },
     "execution_count": 259,
     "metadata": {},
     "output_type": "execute_result"
    },
    {
     "data": {
      "image/png": "[encoded data removed]",
      "text/plain": [
       "<Figure size 640x480 with 1 Axes>"
      ]
     },
     "metadata": {},
     "output_type": "display_data"
    }
   ],
   "source": [
    "#Exemplo:\n",
    "b0 = np.asmatrix(np.zeros(p)).T\n",
    "t_final = 100\n",
    "SlopeB = False\n",
    "A = 4\n",
    "L = A * np.max(la.eigvalsh(X.T @ X / X.shape[0]))\n",
    "lambd = sd*np.sqrt(np.log(p)/n)      \n",
    "\n",
    "f2 = linear_reg_acc(n,p,SlopeB,X,y,L,lambd,b0,t_final)\n",
    "plt.plot(f2[0])"
   ]
  },
  {
   "cell_type": "markdown",
   "id": "ac7b38b5",
   "metadata": {},
   "source": [
    "# Exercício 4: \n",
    "\n",
    "Implemente num mesmo gráfico os erros $k\\mapsto\\frac{1}{2n}\\sum_{i=1}^n(y_i-x_i^\\top b_k)^2$ de cada método em função no número de iterações."
   ]
  },
  {
   "cell_type": "code",
   "execution_count": 260,
   "id": "5a7f7a23",
   "metadata": {},
   "outputs": [
    {
     "data": {
      "text/plain": [
       "<matplotlib.legend.Legend at 0x2863050a0>"
      ]
     },
     "execution_count": 260,
     "metadata": {},
     "output_type": "execute_result"
    },
    {
     "data": {
      "image/png": "[encoded data removed]",
      "text/plain": [
       "<Figure size 800x600 with 1 Axes>"
      ]
     },
     "metadata": {},
     "output_type": "display_data"
    }
   ],
   "source": [
    "#Escreva código aqui"
   ]
  },
  {
   "cell_type": "markdown",
   "id": "0d2c5781",
   "metadata": {},
   "source": [
    "# Exercício 5:\n",
    "\n",
    "Refaça os exercícios com $\\sigma=1$ e $\\sigma=10$. Há alguma diferença quando $\\sigma=10$? Tem alguma intuição de porque isso acontece?"
   ]
  },
  {
   "cell_type": "code",
   "execution_count": null,
   "id": "a9960501",
   "metadata": {},
   "outputs": [],
   "source": []
  }
 ],
 "metadata": {
  "jupytext": {
   "cell_metadata_filter": "tags,name,-all",
   "main_language": "python",
   "notebook_metadata_filter": "-all"
  },
  "kernelspec": {
   "display_name": "Python 3 (ipykernel)",
   "language": "python",
   "name": "python3"
  },
  "language_info": {
   "codemirror_mode": {
    "name": "ipython",
    "version": 3
   },
   "file_extension": ".py",
   "mimetype": "text/x-python",
   "name": "python",
   "nbconvert_exporter": "python",
   "pygments_lexer": "ipython3",
   "version": "3.11.9"
  }
 },
 "nbformat": 4,
 "nbformat_minor": 5
}
